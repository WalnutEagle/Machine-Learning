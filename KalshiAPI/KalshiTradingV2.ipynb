{
 "cells": [
  {
   "cell_type": "code",
   "execution_count": 1,
   "metadata": {},
   "outputs": [
    {
     "name": "stdout",
     "output_type": "stream",
     "text": [
      "Defaulting to user installation because normal site-packages is not writeableNote: you may need to restart the kernel to use updated packages.\n",
      "\n",
      "Requirement already satisfied: kalshi-python in c:\\users\\adk13\\appdata\\local\\packages\\pythonsoftwarefoundation.python.3.12_qbz5n2kfra8p0\\localcache\\local-packages\\python312\\site-packages (2.0.0)\n",
      "Requirement already satisfied: urllib3>=1.15 in c:\\users\\adk13\\appdata\\local\\packages\\pythonsoftwarefoundation.python.3.12_qbz5n2kfra8p0\\localcache\\local-packages\\python312\\site-packages (from kalshi-python) (2.2.1)\n",
      "Requirement already satisfied: six>=1.10 in c:\\users\\adk13\\appdata\\local\\packages\\pythonsoftwarefoundation.python.3.12_qbz5n2kfra8p0\\localcache\\local-packages\\python312\\site-packages (from kalshi-python) (1.16.0)\n",
      "Requirement already satisfied: certifi in c:\\users\\adk13\\appdata\\local\\packages\\pythonsoftwarefoundation.python.3.12_qbz5n2kfra8p0\\localcache\\local-packages\\python312\\site-packages (from kalshi-python) (2024.2.2)\n",
      "Requirement already satisfied: python-dateutil in c:\\users\\adk13\\appdata\\local\\packages\\pythonsoftwarefoundation.python.3.12_qbz5n2kfra8p0\\localcache\\local-packages\\python312\\site-packages (from kalshi-python) (2.9.0.post0)\n"
     ]
    }
   ],
   "source": [
    "pip install kalshi-python"
   ]
  },
  {
   "cell_type": "code",
   "execution_count": 2,
   "metadata": {},
   "outputs": [],
   "source": [
    "# Welcome to the Kalshi REST v2 Starter Code!\n",
    "\n",
    "# pypi client: recommended for more advanced programmers\n",
    "import kalshi_python\n",
    "from pprint import pprint\n",
    "import numpy as np\n",
    "# starter client: recommended for all levels of programming experience (what this client is implemented using)\n",
    "from KalshiClientsBaseV2 import ExchangeClient\n",
    "import time\n",
    "import json\n",
    "import uuid\n",
    "from kalshi_python.models import *\n",
    "from datetime import datetime"
   ]
  },
  {
   "cell_type": "code",
   "execution_count": 4,
   "metadata": {},
   "outputs": [
    {
     "name": "stdout",
     "output_type": "stream",
     "text": [
      "{'exchange_active': True, 'trading_active': True}\n"
     ]
    }
   ],
   "source": [
    "# To start off, you need to have created an account at https://kalshi.com (Production) \n",
    "# or an account on the Demo https://demo.kalshi.co/\n",
    "\n",
    "# prod_email = \"\" # change these to be your personal credentials\n",
    "# prod_password = \"\" # (for extra security, we recommend using a config file)\n",
    "\n",
    "demo_email = \"adk1361@bu.edu\" # change these to be your personal credentials\n",
    "demo_password = \"Cascs542@123\" # (for extra security, we recommend using a config file)\n",
    "\n",
    "# for prod\n",
    "# prod_api_base = \"https://trading-api.kalshi.com/trade-api/v2\"\n",
    "\n",
    "# for demo\n",
    "demo_api_base = \"https://demo-api.kalshi.co/trade-api/v2\"\n",
    "\n",
    "## if wanting to test in prod:\n",
    "# exchange_client = ExchangeClient(exchange_api_base=prod_api_base, email = prod_email, password = prod_password)\n",
    "\n",
    "## if wanting to test in demo\n",
    "exchange_client = ExchangeClient(exchange_api_base = demo_api_base, email = demo_email, password = demo_password)\n",
    "\n",
    "# first we will check on the exchange status to confirm you are properly connected...\n",
    "print(exchange_client.get_exchange_status())"
   ]
  },
  {
   "cell_type": "code",
   "execution_count": 5,
   "metadata": {},
   "outputs": [
    {
     "name": "stdout",
     "output_type": "stream",
     "text": [
      "Exchange status response: \n",
      "{'exchange_active': True, 'trading_active': True}\n"
     ]
    }
   ],
   "source": [
    "config = kalshi_python.Configuration()\n",
    "# Comment the line below to use production\n",
    "config.host = 'https://demo-api.kalshi.co/trade-api/v2'\n",
    "\n",
    "# Create an API configuration passing your credentials.\n",
    "# Use this if you want the kalshi_python sdk to manage the authentication for you.\n",
    "kalshi_api = kalshi_python.ApiInstance(\n",
    "    email='sgoyal15@bu.edu',\n",
    "    password='Welcome123@',\n",
    "    configuration=config,\n",
    ")\n",
    "\n",
    "# Checks if the exchange is available.\n",
    "exchangeStatus = kalshi_api.get_exchange_status()\n",
    "print('Exchange status response: ')\n",
    "print(exchangeStatus)"
   ]
  },
  {
   "cell_type": "code",
   "execution_count": 7,
   "metadata": {},
   "outputs": [
    {
     "name": "stdout",
     "output_type": "stream",
     "text": [
      "Defaulting to user installation because normal site-packages is not writeable\n",
      "Collecting pandas\n",
      "  Downloading pandas-2.2.1-cp312-cp312-win_amd64.whl.metadata (19 kB)\n",
      "Requirement already satisfied: numpy<2,>=1.26.0 in c:\\users\\adk13\\appdata\\local\\packages\\pythonsoftwarefoundation.python.3.12_qbz5n2kfra8p0\\localcache\\local-packages\\python312\\site-packages (from pandas) (1.26.4)\n",
      "Requirement already satisfied: python-dateutil>=2.8.2 in c:\\users\\adk13\\appdata\\local\\packages\\pythonsoftwarefoundation.python.3.12_qbz5n2kfra8p0\\localcache\\local-packages\\python312\\site-packages (from pandas) (2.9.0.post0)\n",
      "Collecting pytz>=2020.1 (from pandas)\n",
      "  Downloading pytz-2024.1-py2.py3-none-any.whl.metadata (22 kB)\n",
      "Collecting tzdata>=2022.7 (from pandas)\n",
      "  Downloading tzdata-2024.1-py2.py3-none-any.whl.metadata (1.4 kB)\n",
      "Requirement already satisfied: six>=1.5 in c:\\users\\adk13\\appdata\\local\\packages\\pythonsoftwarefoundation.python.3.12_qbz5n2kfra8p0\\localcache\\local-packages\\python312\\site-packages (from python-dateutil>=2.8.2->pandas) (1.16.0)\n",
      "Downloading pandas-2.2.1-cp312-cp312-win_amd64.whl (11.5 MB)\n",
      "   ---------------------------------------- 0.0/11.5 MB ? eta -:--:--\n",
      "   ---------------------------------------- 0.1/11.5 MB 3.3 MB/s eta 0:00:04\n",
      "   -- ------------------------------------- 0.7/11.5 MB 8.3 MB/s eta 0:00:02\n",
      "   --------- ------------------------------ 2.7/11.5 MB 21.3 MB/s eta 0:00:01\n",
      "   -------------------- ------------------- 5.9/11.5 MB 34.2 MB/s eta 0:00:01\n",
      "   ------------------------------ --------- 8.7/11.5 MB 42.7 MB/s eta 0:00:01\n",
      "   ---------------------------------------  11.5/11.5 MB 59.8 MB/s eta 0:00:01\n",
      "   ---------------------------------------- 11.5/11.5 MB 50.4 MB/s eta 0:00:00\n",
      "Downloading pytz-2024.1-py2.py3-none-any.whl (505 kB)\n",
      "   ---------------------------------------- 0.0/505.5 kB ? eta -:--:--\n",
      "   ---------------------------------------- 505.5/505.5 kB ? eta 0:00:00\n",
      "Downloading tzdata-2024.1-py2.py3-none-any.whl (345 kB)\n",
      "   ---------------------------------------- 0.0/345.4 kB ? eta -:--:--\n",
      "   --------------------------------------- 345.4/345.4 kB 20.9 MB/s eta 0:00:00\n",
      "Installing collected packages: pytz, tzdata, pandas\n",
      "Successfully installed pandas-2.2.1 pytz-2024.1 tzdata-2024.1\n",
      "Note: you may need to restart the kernel to use updated packages.\n"
     ]
    }
   ],
   "source": [
    "pip install pandas"
   ]
  },
  {
   "cell_type": "code",
   "execution_count": 9,
   "metadata": {},
   "outputs": [
    {
     "name": "stdout",
     "output_type": "stream",
     "text": [
      "   Location  predicted_tempmax\n",
      "0    Austin               86.0\n",
      "1   Chicago               60.0\n",
      "2     Miami               80.0\n",
      "3  New York               63.0\n"
     ]
    }
   ],
   "source": [
    "import pandas as pd\n",
    "\n",
    "# Read the CSV file\n",
    "df = pd.read_csv('data_for_tradingapi.csv')\n",
    "if 'Unnamed: 0' in df.columns:\n",
    "    df.drop(columns=['Unnamed: 0'], inplace=True)\n",
    "# print(df)\n",
    "\n",
    "df['predicted_tempmax'] = np.round(df['predicted_tempmax'],0)\n",
    "df['predicted_tempmax'] += 3\n",
    "print(df)\n",
    "\n",
    "# # Get the predicted temperature for Austin\n",
    "# predicted_temp_for_austin = df.loc[df['Location'] == 'Austin', 'predicted_tempmax'].values[0]\n",
    "# print(f\"Predicted Temperature for Austin: {predicted_temp_for_austin}\")\n"
   ]
  },
  {
   "cell_type": "code",
   "execution_count": 10,
   "metadata": {},
   "outputs": [],
   "source": [
    "def determine_market_ticker_from_response(eventResponse, predicted_max_temp):\n",
    "    for market in eventResponse.markets:\n",
    "        subtitle = market.subtitle  # Adjusted based on your object structure\n",
    "        if 'or below' in subtitle:\n",
    "            max_temp = int(subtitle.split('°')[0])\n",
    "            if predicted_max_temp <= max_temp:\n",
    "                return market.ticker.split('-')[-1]\n",
    "        elif 'or above' in subtitle:\n",
    "            min_temp = int(subtitle.split('°')[0]) + 1\n",
    "            if predicted_max_temp >= min_temp:\n",
    "                return market.ticker.split('-')[-1]\n",
    "        else:\n",
    "            # Handling ranges correctly by cleaning the string of non-numeric before conversion\n",
    "            temp_range = [int(temp.split('°')[0]) for temp in subtitle.split(' to ')]\n",
    "            if temp_range[0] <= predicted_max_temp <= temp_range[1]:\n",
    "                return market.ticker.split('-')[-1]\n",
    "    return None\n"
   ]
  },
  {
   "cell_type": "code",
   "execution_count": 12,
   "metadata": {},
   "outputs": [
    {
     "name": "stdout",
     "output_type": "stream",
     "text": [
      "\n",
      "Orderbook for market: HIGHAUS-24APR04-B86.5\n",
      "{'orderbook': {'no': [], 'yes': [[99, 1]]}}\n",
      "\n",
      "Orderbook for market: HIGHCHI-24APR04-T46\n",
      "{'orderbook': {'no': [], 'yes': [[99, 1]]}}\n",
      "\n",
      "Orderbook for market: HIGHMIA-24APR04-B80.5\n",
      "{'orderbook': {'no': [], 'yes': [[99, 1]]}}\n",
      "\n",
      "Orderbook for market: HIGHNY-24APR04-T54\n",
      "{'orderbook': {'no': [], 'yes': [[99, 1]]}}\n"
     ]
    }
   ],
   "source": [
    "seriesTickers = {\n",
    "    'New York': 'HIGHNY',\n",
    "    'Chicago': 'HIGHCHI',\n",
    "    'Austin': 'HIGHAUS',\n",
    "    'Miami': 'HIGHMIA'\n",
    "}\n",
    "today = datetime.today()\n",
    "\n",
    "# print(f\"Processing cities: {df['Location'].tolist()}\")\n",
    "\n",
    "# for index, row in df.iterrows():\n",
    "#     city = row['Location']\n",
    "#     print(f\"Processing {city}...\")\n",
    "\n",
    "# # Format the date as 'YYMMDD'\n",
    "date_str = today.strftime('%y%b%d').upper()\n",
    "for index, row in df.iterrows():\n",
    "    city = row['Location']\n",
    "    predicted_max_temp = row['predicted_tempmax']\n",
    "    seriesTicker = seriesTickers[city]\n",
    "    \n",
    "\n",
    "    eventTicker = f'{seriesTicker}-{date_str}'\n",
    "    eventResponse = kalshi_api.get_event(eventTicker)  # Replace with actual API call\n",
    "    \n",
    "    # Parse the event response to find matching market ticker\n",
    "    # This code block assumes a function to parse and match the market ticker based on predicted temperature\n",
    "    matching_market_ticker = determine_market_ticker_from_response(eventResponse, predicted_max_temp)\n",
    "    \n",
    "    # Now you have the matching market ticker, you can retrieve the order book\n",
    "    marketTicker = f'{eventTicker}-{matching_market_ticker}'\n",
    "    orderbookResponse = kalshi_api.get_market_orderbook(marketTicker)  # Replace with actual API call\n",
    "    \n",
    "    print(f'\\nOrderbook for market: {marketTicker}')\n",
    "    # Assuming pprint is imported or defined\n",
    "    pprint(orderbookResponse)\n",
    "# print(dir(orderbookResponse))\n"
   ]
  },
  {
   "cell_type": "code",
   "execution_count": 13,
   "metadata": {},
   "outputs": [],
   "source": [
    "yes_offers = orderbookResponse.orderbook.yes\n",
    "orderbook_dict = orderbookResponse.to_dict()\n",
    "yes_offers = orderbook_dict['orderbook']['yes']\n"
   ]
  },
  {
   "cell_type": "code",
   "execution_count": 15,
   "metadata": {},
   "outputs": [
    {
     "name": "stdout",
     "output_type": "stream",
     "text": [
      "\n",
      "Order submitted for Austin: \n",
      "{'order': {'action': 'buy',\n",
      "           'client_order_id': '730d9fdf-edb9-408c-8905-1036e5924951',\n",
      "           'created_time': '2024-04-05T01:18:29.307094Z',\n",
      "           'expiration_time': None,\n",
      "           'no_price': 2,\n",
      "           'order_id': '09fbfa10-0fad-4a88-baa3-cf83c3be74e6',\n",
      "           'side': 'yes',\n",
      "           'status': 'resting',\n",
      "           'ticker': 'HIGHAUS-24APR04-B86.5',\n",
      "           'type': 'limit',\n",
      "           'user_id': 'dbad063d-b115-48bd-a024-079c02ba5ad4',\n",
      "           'yes_price': 98}}\n",
      "\n",
      "Order submitted for Chicago: \n",
      "{'order': {'action': 'buy',\n",
      "           'client_order_id': '84d6e1e5-0050-49f0-a098-a6425436e437',\n",
      "           'created_time': '2024-04-05T01:18:29.633335Z',\n",
      "           'expiration_time': None,\n",
      "           'no_price': 2,\n",
      "           'order_id': 'b60cc942-f173-417d-abce-0b0dae092beb',\n",
      "           'side': 'yes',\n",
      "           'status': 'resting',\n",
      "           'ticker': 'HIGHCHI-24APR04-T46',\n",
      "           'type': 'limit',\n",
      "           'user_id': 'dbad063d-b115-48bd-a024-079c02ba5ad4',\n",
      "           'yes_price': 98}}\n",
      "\n",
      "Order submitted for Miami: \n",
      "{'order': {'action': 'buy',\n",
      "           'client_order_id': 'eced3d9f-1b50-4f95-9b02-03e175bb9a96',\n",
      "           'created_time': '2024-04-05T01:18:29.974703Z',\n",
      "           'expiration_time': None,\n",
      "           'no_price': 2,\n",
      "           'order_id': 'd5513f86-b872-4fcf-809a-2d8d9a565260',\n",
      "           'side': 'yes',\n",
      "           'status': 'resting',\n",
      "           'ticker': 'HIGHMIA-24APR04-B80.5',\n",
      "           'type': 'limit',\n",
      "           'user_id': 'dbad063d-b115-48bd-a024-079c02ba5ad4',\n",
      "           'yes_price': 98}}\n",
      "\n",
      "Order submitted for New York: \n",
      "{'order': {'action': 'buy',\n",
      "           'client_order_id': 'f22c66f3-daf2-44e6-8d42-4f8f60ea1baa',\n",
      "           'created_time': '2024-04-05T01:18:30.320193Z',\n",
      "           'expiration_time': None,\n",
      "           'no_price': 2,\n",
      "           'order_id': '0b37280a-2b36-4e6b-a2ef-8d265a6ab7a2',\n",
      "           'side': 'yes',\n",
      "           'status': 'resting',\n",
      "           'ticker': 'HIGHNY-24APR04-T54',\n",
      "           'type': 'limit',\n",
      "           'user_id': 'dbad063d-b115-48bd-a024-079c02ba5ad4',\n",
      "           'yes_price': 98}}\n"
     ]
    }
   ],
   "source": [
    "orderbook_dict = orderbookResponse.to_dict()\n",
    "yes_offers = orderbook_dict['orderbook']['yes']\n",
    "for index, row in df.iterrows():\n",
    "    city = row['Location']\n",
    "    predicted_max_temp = row['predicted_tempmax']\n",
    "    seriesTicker = seriesTickers[city]\n",
    "\n",
    "    eventTicker = f'{seriesTicker}-{date_str}'\n",
    "    eventResponse = kalshi_api.get_event(eventTicker)\n",
    "\n",
    "    matching_market_ticker = determine_market_ticker_from_response(eventResponse, predicted_max_temp)\n",
    "    \n",
    "    if matching_market_ticker:\n",
    "        marketTicker = f'{eventTicker}-{matching_market_ticker}'\n",
    "        orderbookResponse = kalshi_api.get_market_orderbook(marketTicker)\n",
    "        \n",
    "        # Convert the orderbookResponse to a dictionary to access 'yes' and 'no' offers\n",
    "        orderbook_dict = orderbookResponse.to_dict()\n",
    "        yes_offers = orderbook_dict['orderbook']['yes'] if 'yes' in orderbook_dict['orderbook'] else []\n",
    "        \n",
    "        if yes_offers:\n",
    "            best_yes_offer = min([offer[0] for offer in yes_offers])\n",
    "            \n",
    "            if exchangeStatus.trading_active:\n",
    "                orderUuid = str(uuid.uuid4())\n",
    "                orderResponse = kalshi_api.create_order(CreateOrderRequest(       \n",
    "                    ticker=marketTicker,\n",
    "                    action='buy',\n",
    "                    type='limit',\n",
    "                    yes_price=best_yes_offer - 1,  # Adjust based on your strategy\n",
    "                    count=1000,  # And your desired amount\n",
    "                    client_order_id=orderUuid,\n",
    "                    side='yes',\n",
    "                ))\n",
    "                print(f'\\nOrder submitted for {city}: ')\n",
    "                pprint(orderResponse)\n",
    "        else:\n",
    "            print(f'\\nNo \"yes\" offers available for {city}, no orders will be placed.')\n",
    "    else:\n",
    "        print(f'No matching market ticker found for {city} based on the predicted temperature.')\n",
    " "
   ]
  },
  {
   "cell_type": "code",
   "execution_count": null,
   "metadata": {},
   "outputs": [],
   "source": []
  }
 ],
 "metadata": {
  "kernelspec": {
   "display_name": "Python 3 (ipykernel)",
   "language": "python",
   "name": "python3"
  },
  "language_info": {
   "codemirror_mode": {
    "name": "ipython",
    "version": 3
   },
   "file_extension": ".py",
   "mimetype": "text/x-python",
   "name": "python",
   "nbconvert_exporter": "python",
   "pygments_lexer": "ipython3",
   "version": "3.12.2"
  },
  "vscode": {
   "interpreter": {
    "hash": "1e51d4bf4e6bbe92f2ac3572d179994f6afffdaaebc6d7bcc5f1b4952a9d4584"
   }
  }
 },
 "nbformat": 4,
 "nbformat_minor": 4
}

{
  "cells": [
    {
      "cell_type": "code",
      "execution_count": null,
      "metadata": {
        "id": "Rh48n1OmnEhU"
      },
      "outputs": [],
      "source": [
        "import pandas as pd\n",
        "data = {'max_temp': []}\n",
        "output = pd.DataFrame(data)"
      ]
    },
    {
      "cell_type": "code",
      "execution_count": null,
      "metadata": {
        "id": "KdhT94S5nPEB"
      },
      "outputs": [],
      "source": [
        "df = pd.read_csv(r'/content/MIA.csv')"
      ]
    },
    {
      "cell_type": "code",
      "execution_count": null,
      "metadata": {
        "colab": {
          "base_uri": "https://localhost:8080/"
        },
        "id": "9Vd0V2hyvcwd",
        "outputId": "931d0988-eea7-4d3e-8a10-235a326d4057"
      },
      "outputs": [
        {
          "name": "stdout",
          "output_type": "stream",
          "text": [
            "Requirement already satisfied: openmeteo-requests in /usr/local/lib/python3.10/dist-packages (1.2.0)\n",
            "Requirement already satisfied: openmeteo-sdk>=1.4.0 in /usr/local/lib/python3.10/dist-packages (from openmeteo-requests) (1.11.3)\n",
            "Requirement already satisfied: requests in /usr/local/lib/python3.10/dist-packages (from openmeteo-requests) (2.31.0)\n",
            "Requirement already satisfied: flatbuffers>=24.0.0 in /usr/local/lib/python3.10/dist-packages (from openmeteo-sdk>=1.4.0->openmeteo-requests) (24.3.25)\n",
            "Requirement already satisfied: charset-normalizer<4,>=2 in /usr/local/lib/python3.10/dist-packages (from requests->openmeteo-requests) (3.3.2)\n",
            "Requirement already satisfied: idna<4,>=2.5 in /usr/local/lib/python3.10/dist-packages (from requests->openmeteo-requests) (3.6)\n",
            "Requirement already satisfied: urllib3<3,>=1.21.1 in /usr/local/lib/python3.10/dist-packages (from requests->openmeteo-requests) (2.0.7)\n",
            "Requirement already satisfied: certifi>=2017.4.17 in /usr/local/lib/python3.10/dist-packages (from requests->openmeteo-requests) (2024.2.2)\n",
            "Requirement already satisfied: requests-cache in /usr/local/lib/python3.10/dist-packages (1.2.0)\n",
            "Requirement already satisfied: retry-requests in /usr/local/lib/python3.10/dist-packages (2.0.0)\n",
            "Requirement already satisfied: numpy in /usr/local/lib/python3.10/dist-packages (1.25.2)\n",
            "Requirement already satisfied: pandas in /usr/local/lib/python3.10/dist-packages (2.0.3)\n",
            "Requirement already satisfied: attrs>=21.2 in /usr/local/lib/python3.10/dist-packages (from requests-cache) (23.2.0)\n",
            "Requirement already satisfied: cattrs>=22.2 in /usr/local/lib/python3.10/dist-packages (from requests-cache) (23.2.3)\n",
            "Requirement already satisfied: platformdirs>=2.5 in /usr/local/lib/python3.10/dist-packages (from requests-cache) (4.2.0)\n",
            "Requirement already satisfied: requests>=2.22 in /usr/local/lib/python3.10/dist-packages (from requests-cache) (2.31.0)\n",
            "Requirement already satisfied: url-normalize>=1.4 in /usr/local/lib/python3.10/dist-packages (from requests-cache) (1.4.3)\n",
            "Requirement already satisfied: urllib3>=1.25.5 in /usr/local/lib/python3.10/dist-packages (from requests-cache) (2.0.7)\n",
            "Requirement already satisfied: python-dateutil>=2.8.2 in /usr/local/lib/python3.10/dist-packages (from pandas) (2.8.2)\n",
            "Requirement already satisfied: pytz>=2020.1 in /usr/local/lib/python3.10/dist-packages (from pandas) (2023.4)\n",
            "Requirement already satisfied: tzdata>=2022.1 in /usr/local/lib/python3.10/dist-packages (from pandas) (2024.1)\n",
            "Requirement already satisfied: exceptiongroup>=1.1.1 in /usr/local/lib/python3.10/dist-packages (from cattrs>=22.2->requests-cache) (1.2.0)\n",
            "Requirement already satisfied: typing-extensions!=4.6.3,>=4.1.0 in /usr/local/lib/python3.10/dist-packages (from cattrs>=22.2->requests-cache) (4.10.0)\n",
            "Requirement already satisfied: six>=1.5 in /usr/local/lib/python3.10/dist-packages (from python-dateutil>=2.8.2->pandas) (1.16.0)\n",
            "Requirement already satisfied: charset-normalizer<4,>=2 in /usr/local/lib/python3.10/dist-packages (from requests>=2.22->requests-cache) (3.3.2)\n",
            "Requirement already satisfied: idna<4,>=2.5 in /usr/local/lib/python3.10/dist-packages (from requests>=2.22->requests-cache) (3.6)\n",
            "Requirement already satisfied: certifi>=2017.4.17 in /usr/local/lib/python3.10/dist-packages (from requests>=2.22->requests-cache) (2024.2.2)\n",
            "Coordinates 25.77291488647461°N -80.19830322265625°E\n",
            "Elevation 6.0 m asl\n",
            "Timezone None None\n",
            "Timezone difference to GMT+0 0 s\n",
            "                        date  temperature_2m  relative_humidity_2m  \\\n",
            "0  2024-04-04 00:00:00+00:00       26.119501                  83.0   \n",
            "1  2024-04-04 01:00:00+00:00       26.169500                  83.0   \n",
            "2  2024-04-04 02:00:00+00:00       25.219501                  89.0   \n",
            "3  2024-04-04 03:00:00+00:00       24.769501                  88.0   \n",
            "4  2024-04-04 04:00:00+00:00       24.769501                  83.0   \n",
            "5  2024-04-04 05:00:00+00:00       24.269501                  84.0   \n",
            "6  2024-04-04 06:00:00+00:00       24.719501                  85.0   \n",
            "7  2024-04-04 07:00:00+00:00       25.169500                  77.0   \n",
            "8  2024-04-04 08:00:00+00:00       24.719501                  77.0   \n",
            "9  2024-04-04 09:00:00+00:00       24.569500                  83.0   \n",
            "10 2024-04-04 10:00:00+00:00       23.619501                  94.0   \n",
            "11 2024-04-04 11:00:00+00:00       21.369501                  88.0   \n",
            "12 2024-04-04 12:00:00+00:00       21.169500                  87.0   \n",
            "13 2024-04-04 13:00:00+00:00       21.169500                  86.0   \n",
            "14 2024-04-04 14:00:00+00:00       20.619501                  81.0   \n",
            "15 2024-04-04 15:00:00+00:00       20.969501                  79.0   \n",
            "16 2024-04-04 16:00:00+00:00       21.719501                  74.0   \n",
            "17 2024-04-04 17:00:00+00:00       22.069500                  66.0   \n",
            "18 2024-04-04 18:00:00+00:00       22.169500                  72.0   \n",
            "19 2024-04-04 19:00:00+00:00       23.719501                  62.0   \n",
            "20 2024-04-04 20:00:00+00:00       23.919500                  57.0   \n",
            "21 2024-04-04 21:00:00+00:00       23.969501                  45.0   \n",
            "22 2024-04-04 22:00:00+00:00       23.769501                  63.0   \n",
            "23 2024-04-04 23:00:00+00:00       22.719501                  64.0   \n",
            "\n",
            "    precipitation       rain  snowfall  wind_speed_10m  wind_gusts_10m  \n",
            "0             0.0   0.000000       0.0       19.486610       41.039997  \n",
            "1             0.0   0.000000       0.0       19.602652       34.200001  \n",
            "2             0.0   0.000000       0.0       17.654686       46.079998  \n",
            "3             0.0   0.000000       0.0       21.077686       47.880001  \n",
            "4             0.0   0.000000       0.0       23.863409       52.199997  \n",
            "5             0.0   0.000000       0.0       26.208395       54.360001  \n",
            "6             0.0   0.000000       0.0       22.702845       55.799999  \n",
            "7             0.0   0.000000       0.0       29.024128       61.560001  \n",
            "8             0.0   0.000000       0.0       28.657898       56.519997  \n",
            "9             8.6  12.900001       0.0       18.792549       45.719997  \n",
            "10            0.0   0.000000       0.0       16.203999       37.439999  \n",
            "11            0.0   0.000000       0.0       21.407139       37.799999  \n",
            "12            0.0   0.000000       0.0       13.891522       33.839996  \n",
            "13            0.0   0.000000       0.0       15.580141       30.239998  \n",
            "14            0.0   0.000000       0.0       14.489720       27.719999  \n",
            "15            0.0   0.000000       0.0       12.245293       23.039999  \n",
            "16            0.0   0.000000       0.0       12.287555       17.280001  \n",
            "17            0.0   0.000000       0.0        7.636753       15.119999  \n",
            "18            0.0   0.000000       0.0       10.853866       15.840000  \n",
            "19            0.0   0.000000       0.0        8.435069       12.959999  \n",
            "20            0.0   0.000000       0.0        5.154416       14.040000  \n",
            "21            0.0   0.000000       0.0        4.024922       11.879999  \n",
            "22            0.0   0.000000       0.0        7.568566       14.759999  \n",
            "23            0.0   0.000000       0.0        5.860375       14.040000  \n",
            "                       date  temperature_2m_max\n",
            "0 2024-04-04 00:00:00+00:00             26.1695\n"
          ]
        }
      ],
      "source": [
        "!pip install openmeteo-requests\n",
        "!pip install requests-cache retry-requests numpy pandas\n",
        "import requests_cache\n",
        "import openmeteo_requests\n",
        "import pandas as pd\n",
        "from retry_requests import retry\n",
        "\n",
        "# Setup the Open-Meteo API client with cache and retry on error\n",
        "cache_session = requests_cache.CachedSession('.cache', expire_after = 3600)\n",
        "retry_session = retry(cache_session, retries = 5, backoff_factor = 0.2)\n",
        "openmeteo = openmeteo_requests.Client(session = retry_session)\n",
        "\n",
        "# Make sure all required weather variables are listed here\n",
        "# The order of variables in hourly or daily is important to assign them correctly below\n",
        "url = \"https://api.open-meteo.com/v1/forecast\"\n",
        "params = {\n",
        "\t\"latitude\": 25.7743,\n",
        "\t\"longitude\": -80.1937,\n",
        "\t\"hourly\": [\"temperature_2m\", \"relative_humidity_2m\", \"precipitation\", \"rain\", \"snowfall\", \"wind_speed_10m\", \"wind_gusts_10m\"],\n",
        "\t\"daily\": \"temperature_2m_max\",\n",
        "\t\"start_date\": \"2024-04-04\",\n",
        "\t\"end_date\": \"2024-04-04\"\n",
        "}\n",
        "responses = openmeteo.weather_api(url, params=params)\n",
        "\n",
        "# Process first location. Add a for-loop for multiple locations or weather models\n",
        "response = responses[0]\n",
        "print(f\"Coordinates {response.Latitude()}°N {response.Longitude()}°E\")\n",
        "print(f\"Elevation {response.Elevation()} m asl\")\n",
        "print(f\"Timezone {response.Timezone()} {response.TimezoneAbbreviation()}\")\n",
        "print(f\"Timezone difference to GMT+0 {response.UtcOffsetSeconds()} s\")\n",
        "\n",
        "# Process hourly data. The order of variables needs to be the same as requested.\n",
        "hourly = response.Hourly()\n",
        "hourly_temperature_2m = hourly.Variables(0).ValuesAsNumpy()\n",
        "hourly_relative_humidity_2m = hourly.Variables(1).ValuesAsNumpy()\n",
        "hourly_precipitation = hourly.Variables(2).ValuesAsNumpy()\n",
        "hourly_rain = hourly.Variables(3).ValuesAsNumpy()\n",
        "hourly_snowfall = hourly.Variables(4).ValuesAsNumpy()\n",
        "hourly_wind_speed_10m = hourly.Variables(5).ValuesAsNumpy()\n",
        "hourly_wind_gusts_10m = hourly.Variables(6).ValuesAsNumpy()\n",
        "\n",
        "hourly_data = {\"date\": pd.date_range(\n",
        "\tstart = pd.to_datetime(hourly.Time(), unit = \"s\", utc = True),\n",
        "\tend = pd.to_datetime(hourly.TimeEnd(), unit = \"s\", utc = True),\n",
        "\tfreq = pd.Timedelta(seconds = hourly.Interval()),\n",
        "\tinclusive = \"left\"\n",
        ")}\n",
        "hourly_data[\"temperature_2m\"] = hourly_temperature_2m\n",
        "hourly_data[\"relative_humidity_2m\"] = hourly_relative_humidity_2m\n",
        "hourly_data[\"precipitation\"] = hourly_precipitation\n",
        "hourly_data[\"rain\"] = hourly_rain\n",
        "hourly_data[\"snowfall\"] = hourly_snowfall\n",
        "hourly_data[\"wind_speed_10m\"] = hourly_wind_speed_10m\n",
        "hourly_data[\"wind_gusts_10m\"] = hourly_wind_gusts_10m\n",
        "\n",
        "hourly_dataframe = pd.DataFrame(data = hourly_data)\n",
        "print(hourly_dataframe)\n",
        "\n",
        "# Process daily data. The order of variables needs to be the same as requested.\n",
        "daily = response.Daily()\n",
        "daily_temperature_2m_max = daily.Variables(0).ValuesAsNumpy()\n",
        "\n",
        "daily_data = {\"date\": pd.date_range(\n",
        "\tstart = pd.to_datetime(daily.Time(), unit = \"s\", utc = True),\n",
        "\tend = pd.to_datetime(daily.TimeEnd(), unit = \"s\", utc = True),\n",
        "\tfreq = pd.Timedelta(seconds = daily.Interval()),\n",
        "\tinclusive = \"left\"\n",
        ")}\n",
        "daily_data[\"temperature_2m_max\"] = daily_temperature_2m_max\n",
        "\n",
        "daily_dataframe = pd.DataFrame(data = daily_data)\n",
        "print(daily_dataframe)"
      ]
    },
    {
      "cell_type": "code",
      "execution_count": null,
      "metadata": {
        "id": "79rQO2AQrpZw"
      },
      "outputs": [],
      "source": [
        "hourly_dataframe.drop(columns=['date'],inplace=True)"
      ]
    },
    {
      "cell_type": "code",
      "execution_count": null,
      "metadata": {
        "colab": {
          "base_uri": "https://localhost:8080/"
        },
        "id": "7f-HELgrnOzc",
        "outputId": "2cb097c7-9b57-4a23-b7be-e654dd92cdaa"
      },
      "outputs": [
        {
          "name": "stdout",
          "output_type": "stream",
          "text": [
            "                            date  temperature_2m  relative_humidity_2m  \\\n",
            "0      2014-01-01 00:00:00+00:00       22.900000             72.525500   \n",
            "1      2014-01-01 01:00:00+00:00       23.000000             71.634750   \n",
            "2      2014-01-01 02:00:00+00:00       23.050000             73.009910   \n",
            "3      2014-01-01 03:00:00+00:00       23.100000             75.581810   \n",
            "4      2014-01-01 04:00:00+00:00       23.100000             77.253790   \n",
            "...                          ...             ...                   ...   \n",
            "87667  2024-01-01 19:00:00+00:00       21.243500             59.123810   \n",
            "87668  2024-01-01 20:00:00+00:00       21.293499             57.796810   \n",
            "87669  2024-01-01 21:00:00+00:00       20.943500             56.212055   \n",
            "87670  2024-01-01 22:00:00+00:00       19.793499             65.290820   \n",
            "87671  2024-01-01 23:00:00+00:00       16.743500             76.765940   \n",
            "\n",
            "       dew_point_2m  precipitation  rain  snowfall  wind_speed_10m  \\\n",
            "0         17.700000            0.0   0.0       0.0       21.897945   \n",
            "1         17.600000            0.0   0.0       0.0       22.668570   \n",
            "2         17.950000            0.0   0.0       0.0       23.441502   \n",
            "3         18.550000            0.0   0.0       0.0       24.192429   \n",
            "4         18.900000            0.1   0.1       0.0       25.284714   \n",
            "...             ...            ...   ...       ...             ...   \n",
            "87667     12.943500            0.0   0.0       0.0        4.802999   \n",
            "87668     12.643499            0.0   0.0       0.0        6.287130   \n",
            "87669     11.893499            0.0   0.0       0.0        6.519877   \n",
            "87670     13.093500            0.0   0.0       0.0        5.351785   \n",
            "87671     12.643499            0.0   0.0       0.0        6.915374   \n",
            "\n",
            "       wind_speed_100m  wind_gusts_10m  \n",
            "0            28.257132       42.480000  \n",
            "1            29.546328       42.839996  \n",
            "2            30.563978       42.480000  \n",
            "3            31.896080       42.480000  \n",
            "4            33.014180       41.399998  \n",
            "...                ...             ...  \n",
            "87667         5.860375       15.480000  \n",
            "87668         7.342588       16.199999  \n",
            "87669         7.952660       16.199999  \n",
            "87670        10.703569       14.400000  \n",
            "87671        13.044722       10.080000  \n",
            "\n",
            "[87672 rows x 10 columns]\n"
          ]
        }
      ],
      "source": [
        "print(df)"
      ]
    },
    {
      "cell_type": "code",
      "execution_count": null,
      "metadata": {
        "id": "DX-kri3MoDW_"
      },
      "outputs": [],
      "source": [
        "df.drop(columns=['wind_speed_100m'],inplace=True)"
      ]
    },
    {
      "cell_type": "code",
      "execution_count": null,
      "metadata": {
        "colab": {
          "base_uri": "https://localhost:8080/"
        },
        "id": "umV5-F5nh779",
        "outputId": "29c4c26c-57f2-4c23-d3a4-c650e68f31a0"
      },
      "outputs": [
        {
          "name": "stdout",
          "output_type": "stream",
          "text": [
            "Index(['date', 'temperature_2m', 'relative_humidity_2m', 'dew_point_2m',\n",
            "       'precipitation', 'rain', 'snowfall', 'wind_speed_10m',\n",
            "       'wind_gusts_10m'],\n",
            "      dtype='object')\n"
          ]
        }
      ],
      "source": [
        "print(df.columns)"
      ]
    },
    {
      "cell_type": "code",
      "execution_count": null,
      "metadata": {
        "id": "GL9j2GojnRWX"
      },
      "outputs": [],
      "source": [
        "df.drop(columns=['date'],inplace=True)"
      ]
    },
    {
      "cell_type": "code",
      "execution_count": null,
      "metadata": {
        "colab": {
          "base_uri": "https://localhost:8080/",
          "height": 424
        },
        "id": "QycR9H4370mu",
        "outputId": "5aff4ab3-5ed4-4a71-8ed9-57a2878f40ea"
      },
      "outputs": [
        {
          "data": {
            "application/vnd.google.colaboratory.intrinsic+json": {
              "summary": "{\n  \"name\": \"df\",\n  \"rows\": 87672,\n  \"fields\": [\n    {\n      \"column\": \"temperature_2m\",\n      \"properties\": {\n        \"dtype\": \"number\",\n        \"std\": 3.6748824736094607,\n        \"min\": 4.4935,\n        \"max\": 35.3435,\n        \"num_unique_values\": 1035,\n        \"samples\": [\n          26.65,\n          13.05,\n          25.4935\n        ],\n        \"semantic_type\": \"\",\n        \"description\": \"\"\n      }\n    },\n    {\n      \"column\": \"relative_humidity_2m\",\n      \"properties\": {\n        \"dtype\": \"number\",\n        \"std\": 12.414543069486685,\n        \"min\": 15.227884,\n        \"max\": 100.0,\n        \"num_unique_values\": 50076,\n        \"samples\": [\n          89.96914,\n          81.76416,\n          79.28009\n        ],\n        \"semantic_type\": \"\",\n        \"description\": \"\"\n      }\n    },\n    {\n      \"column\": \"dew_point_2m\",\n      \"properties\": {\n        \"dtype\": \"number\",\n        \"std\": 4.457529202979375,\n        \"min\": -6.4564996,\n        \"max\": 27.043499,\n        \"num_unique_values\": 1128,\n        \"samples\": [\n          0.9435,\n          3.0935,\n          19.8435\n        ],\n        \"semantic_type\": \"\",\n        \"description\": \"\"\n      }\n    },\n    {\n      \"column\": \"precipitation\",\n      \"properties\": {\n        \"dtype\": \"number\",\n        \"std\": 0.7714476668491945,\n        \"min\": 0.0,\n        \"max\": 51.3,\n        \"num_unique_values\": 153,\n        \"samples\": [\n          9.8,\n          10.4,\n          11.1\n        ],\n        \"semantic_type\": \"\",\n        \"description\": \"\"\n      }\n    },\n    {\n      \"column\": \"rain\",\n      \"properties\": {\n        \"dtype\": \"number\",\n        \"std\": 0.7714476668491945,\n        \"min\": 0.0,\n        \"max\": 51.3,\n        \"num_unique_values\": 153,\n        \"samples\": [\n          9.8,\n          10.4,\n          11.1\n        ],\n        \"semantic_type\": \"\",\n        \"description\": \"\"\n      }\n    },\n    {\n      \"column\": \"snowfall\",\n      \"properties\": {\n        \"dtype\": \"number\",\n        \"std\": 0.0,\n        \"min\": 0.0,\n        \"max\": 0.0,\n        \"num_unique_values\": 1,\n        \"samples\": [\n          0.0\n        ],\n        \"semantic_type\": \"\",\n        \"description\": \"\"\n      }\n    },\n    {\n      \"column\": \"wind_speed_10m\",\n      \"properties\": {\n        \"dtype\": \"number\",\n        \"std\": 6.970189000134141,\n        \"min\": 0.0,\n        \"max\": 96.98977,\n        \"num_unique_values\": 3111,\n        \"samples\": [\n          23.664352\n        ],\n        \"semantic_type\": \"\",\n        \"description\": \"\"\n      }\n    },\n    {\n      \"column\": \"wind_gusts_10m\",\n      \"properties\": {\n        \"dtype\": \"number\",\n        \"std\": 11.940948781339673,\n        \"min\": 1.4399999,\n        \"max\": 182.52,\n        \"num_unique_values\": 267,\n        \"samples\": [\n          44.639996\n        ],\n        \"semantic_type\": \"\",\n        \"description\": \"\"\n      }\n    }\n  ]\n}",
              "type": "dataframe",
              "variable_name": "df"
            },
            "text/html": [
              "\n",
              "  <div id=\"df-ad918ac0-a20b-4f22-8d3b-1288869950c7\" class=\"colab-df-container\">\n",
              "    <div>\n",
              "<style scoped>\n",
              "    .dataframe tbody tr th:only-of-type {\n",
              "        vertical-align: middle;\n",
              "    }\n",
              "\n",
              "    .dataframe tbody tr th {\n",
              "        vertical-align: top;\n",
              "    }\n",
              "\n",
              "    .dataframe thead th {\n",
              "        text-align: right;\n",
              "    }\n",
              "</style>\n",
              "<table border=\"1\" class=\"dataframe\">\n",
              "  <thead>\n",
              "    <tr style=\"text-align: right;\">\n",
              "      <th></th>\n",
              "      <th>temperature_2m</th>\n",
              "      <th>relative_humidity_2m</th>\n",
              "      <th>dew_point_2m</th>\n",
              "      <th>precipitation</th>\n",
              "      <th>rain</th>\n",
              "      <th>snowfall</th>\n",
              "      <th>wind_speed_10m</th>\n",
              "      <th>wind_gusts_10m</th>\n",
              "    </tr>\n",
              "  </thead>\n",
              "  <tbody>\n",
              "    <tr>\n",
              "      <th>0</th>\n",
              "      <td>22.900000</td>\n",
              "      <td>72.525500</td>\n",
              "      <td>17.700000</td>\n",
              "      <td>0.0</td>\n",
              "      <td>0.0</td>\n",
              "      <td>0.0</td>\n",
              "      <td>21.897945</td>\n",
              "      <td>42.480000</td>\n",
              "    </tr>\n",
              "    <tr>\n",
              "      <th>1</th>\n",
              "      <td>23.000000</td>\n",
              "      <td>71.634750</td>\n",
              "      <td>17.600000</td>\n",
              "      <td>0.0</td>\n",
              "      <td>0.0</td>\n",
              "      <td>0.0</td>\n",
              "      <td>22.668570</td>\n",
              "      <td>42.839996</td>\n",
              "    </tr>\n",
              "    <tr>\n",
              "      <th>2</th>\n",
              "      <td>23.050000</td>\n",
              "      <td>73.009910</td>\n",
              "      <td>17.950000</td>\n",
              "      <td>0.0</td>\n",
              "      <td>0.0</td>\n",
              "      <td>0.0</td>\n",
              "      <td>23.441502</td>\n",
              "      <td>42.480000</td>\n",
              "    </tr>\n",
              "    <tr>\n",
              "      <th>3</th>\n",
              "      <td>23.100000</td>\n",
              "      <td>75.581810</td>\n",
              "      <td>18.550000</td>\n",
              "      <td>0.0</td>\n",
              "      <td>0.0</td>\n",
              "      <td>0.0</td>\n",
              "      <td>24.192429</td>\n",
              "      <td>42.480000</td>\n",
              "    </tr>\n",
              "    <tr>\n",
              "      <th>4</th>\n",
              "      <td>23.100000</td>\n",
              "      <td>77.253790</td>\n",
              "      <td>18.900000</td>\n",
              "      <td>0.1</td>\n",
              "      <td>0.1</td>\n",
              "      <td>0.0</td>\n",
              "      <td>25.284714</td>\n",
              "      <td>41.399998</td>\n",
              "    </tr>\n",
              "    <tr>\n",
              "      <th>...</th>\n",
              "      <td>...</td>\n",
              "      <td>...</td>\n",
              "      <td>...</td>\n",
              "      <td>...</td>\n",
              "      <td>...</td>\n",
              "      <td>...</td>\n",
              "      <td>...</td>\n",
              "      <td>...</td>\n",
              "    </tr>\n",
              "    <tr>\n",
              "      <th>87667</th>\n",
              "      <td>21.243500</td>\n",
              "      <td>59.123810</td>\n",
              "      <td>12.943500</td>\n",
              "      <td>0.0</td>\n",
              "      <td>0.0</td>\n",
              "      <td>0.0</td>\n",
              "      <td>4.802999</td>\n",
              "      <td>15.480000</td>\n",
              "    </tr>\n",
              "    <tr>\n",
              "      <th>87668</th>\n",
              "      <td>21.293499</td>\n",
              "      <td>57.796810</td>\n",
              "      <td>12.643499</td>\n",
              "      <td>0.0</td>\n",
              "      <td>0.0</td>\n",
              "      <td>0.0</td>\n",
              "      <td>6.287130</td>\n",
              "      <td>16.199999</td>\n",
              "    </tr>\n",
              "    <tr>\n",
              "      <th>87669</th>\n",
              "      <td>20.943500</td>\n",
              "      <td>56.212055</td>\n",
              "      <td>11.893499</td>\n",
              "      <td>0.0</td>\n",
              "      <td>0.0</td>\n",
              "      <td>0.0</td>\n",
              "      <td>6.519877</td>\n",
              "      <td>16.199999</td>\n",
              "    </tr>\n",
              "    <tr>\n",
              "      <th>87670</th>\n",
              "      <td>19.793499</td>\n",
              "      <td>65.290820</td>\n",
              "      <td>13.093500</td>\n",
              "      <td>0.0</td>\n",
              "      <td>0.0</td>\n",
              "      <td>0.0</td>\n",
              "      <td>5.351785</td>\n",
              "      <td>14.400000</td>\n",
              "    </tr>\n",
              "    <tr>\n",
              "      <th>87671</th>\n",
              "      <td>16.743500</td>\n",
              "      <td>76.765940</td>\n",
              "      <td>12.643499</td>\n",
              "      <td>0.0</td>\n",
              "      <td>0.0</td>\n",
              "      <td>0.0</td>\n",
              "      <td>6.915374</td>\n",
              "      <td>10.080000</td>\n",
              "    </tr>\n",
              "  </tbody>\n",
              "</table>\n",
              "<p>87672 rows × 8 columns</p>\n",
              "</div>\n",
              "    <div class=\"colab-df-buttons\">\n",
              "\n",
              "  <div class=\"colab-df-container\">\n",
              "    <button class=\"colab-df-convert\" onclick=\"convertToInteractive('df-ad918ac0-a20b-4f22-8d3b-1288869950c7')\"\n",
              "            title=\"Convert this dataframe to an interactive table.\"\n",
              "            style=\"display:none;\">\n",
              "\n",
              "  <svg xmlns=\"http://www.w3.org/2000/svg\" height=\"24px\" viewBox=\"0 -960 960 960\">\n",
              "    <path d=\"M120-120v-720h720v720H120Zm60-500h600v-160H180v160Zm220 220h160v-160H400v160Zm0 220h160v-160H400v160ZM180-400h160v-160H180v160Zm440 0h160v-160H620v160ZM180-180h160v-160H180v160Zm440 0h160v-160H620v160Z\"/>\n",
              "  </svg>\n",
              "    </button>\n",
              "\n",
              "  <style>\n",
              "    .colab-df-container {\n",
              "      display:flex;\n",
              "      gap: 12px;\n",
              "    }\n",
              "\n",
              "    .colab-df-convert {\n",
              "      background-color: #E8F0FE;\n",
              "      border: none;\n",
              "      border-radius: 50%;\n",
              "      cursor: pointer;\n",
              "      display: none;\n",
              "      fill: #1967D2;\n",
              "      height: 32px;\n",
              "      padding: 0 0 0 0;\n",
              "      width: 32px;\n",
              "    }\n",
              "\n",
              "    .colab-df-convert:hover {\n",
              "      background-color: #E2EBFA;\n",
              "      box-shadow: 0px 1px 2px rgba(60, 64, 67, 0.3), 0px 1px 3px 1px rgba(60, 64, 67, 0.15);\n",
              "      fill: #174EA6;\n",
              "    }\n",
              "\n",
              "    .colab-df-buttons div {\n",
              "      margin-bottom: 4px;\n",
              "    }\n",
              "\n",
              "    [theme=dark] .colab-df-convert {\n",
              "      background-color: #3B4455;\n",
              "      fill: #D2E3FC;\n",
              "    }\n",
              "\n",
              "    [theme=dark] .colab-df-convert:hover {\n",
              "      background-color: #434B5C;\n",
              "      box-shadow: 0px 1px 3px 1px rgba(0, 0, 0, 0.15);\n",
              "      filter: drop-shadow(0px 1px 2px rgba(0, 0, 0, 0.3));\n",
              "      fill: #FFFFFF;\n",
              "    }\n",
              "  </style>\n",
              "\n",
              "    <script>\n",
              "      const buttonEl =\n",
              "        document.querySelector('#df-ad918ac0-a20b-4f22-8d3b-1288869950c7 button.colab-df-convert');\n",
              "      buttonEl.style.display =\n",
              "        google.colab.kernel.accessAllowed ? 'block' : 'none';\n",
              "\n",
              "      async function convertToInteractive(key) {\n",
              "        const element = document.querySelector('#df-ad918ac0-a20b-4f22-8d3b-1288869950c7');\n",
              "        const dataTable =\n",
              "          await google.colab.kernel.invokeFunction('convertToInteractive',\n",
              "                                                    [key], {});\n",
              "        if (!dataTable) return;\n",
              "\n",
              "        const docLinkHtml = 'Like what you see? Visit the ' +\n",
              "          '<a target=\"_blank\" href=https://colab.research.google.com/notebooks/data_table.ipynb>data table notebook</a>'\n",
              "          + ' to learn more about interactive tables.';\n",
              "        element.innerHTML = '';\n",
              "        dataTable['output_type'] = 'display_data';\n",
              "        await google.colab.output.renderOutput(dataTable, element);\n",
              "        const docLink = document.createElement('div');\n",
              "        docLink.innerHTML = docLinkHtml;\n",
              "        element.appendChild(docLink);\n",
              "      }\n",
              "    </script>\n",
              "  </div>\n",
              "\n",
              "\n",
              "<div id=\"df-36e20833-9a62-402c-8c6b-1fd3b7045edf\">\n",
              "  <button class=\"colab-df-quickchart\" onclick=\"quickchart('df-36e20833-9a62-402c-8c6b-1fd3b7045edf')\"\n",
              "            title=\"Suggest charts\"\n",
              "            style=\"display:none;\">\n",
              "\n",
              "<svg xmlns=\"http://www.w3.org/2000/svg\" height=\"24px\"viewBox=\"0 0 24 24\"\n",
              "     width=\"24px\">\n",
              "    <g>\n",
              "        <path d=\"M19 3H5c-1.1 0-2 .9-2 2v14c0 1.1.9 2 2 2h14c1.1 0 2-.9 2-2V5c0-1.1-.9-2-2-2zM9 17H7v-7h2v7zm4 0h-2V7h2v10zm4 0h-2v-4h2v4z\"/>\n",
              "    </g>\n",
              "</svg>\n",
              "  </button>\n",
              "\n",
              "<style>\n",
              "  .colab-df-quickchart {\n",
              "      --bg-color: #E8F0FE;\n",
              "      --fill-color: #1967D2;\n",
              "      --hover-bg-color: #E2EBFA;\n",
              "      --hover-fill-color: #174EA6;\n",
              "      --disabled-fill-color: #AAA;\n",
              "      --disabled-bg-color: #DDD;\n",
              "  }\n",
              "\n",
              "  [theme=dark] .colab-df-quickchart {\n",
              "      --bg-color: #3B4455;\n",
              "      --fill-color: #D2E3FC;\n",
              "      --hover-bg-color: #434B5C;\n",
              "      --hover-fill-color: #FFFFFF;\n",
              "      --disabled-bg-color: #3B4455;\n",
              "      --disabled-fill-color: #666;\n",
              "  }\n",
              "\n",
              "  .colab-df-quickchart {\n",
              "    background-color: var(--bg-color);\n",
              "    border: none;\n",
              "    border-radius: 50%;\n",
              "    cursor: pointer;\n",
              "    display: none;\n",
              "    fill: var(--fill-color);\n",
              "    height: 32px;\n",
              "    padding: 0;\n",
              "    width: 32px;\n",
              "  }\n",
              "\n",
              "  .colab-df-quickchart:hover {\n",
              "    background-color: var(--hover-bg-color);\n",
              "    box-shadow: 0 1px 2px rgba(60, 64, 67, 0.3), 0 1px 3px 1px rgba(60, 64, 67, 0.15);\n",
              "    fill: var(--button-hover-fill-color);\n",
              "  }\n",
              "\n",
              "  .colab-df-quickchart-complete:disabled,\n",
              "  .colab-df-quickchart-complete:disabled:hover {\n",
              "    background-color: var(--disabled-bg-color);\n",
              "    fill: var(--disabled-fill-color);\n",
              "    box-shadow: none;\n",
              "  }\n",
              "\n",
              "  .colab-df-spinner {\n",
              "    border: 2px solid var(--fill-color);\n",
              "    border-color: transparent;\n",
              "    border-bottom-color: var(--fill-color);\n",
              "    animation:\n",
              "      spin 1s steps(1) infinite;\n",
              "  }\n",
              "\n",
              "  @keyframes spin {\n",
              "    0% {\n",
              "      border-color: transparent;\n",
              "      border-bottom-color: var(--fill-color);\n",
              "      border-left-color: var(--fill-color);\n",
              "    }\n",
              "    20% {\n",
              "      border-color: transparent;\n",
              "      border-left-color: var(--fill-color);\n",
              "      border-top-color: var(--fill-color);\n",
              "    }\n",
              "    30% {\n",
              "      border-color: transparent;\n",
              "      border-left-color: var(--fill-color);\n",
              "      border-top-color: var(--fill-color);\n",
              "      border-right-color: var(--fill-color);\n",
              "    }\n",
              "    40% {\n",
              "      border-color: transparent;\n",
              "      border-right-color: var(--fill-color);\n",
              "      border-top-color: var(--fill-color);\n",
              "    }\n",
              "    60% {\n",
              "      border-color: transparent;\n",
              "      border-right-color: var(--fill-color);\n",
              "    }\n",
              "    80% {\n",
              "      border-color: transparent;\n",
              "      border-right-color: var(--fill-color);\n",
              "      border-bottom-color: var(--fill-color);\n",
              "    }\n",
              "    90% {\n",
              "      border-color: transparent;\n",
              "      border-bottom-color: var(--fill-color);\n",
              "    }\n",
              "  }\n",
              "</style>\n",
              "\n",
              "  <script>\n",
              "    async function quickchart(key) {\n",
              "      const quickchartButtonEl =\n",
              "        document.querySelector('#' + key + ' button');\n",
              "      quickchartButtonEl.disabled = true;  // To prevent multiple clicks.\n",
              "      quickchartButtonEl.classList.add('colab-df-spinner');\n",
              "      try {\n",
              "        const charts = await google.colab.kernel.invokeFunction(\n",
              "            'suggestCharts', [key], {});\n",
              "      } catch (error) {\n",
              "        console.error('Error during call to suggestCharts:', error);\n",
              "      }\n",
              "      quickchartButtonEl.classList.remove('colab-df-spinner');\n",
              "      quickchartButtonEl.classList.add('colab-df-quickchart-complete');\n",
              "    }\n",
              "    (() => {\n",
              "      let quickchartButtonEl =\n",
              "        document.querySelector('#df-36e20833-9a62-402c-8c6b-1fd3b7045edf button');\n",
              "      quickchartButtonEl.style.display =\n",
              "        google.colab.kernel.accessAllowed ? 'block' : 'none';\n",
              "    })();\n",
              "  </script>\n",
              "</div>\n",
              "\n",
              "  <div id=\"id_bf442d9a-726e-407d-82a8-da23481dfc42\">\n",
              "    <style>\n",
              "      .colab-df-generate {\n",
              "        background-color: #E8F0FE;\n",
              "        border: none;\n",
              "        border-radius: 50%;\n",
              "        cursor: pointer;\n",
              "        display: none;\n",
              "        fill: #1967D2;\n",
              "        height: 32px;\n",
              "        padding: 0 0 0 0;\n",
              "        width: 32px;\n",
              "      }\n",
              "\n",
              "      .colab-df-generate:hover {\n",
              "        background-color: #E2EBFA;\n",
              "        box-shadow: 0px 1px 2px rgba(60, 64, 67, 0.3), 0px 1px 3px 1px rgba(60, 64, 67, 0.15);\n",
              "        fill: #174EA6;\n",
              "      }\n",
              "\n",
              "      [theme=dark] .colab-df-generate {\n",
              "        background-color: #3B4455;\n",
              "        fill: #D2E3FC;\n",
              "      }\n",
              "\n",
              "      [theme=dark] .colab-df-generate:hover {\n",
              "        background-color: #434B5C;\n",
              "        box-shadow: 0px 1px 3px 1px rgba(0, 0, 0, 0.15);\n",
              "        filter: drop-shadow(0px 1px 2px rgba(0, 0, 0, 0.3));\n",
              "        fill: #FFFFFF;\n",
              "      }\n",
              "    </style>\n",
              "    <button class=\"colab-df-generate\" onclick=\"generateWithVariable('df')\"\n",
              "            title=\"Generate code using this dataframe.\"\n",
              "            style=\"display:none;\">\n",
              "\n",
              "  <svg xmlns=\"http://www.w3.org/2000/svg\" height=\"24px\"viewBox=\"0 0 24 24\"\n",
              "       width=\"24px\">\n",
              "    <path d=\"M7,19H8.4L18.45,9,17,7.55,7,17.6ZM5,21V16.75L18.45,3.32a2,2,0,0,1,2.83,0l1.4,1.43a1.91,1.91,0,0,1,.58,1.4,1.91,1.91,0,0,1-.58,1.4L9.25,21ZM18.45,9,17,7.55Zm-12,3A5.31,5.31,0,0,0,4.9,8.1,5.31,5.31,0,0,0,1,6.5,5.31,5.31,0,0,0,4.9,4.9,5.31,5.31,0,0,0,6.5,1,5.31,5.31,0,0,0,8.1,4.9,5.31,5.31,0,0,0,12,6.5,5.46,5.46,0,0,0,6.5,12Z\"/>\n",
              "  </svg>\n",
              "    </button>\n",
              "    <script>\n",
              "      (() => {\n",
              "      const buttonEl =\n",
              "        document.querySelector('#id_bf442d9a-726e-407d-82a8-da23481dfc42 button.colab-df-generate');\n",
              "      buttonEl.style.display =\n",
              "        google.colab.kernel.accessAllowed ? 'block' : 'none';\n",
              "\n",
              "      buttonEl.onclick = () => {\n",
              "        google.colab.notebook.generateWithVariable('df');\n",
              "      }\n",
              "      })();\n",
              "    </script>\n",
              "  </div>\n",
              "\n",
              "    </div>\n",
              "  </div>\n"
            ],
            "text/plain": [
              "       temperature_2m  relative_humidity_2m  dew_point_2m  precipitation  \\\n",
              "0           22.900000             72.525500     17.700000            0.0   \n",
              "1           23.000000             71.634750     17.600000            0.0   \n",
              "2           23.050000             73.009910     17.950000            0.0   \n",
              "3           23.100000             75.581810     18.550000            0.0   \n",
              "4           23.100000             77.253790     18.900000            0.1   \n",
              "...               ...                   ...           ...            ...   \n",
              "87667       21.243500             59.123810     12.943500            0.0   \n",
              "87668       21.293499             57.796810     12.643499            0.0   \n",
              "87669       20.943500             56.212055     11.893499            0.0   \n",
              "87670       19.793499             65.290820     13.093500            0.0   \n",
              "87671       16.743500             76.765940     12.643499            0.0   \n",
              "\n",
              "       rain  snowfall  wind_speed_10m  wind_gusts_10m  \n",
              "0       0.0       0.0       21.897945       42.480000  \n",
              "1       0.0       0.0       22.668570       42.839996  \n",
              "2       0.0       0.0       23.441502       42.480000  \n",
              "3       0.0       0.0       24.192429       42.480000  \n",
              "4       0.1       0.0       25.284714       41.399998  \n",
              "...     ...       ...             ...             ...  \n",
              "87667   0.0       0.0        4.802999       15.480000  \n",
              "87668   0.0       0.0        6.287130       16.199999  \n",
              "87669   0.0       0.0        6.519877       16.199999  \n",
              "87670   0.0       0.0        5.351785       14.400000  \n",
              "87671   0.0       0.0        6.915374       10.080000  \n",
              "\n",
              "[87672 rows x 8 columns]"
            ]
          },
          "execution_count": 10,
          "metadata": {},
          "output_type": "execute_result"
        }
      ],
      "source": [
        "df"
      ]
    },
    {
      "cell_type": "code",
      "execution_count": null,
      "metadata": {
        "colab": {
          "base_uri": "https://localhost:8080/"
        },
        "id": "YZvPkAt-nV-O",
        "outputId": "09db6d17-b56d-4569-d0b2-f8adb310b1af"
      },
      "outputs": [
        {
          "name": "stdout",
          "output_type": "stream",
          "text": [
            "Epoch 1/30\n",
            "2192/2192 [==============================] - 11s 4ms/step - loss: 0.0224\n",
            "Epoch 2/30\n",
            "2192/2192 [==============================] - 8s 4ms/step - loss: 0.0131\n",
            "Epoch 3/30\n",
            "2192/2192 [==============================] - 9s 4ms/step - loss: 0.0129\n",
            "Epoch 4/30\n",
            "2192/2192 [==============================] - 7s 3ms/step - loss: 0.0128\n",
            "Epoch 5/30\n",
            "2192/2192 [==============================] - 9s 4ms/step - loss: 0.0127\n",
            "Epoch 6/30\n",
            "2192/2192 [==============================] - 8s 4ms/step - loss: 0.0126\n",
            "Epoch 7/30\n",
            "2192/2192 [==============================] - 7s 3ms/step - loss: 0.0125\n",
            "Epoch 8/30\n",
            "2192/2192 [==============================] - 8s 4ms/step - loss: 0.0125\n",
            "Epoch 9/30\n",
            "2192/2192 [==============================] - 8s 4ms/step - loss: 0.0124\n",
            "Epoch 10/30\n",
            "2192/2192 [==============================] - 13s 6ms/step - loss: 0.0123\n",
            "Epoch 11/30\n",
            "2192/2192 [==============================] - 7s 3ms/step - loss: 0.0123\n",
            "Epoch 12/30\n",
            "2192/2192 [==============================] - 7s 3ms/step - loss: 0.0122\n",
            "Epoch 13/30\n",
            "2192/2192 [==============================] - 7s 3ms/step - loss: 0.0122\n",
            "Epoch 14/30\n",
            "2192/2192 [==============================] - 8s 4ms/step - loss: 0.0122\n",
            "Epoch 15/30\n",
            "2192/2192 [==============================] - 7s 3ms/step - loss: 0.0121\n",
            "Epoch 16/30\n",
            "2192/2192 [==============================] - 9s 4ms/step - loss: 0.0121\n",
            "Epoch 17/30\n",
            "2192/2192 [==============================] - 7s 3ms/step - loss: 0.0121\n",
            "Epoch 18/30\n",
            "2192/2192 [==============================] - 7s 3ms/step - loss: 0.0120\n",
            "Epoch 19/30\n",
            "2192/2192 [==============================] - 8s 4ms/step - loss: 0.0120\n",
            "Epoch 20/30\n",
            "2192/2192 [==============================] - 7s 3ms/step - loss: 0.0120\n",
            "Epoch 21/30\n",
            "2192/2192 [==============================] - 9s 4ms/step - loss: 0.0120\n",
            "Epoch 22/30\n",
            "2192/2192 [==============================] - 8s 4ms/step - loss: 0.0119\n",
            "Epoch 23/30\n",
            "2192/2192 [==============================] - 7s 3ms/step - loss: 0.0119\n",
            "Epoch 24/30\n",
            "2192/2192 [==============================] - 8s 4ms/step - loss: 0.0119\n",
            "Epoch 25/30\n",
            "2192/2192 [==============================] - 7s 3ms/step - loss: 0.0119\n",
            "Epoch 26/30\n",
            "2192/2192 [==============================] - 8s 4ms/step - loss: 0.0119\n",
            "Epoch 27/30\n",
            "2192/2192 [==============================] - 8s 4ms/step - loss: 0.0119\n",
            "Epoch 28/30\n",
            "2192/2192 [==============================] - 7s 3ms/step - loss: 0.0118\n",
            "Epoch 29/30\n",
            "2192/2192 [==============================] - 8s 3ms/step - loss: 0.0118\n",
            "Epoch 30/30\n",
            "2192/2192 [==============================] - 7s 3ms/step - loss: 0.0118\n",
            "548/548 [==============================] - 2s 2ms/step - loss: 0.0119\n",
            "Mean Squared Error (LSTM): 0.011907181702554226\n"
          ]
        }
      ],
      "source": [
        "\n",
        "import numpy as np\n",
        "import pandas as pd\n",
        "from sklearn.model_selection import train_test_split\n",
        "from sklearn.preprocessing import MinMaxScaler\n",
        "from tensorflow.keras.models import Sequential\n",
        "from tensorflow.keras.layers import LSTM, Dense\n",
        "import pandas as pd\n",
        "from sklearn.preprocessing import MinMaxScaler\n",
        "from sklearn.model_selection import train_test_split\n",
        "\n",
        "\n",
        "X = df[['relative_humidity_2m', 'precipitation', 'rain', 'snowfall', 'wind_speed_10m', 'wind_gusts_10m']]\n",
        "y = df['temperature_2m']\n",
        "\n",
        "X = pd.DataFrame(X, columns=['relative_humidity_2m', 'precipitation', 'rain', 'snowfall', 'wind_speed_10m', 'wind_gusts_10m'])\n",
        "y = pd.DataFrame(y, columns=['temperature_2m'])\n",
        "\n",
        "scaler_x = MinMaxScaler()\n",
        "scaler_y = MinMaxScaler()\n",
        "X_scaled = scaler_x.fit_transform(X)\n",
        "y_scaled = scaler_y.fit_transform(y)\n",
        "X_train, X_test, y_train, y_test = train_test_split(X_scaled, y_scaled, test_size=0.2, random_state=42)\n",
        "\n",
        "X_train = X_train.reshape((X_train.shape[0], 1, X_train.shape[1]))\n",
        "X_test = X_test.reshape((X_test.shape[0], 1, X_test.shape[1]))\n",
        "\n",
        "model_lstm = Sequential()\n",
        "model_lstm.add(LSTM(50, input_shape=(X_train.shape[1], X_train.shape[2])))\n",
        "model_lstm.add(Dense(1))\n",
        "model_lstm.compile(optimizer='adam', loss='mse')\n",
        "model_lstm.fit(X_train, y_train, epochs=30, batch_size=32, verbose=1)\n",
        "mse_lstm = model_lstm.evaluate(X_test, y_test)\n",
        "print(\"Mean Squared Error (LSTM):\", mse_lstm)\n"
      ]
    },
    {
      "cell_type": "code",
      "execution_count": null,
      "metadata": {
        "colab": {
          "base_uri": "https://localhost:8080/"
        },
        "id": "SsofFPyDw7Ho",
        "outputId": "b0dd01ea-521d-475b-819f-15acab524dad"
      },
      "outputs": [
        {
          "name": "stderr",
          "output_type": "stream",
          "text": [
            "/usr/local/lib/python3.10/dist-packages/sklearn/base.py:439: UserWarning: X does not have valid feature names, but MinMaxScaler was fitted with feature names\n",
            "  warnings.warn(\n"
          ]
        },
        {
          "name": "stdout",
          "output_type": "stream",
          "text": [
            "1/1 [==============================] - 1s 707ms/step\n",
            "1/1 [==============================] - 0s 34ms/step\n"
          ]
        },
        {
          "name": "stderr",
          "output_type": "stream",
          "text": [
            "/usr/local/lib/python3.10/dist-packages/sklearn/base.py:439: UserWarning: X does not have valid feature names, but MinMaxScaler was fitted with feature names\n",
            "  warnings.warn(\n",
            "/usr/local/lib/python3.10/dist-packages/sklearn/base.py:439: UserWarning: X does not have valid feature names, but MinMaxScaler was fitted with feature names\n",
            "  warnings.warn(\n"
          ]
        },
        {
          "name": "stdout",
          "output_type": "stream",
          "text": [
            "1/1 [==============================] - 0s 38ms/step\n",
            "1/1 [==============================] - 0s 34ms/step\n"
          ]
        },
        {
          "name": "stderr",
          "output_type": "stream",
          "text": [
            "/usr/local/lib/python3.10/dist-packages/sklearn/base.py:439: UserWarning: X does not have valid feature names, but MinMaxScaler was fitted with feature names\n",
            "  warnings.warn(\n",
            "/usr/local/lib/python3.10/dist-packages/sklearn/base.py:439: UserWarning: X does not have valid feature names, but MinMaxScaler was fitted with feature names\n",
            "  warnings.warn(\n"
          ]
        },
        {
          "name": "stdout",
          "output_type": "stream",
          "text": [
            "1/1 [==============================] - 0s 39ms/step\n",
            "1/1 [==============================] - 0s 42ms/step\n"
          ]
        },
        {
          "name": "stderr",
          "output_type": "stream",
          "text": [
            "/usr/local/lib/python3.10/dist-packages/sklearn/base.py:439: UserWarning: X does not have valid feature names, but MinMaxScaler was fitted with feature names\n",
            "  warnings.warn(\n",
            "/usr/local/lib/python3.10/dist-packages/sklearn/base.py:439: UserWarning: X does not have valid feature names, but MinMaxScaler was fitted with feature names\n",
            "  warnings.warn(\n"
          ]
        },
        {
          "name": "stdout",
          "output_type": "stream",
          "text": [
            "1/1 [==============================] - 0s 37ms/step\n",
            "1/1 [==============================] - 0s 34ms/step\n"
          ]
        },
        {
          "name": "stderr",
          "output_type": "stream",
          "text": [
            "/usr/local/lib/python3.10/dist-packages/sklearn/base.py:439: UserWarning: X does not have valid feature names, but MinMaxScaler was fitted with feature names\n",
            "  warnings.warn(\n",
            "/usr/local/lib/python3.10/dist-packages/sklearn/base.py:439: UserWarning: X does not have valid feature names, but MinMaxScaler was fitted with feature names\n",
            "  warnings.warn(\n"
          ]
        },
        {
          "name": "stdout",
          "output_type": "stream",
          "text": [
            "1/1 [==============================] - 0s 35ms/step\n",
            "1/1 [==============================] - 0s 36ms/step\n"
          ]
        },
        {
          "name": "stderr",
          "output_type": "stream",
          "text": [
            "/usr/local/lib/python3.10/dist-packages/sklearn/base.py:439: UserWarning: X does not have valid feature names, but MinMaxScaler was fitted with feature names\n",
            "  warnings.warn(\n",
            "/usr/local/lib/python3.10/dist-packages/sklearn/base.py:439: UserWarning: X does not have valid feature names, but MinMaxScaler was fitted with feature names\n",
            "  warnings.warn(\n"
          ]
        },
        {
          "name": "stdout",
          "output_type": "stream",
          "text": [
            "1/1 [==============================] - 0s 39ms/step\n",
            "1/1 [==============================] - 0s 26ms/step\n",
            "1/1 [==============================] - ETA: 0s"
          ]
        },
        {
          "name": "stderr",
          "output_type": "stream",
          "text": [
            "/usr/local/lib/python3.10/dist-packages/sklearn/base.py:439: UserWarning: X does not have valid feature names, but MinMaxScaler was fitted with feature names\n",
            "  warnings.warn(\n",
            "/usr/local/lib/python3.10/dist-packages/sklearn/base.py:439: UserWarning: X does not have valid feature names, but MinMaxScaler was fitted with feature names\n",
            "  warnings.warn(\n"
          ]
        },
        {
          "name": "stdout",
          "output_type": "stream",
          "text": [
            "1/1 [==============================] - 0s 22ms/step\n",
            "1/1 [==============================] - 0s 21ms/step\n",
            "1/1 [==============================] - 0s 30ms/step\n"
          ]
        },
        {
          "name": "stderr",
          "output_type": "stream",
          "text": [
            "/usr/local/lib/python3.10/dist-packages/sklearn/base.py:439: UserWarning: X does not have valid feature names, but MinMaxScaler was fitted with feature names\n",
            "  warnings.warn(\n",
            "/usr/local/lib/python3.10/dist-packages/sklearn/base.py:439: UserWarning: X does not have valid feature names, but MinMaxScaler was fitted with feature names\n",
            "  warnings.warn(\n",
            "/usr/local/lib/python3.10/dist-packages/sklearn/base.py:439: UserWarning: X does not have valid feature names, but MinMaxScaler was fitted with feature names\n",
            "  warnings.warn(\n"
          ]
        },
        {
          "name": "stdout",
          "output_type": "stream",
          "text": [
            "1/1 [==============================] - 0s 21ms/step\n",
            "1/1 [==============================] - 0s 24ms/step\n",
            "1/1 [==============================] - 0s 25ms/step\n"
          ]
        },
        {
          "name": "stderr",
          "output_type": "stream",
          "text": [
            "/usr/local/lib/python3.10/dist-packages/sklearn/base.py:439: UserWarning: X does not have valid feature names, but MinMaxScaler was fitted with feature names\n",
            "  warnings.warn(\n",
            "/usr/local/lib/python3.10/dist-packages/sklearn/base.py:439: UserWarning: X does not have valid feature names, but MinMaxScaler was fitted with feature names\n",
            "  warnings.warn(\n",
            "/usr/local/lib/python3.10/dist-packages/sklearn/base.py:439: UserWarning: X does not have valid feature names, but MinMaxScaler was fitted with feature names\n",
            "  warnings.warn(\n"
          ]
        },
        {
          "name": "stdout",
          "output_type": "stream",
          "text": [
            "1/1 [==============================] - 0s 20ms/step\n",
            "1/1 [==============================] - 0s 25ms/step\n",
            "1/1 [==============================] - 0s 22ms/step\n"
          ]
        },
        {
          "name": "stderr",
          "output_type": "stream",
          "text": [
            "/usr/local/lib/python3.10/dist-packages/sklearn/base.py:439: UserWarning: X does not have valid feature names, but MinMaxScaler was fitted with feature names\n",
            "  warnings.warn(\n",
            "/usr/local/lib/python3.10/dist-packages/sklearn/base.py:439: UserWarning: X does not have valid feature names, but MinMaxScaler was fitted with feature names\n",
            "  warnings.warn(\n",
            "/usr/local/lib/python3.10/dist-packages/sklearn/base.py:439: UserWarning: X does not have valid feature names, but MinMaxScaler was fitted with feature names\n",
            "  warnings.warn(\n"
          ]
        },
        {
          "name": "stdout",
          "output_type": "stream",
          "text": [
            "1/1 [==============================] - 0s 22ms/step\n",
            "1/1 [==============================] - 0s 24ms/step\n",
            "1/1 [==============================] - 0s 20ms/step\n",
            "     max_temp\n",
            "0   25.286703\n",
            "1   24.238953\n",
            "2   24.919678\n",
            "3   24.674488\n",
            "4   25.561567\n",
            "5   25.026833\n",
            "6   25.764320\n",
            "7   26.570162\n",
            "8   25.730991\n",
            "9   25.766211\n",
            "10  23.443771\n",
            "11  23.628515\n",
            "12  25.178383\n",
            "13  24.537239\n",
            "14  25.035824\n",
            "15  25.119133\n",
            "16  23.814577\n",
            "17  25.064112\n",
            "18  24.016195\n",
            "19  23.414436\n",
            "20  25.232965\n",
            "21  22.910467\n",
            "22  24.705839\n",
            "23  25.550272\n"
          ]
        },
        {
          "name": "stderr",
          "output_type": "stream",
          "text": [
            "/usr/local/lib/python3.10/dist-packages/sklearn/base.py:439: UserWarning: X does not have valid feature names, but MinMaxScaler was fitted with feature names\n",
            "  warnings.warn(\n",
            "/usr/local/lib/python3.10/dist-packages/sklearn/base.py:439: UserWarning: X does not have valid feature names, but MinMaxScaler was fitted with feature names\n",
            "  warnings.warn(\n"
          ]
        }
      ],
      "source": [
        "import numpy as np\n",
        "# Iterate over each row in hourly_dataframe\n",
        "for index, row in hourly_dataframe.iterrows():\n",
        "    # input_data = np.array([[row['relative_humidity_2m'],\n",
        "    #                         row['precipitation'],\n",
        "    #                         row['rain'],\n",
        "    #                         row['snowfall'],\n",
        "    #                         row['wind_speed_10m'],\n",
        "    #                         row['wind_gusts_10m']]])\n",
        "    relative_humidity_2m = row['relative_humidity_2m']\n",
        "    precipitation = row['precipitation']\n",
        "    rain = row['rain']\n",
        "    snowfall = row['snowfall']\n",
        "    wind_speed_10m = row['wind_speed_10m']\n",
        "    wind_gusts_10m = row['wind_gusts_10m']\n",
        "\n",
        "    input_data = np.array([[relative_humidity_2m, precipitation, rain, snowfall, wind_speed_10m, wind_gusts_10m]])\n",
        "    scale_input = scaler_x.transform(input_data)\n",
        "    reshaped_input_data = scale_input.reshape((scale_input.shape[0], 1, scale_input.shape[1]))\n",
        "    predicted_output = model_lstm.predict(reshaped_input_data)\n",
        "    predicted_output = scaler_y.inverse_transform(predicted_output)\n",
        "    output.at[index, 'max_temp'] = predicted_output[0][0]\n",
        "print(output)\n"
      ]
    },
    {
      "cell_type": "code",
      "execution_count": null,
      "metadata": {
        "colab": {
          "base_uri": "https://localhost:8080/"
        },
        "id": "Jhg7vsIt0FQp",
        "outputId": "7e2138a0-28c5-43a6-e13f-3ebddd43d41b"
      },
      "outputs": [
        {
          "name": "stdout",
          "output_type": "stream",
          "text": [
            "Epoch 1/60\n",
            "2192/2192 [==============================] - 11s 4ms/step - loss: 0.0281\n",
            "Epoch 2/60\n",
            "2192/2192 [==============================] - 8s 4ms/step - loss: 0.0152\n",
            "Epoch 3/60\n",
            "2192/2192 [==============================] - 8s 3ms/step - loss: 0.0148\n",
            "Epoch 4/60\n",
            "2192/2192 [==============================] - 9s 4ms/step - loss: 0.0145\n",
            "Epoch 5/60\n",
            "2192/2192 [==============================] - 8s 4ms/step - loss: 0.0143\n",
            "Epoch 6/60\n",
            "2192/2192 [==============================] - 8s 4ms/step - loss: 0.0143\n",
            "Epoch 7/60\n",
            "2192/2192 [==============================] - 9s 4ms/step - loss: 0.0143\n",
            "Epoch 8/60\n",
            "2192/2192 [==============================] - 8s 4ms/step - loss: 0.0143\n",
            "Epoch 9/60\n",
            "2192/2192 [==============================] - 8s 4ms/step - loss: 0.0142\n",
            "Epoch 10/60\n",
            "2192/2192 [==============================] - 9s 4ms/step - loss: 0.0142\n",
            "Epoch 11/60\n",
            "2192/2192 [==============================] - 9s 4ms/step - loss: 0.0142\n",
            "Epoch 12/60\n",
            "2192/2192 [==============================] - 8s 4ms/step - loss: 0.0142\n",
            "Epoch 13/60\n",
            "2192/2192 [==============================] - 8s 4ms/step - loss: 0.0142\n",
            "Epoch 14/60\n",
            "2192/2192 [==============================] - 9s 4ms/step - loss: 0.0142\n",
            "Epoch 15/60\n",
            "2192/2192 [==============================] - 7s 3ms/step - loss: 0.0142\n",
            "Epoch 16/60\n",
            "2192/2192 [==============================] - 9s 4ms/step - loss: 0.0142\n",
            "Epoch 17/60\n",
            "2192/2192 [==============================] - 9s 4ms/step - loss: 0.0142\n",
            "Epoch 18/60\n",
            "2192/2192 [==============================] - 7s 3ms/step - loss: 0.0142\n",
            "Epoch 19/60\n",
            "2192/2192 [==============================] - 8s 4ms/step - loss: 0.0142\n",
            "Epoch 20/60\n",
            "2192/2192 [==============================] - 8s 4ms/step - loss: 0.0142\n",
            "Epoch 21/60\n",
            "2192/2192 [==============================] - 9s 4ms/step - loss: 0.0142\n",
            "Epoch 22/60\n",
            "2192/2192 [==============================] - 9s 4ms/step - loss: 0.0142\n",
            "Epoch 23/60\n",
            "2192/2192 [==============================] - 8s 4ms/step - loss: 0.0142\n",
            "Epoch 24/60\n",
            "2192/2192 [==============================] - 10s 4ms/step - loss: 0.0142\n",
            "Epoch 25/60\n",
            "2192/2192 [==============================] - 9s 4ms/step - loss: 0.0142\n",
            "Epoch 26/60\n",
            "2192/2192 [==============================] - 8s 4ms/step - loss: 0.0142\n",
            "Epoch 27/60\n",
            "2192/2192 [==============================] - 9s 4ms/step - loss: 0.0142\n",
            "Epoch 28/60\n",
            "2192/2192 [==============================] - 9s 4ms/step - loss: 0.0142\n",
            "Epoch 29/60\n",
            "2192/2192 [==============================] - 8s 4ms/step - loss: 0.0142\n",
            "Epoch 30/60\n",
            "2192/2192 [==============================] - 8s 3ms/step - loss: 0.0142\n",
            "Epoch 31/60\n",
            "2192/2192 [==============================] - 9s 4ms/step - loss: 0.0142\n",
            "Epoch 32/60\n",
            "2192/2192 [==============================] - 8s 4ms/step - loss: 0.0142\n",
            "Epoch 33/60\n",
            "2192/2192 [==============================] - 8s 4ms/step - loss: 0.0142\n",
            "Epoch 34/60\n",
            "2192/2192 [==============================] - 8s 4ms/step - loss: 0.0142\n",
            "Epoch 35/60\n",
            "2192/2192 [==============================] - 8s 4ms/step - loss: 0.0142\n",
            "Epoch 36/60\n",
            "2192/2192 [==============================] - 9s 4ms/step - loss: 0.0142\n",
            "Epoch 37/60\n",
            "2192/2192 [==============================] - 9s 4ms/step - loss: 0.0142\n",
            "Epoch 38/60\n",
            "2192/2192 [==============================] - 7s 3ms/step - loss: 0.0142\n",
            "Epoch 39/60\n",
            "2192/2192 [==============================] - 9s 4ms/step - loss: 0.0142\n",
            "Epoch 40/60\n",
            "2192/2192 [==============================] - 9s 4ms/step - loss: 0.0142\n",
            "Epoch 41/60\n",
            "2192/2192 [==============================] - 8s 3ms/step - loss: 0.0142\n",
            "Epoch 42/60\n",
            "2192/2192 [==============================] - 9s 4ms/step - loss: 0.0142\n",
            "Epoch 43/60\n",
            "2192/2192 [==============================] - 9s 4ms/step - loss: 0.0142\n",
            "Epoch 44/60\n",
            "2192/2192 [==============================] - 8s 3ms/step - loss: 0.0142\n",
            "Epoch 45/60\n",
            "2192/2192 [==============================] - 9s 4ms/step - loss: 0.0142\n",
            "Epoch 46/60\n",
            "2192/2192 [==============================] - 8s 4ms/step - loss: 0.0142\n",
            "Epoch 47/60\n",
            "2192/2192 [==============================] - 8s 4ms/step - loss: 0.0142\n",
            "Epoch 48/60\n",
            "2192/2192 [==============================] - 9s 4ms/step - loss: 0.0142\n",
            "Epoch 49/60\n",
            "2192/2192 [==============================] - 8s 4ms/step - loss: 0.0142\n",
            "Epoch 50/60\n",
            "2192/2192 [==============================] - 9s 4ms/step - loss: 0.0142\n",
            "Epoch 51/60\n",
            "2192/2192 [==============================] - 11s 5ms/step - loss: 0.0142\n",
            "Epoch 52/60\n",
            "2192/2192 [==============================] - 9s 4ms/step - loss: 0.0142\n",
            "Epoch 53/60\n",
            "2192/2192 [==============================] - 8s 3ms/step - loss: 0.0142\n",
            "Epoch 54/60\n",
            "2192/2192 [==============================] - 8s 4ms/step - loss: 0.0142\n",
            "Epoch 55/60\n",
            "2192/2192 [==============================] - 8s 4ms/step - loss: 0.0142\n",
            "Epoch 56/60\n",
            "2192/2192 [==============================] - 8s 3ms/step - loss: 0.0142\n",
            "Epoch 57/60\n",
            "2192/2192 [==============================] - 9s 4ms/step - loss: 0.0142\n",
            "Epoch 58/60\n",
            "2192/2192 [==============================] - 8s 4ms/step - loss: 0.0142\n",
            "Epoch 59/60\n",
            "2192/2192 [==============================] - 8s 4ms/step - loss: 0.0142\n",
            "Epoch 60/60\n",
            "2192/2192 [==============================] - 9s 4ms/step - loss: 0.0142\n",
            "548/548 [==============================] - 2s 2ms/step - loss: 0.0142\n",
            "Mean Squared Error (LSTM): 0.014190513640642166\n"
          ]
        }
      ],
      "source": [
        "from tensorflow.keras.layers import Dropout\n",
        "from tensorflow.keras import regularizers\n",
        "\n",
        "model_lstm = Sequential()\n",
        "model_lstm.add(LSTM(50,\n",
        "                    input_shape=(X_train.shape[1], X_train.shape[2]),\n",
        "                    kernel_regularizer=regularizers.l2(0.01)))\n",
        "model_lstm.add(Dropout(0.2))\n",
        "model_lstm.add(Dense(1))\n",
        "model_lstm.compile(optimizer='adam', loss='mse')\n",
        "\n",
        "model_lstm.fit(X_train, y_train, epochs=60, batch_size=32, verbose=1)\n",
        "mse_lstm = model_lstm.evaluate(X_test, y_test)\n",
        "print(\"Mean Squared Error (LSTM):\", mse_lstm)"
      ]
    },
    {
      "cell_type": "code",
      "execution_count": null,
      "metadata": {
        "colab": {
          "base_uri": "https://localhost:8080/"
        },
        "id": "cP4Y6RJ9HbUJ",
        "outputId": "e180845e-3e9b-428e-b795-836162f41c7f"
      },
      "outputs": [
        {
          "name": "stderr",
          "output_type": "stream",
          "text": [
            "/usr/local/lib/python3.10/dist-packages/sklearn/base.py:439: UserWarning: X does not have valid feature names, but MinMaxScaler was fitted with feature names\n",
            "  warnings.warn(\n"
          ]
        },
        {
          "name": "stdout",
          "output_type": "stream",
          "text": [
            "1/1 [==============================] - 0s 440ms/step\n",
            "1/1 [==============================] - 0s 22ms/step\n",
            "1/1 [==============================] - 0s 22ms/step\n"
          ]
        },
        {
          "name": "stderr",
          "output_type": "stream",
          "text": [
            "/usr/local/lib/python3.10/dist-packages/sklearn/base.py:439: UserWarning: X does not have valid feature names, but MinMaxScaler was fitted with feature names\n",
            "  warnings.warn(\n",
            "/usr/local/lib/python3.10/dist-packages/sklearn/base.py:439: UserWarning: X does not have valid feature names, but MinMaxScaler was fitted with feature names\n",
            "  warnings.warn(\n",
            "/usr/local/lib/python3.10/dist-packages/sklearn/base.py:439: UserWarning: X does not have valid feature names, but MinMaxScaler was fitted with feature names\n",
            "  warnings.warn(\n"
          ]
        },
        {
          "name": "stdout",
          "output_type": "stream",
          "text": [
            "1/1 [==============================] - 0s 22ms/step\n",
            "1/1 [==============================] - 0s 22ms/step\n",
            "1/1 [==============================] - 0s 20ms/step\n"
          ]
        },
        {
          "name": "stderr",
          "output_type": "stream",
          "text": [
            "/usr/local/lib/python3.10/dist-packages/sklearn/base.py:439: UserWarning: X does not have valid feature names, but MinMaxScaler was fitted with feature names\n",
            "  warnings.warn(\n",
            "/usr/local/lib/python3.10/dist-packages/sklearn/base.py:439: UserWarning: X does not have valid feature names, but MinMaxScaler was fitted with feature names\n",
            "  warnings.warn(\n",
            "/usr/local/lib/python3.10/dist-packages/sklearn/base.py:439: UserWarning: X does not have valid feature names, but MinMaxScaler was fitted with feature names\n",
            "  warnings.warn(\n"
          ]
        },
        {
          "name": "stdout",
          "output_type": "stream",
          "text": [
            "1/1 [==============================] - 0s 22ms/step\n",
            "1/1 [==============================] - 0s 21ms/step\n",
            "1/1 [==============================] - 0s 22ms/step\n"
          ]
        },
        {
          "name": "stderr",
          "output_type": "stream",
          "text": [
            "/usr/local/lib/python3.10/dist-packages/sklearn/base.py:439: UserWarning: X does not have valid feature names, but MinMaxScaler was fitted with feature names\n",
            "  warnings.warn(\n",
            "/usr/local/lib/python3.10/dist-packages/sklearn/base.py:439: UserWarning: X does not have valid feature names, but MinMaxScaler was fitted with feature names\n",
            "  warnings.warn(\n",
            "/usr/local/lib/python3.10/dist-packages/sklearn/base.py:439: UserWarning: X does not have valid feature names, but MinMaxScaler was fitted with feature names\n",
            "  warnings.warn(\n"
          ]
        },
        {
          "name": "stdout",
          "output_type": "stream",
          "text": [
            "1/1 [==============================] - 0s 27ms/step\n",
            "1/1 [==============================] - 0s 21ms/step\n",
            "1/1 [==============================] - 0s 24ms/step\n"
          ]
        },
        {
          "name": "stderr",
          "output_type": "stream",
          "text": [
            "/usr/local/lib/python3.10/dist-packages/sklearn/base.py:439: UserWarning: X does not have valid feature names, but MinMaxScaler was fitted with feature names\n",
            "  warnings.warn(\n",
            "/usr/local/lib/python3.10/dist-packages/sklearn/base.py:439: UserWarning: X does not have valid feature names, but MinMaxScaler was fitted with feature names\n",
            "  warnings.warn(\n",
            "/usr/local/lib/python3.10/dist-packages/sklearn/base.py:439: UserWarning: X does not have valid feature names, but MinMaxScaler was fitted with feature names\n",
            "  warnings.warn(\n"
          ]
        },
        {
          "name": "stdout",
          "output_type": "stream",
          "text": [
            "1/1 [==============================] - 0s 21ms/step\n",
            "1/1 [==============================] - 0s 21ms/step\n",
            "1/1 [==============================] - 0s 22ms/step\n"
          ]
        },
        {
          "name": "stderr",
          "output_type": "stream",
          "text": [
            "/usr/local/lib/python3.10/dist-packages/sklearn/base.py:439: UserWarning: X does not have valid feature names, but MinMaxScaler was fitted with feature names\n",
            "  warnings.warn(\n",
            "/usr/local/lib/python3.10/dist-packages/sklearn/base.py:439: UserWarning: X does not have valid feature names, but MinMaxScaler was fitted with feature names\n",
            "  warnings.warn(\n",
            "/usr/local/lib/python3.10/dist-packages/sklearn/base.py:439: UserWarning: X does not have valid feature names, but MinMaxScaler was fitted with feature names\n",
            "  warnings.warn(\n"
          ]
        },
        {
          "name": "stdout",
          "output_type": "stream",
          "text": [
            "1/1 [==============================] - 0s 21ms/step\n",
            "1/1 [==============================] - 0s 21ms/step\n",
            "1/1 [==============================] - 0s 24ms/step\n"
          ]
        },
        {
          "name": "stderr",
          "output_type": "stream",
          "text": [
            "/usr/local/lib/python3.10/dist-packages/sklearn/base.py:439: UserWarning: X does not have valid feature names, but MinMaxScaler was fitted with feature names\n",
            "  warnings.warn(\n",
            "/usr/local/lib/python3.10/dist-packages/sklearn/base.py:439: UserWarning: X does not have valid feature names, but MinMaxScaler was fitted with feature names\n",
            "  warnings.warn(\n",
            "/usr/local/lib/python3.10/dist-packages/sklearn/base.py:439: UserWarning: X does not have valid feature names, but MinMaxScaler was fitted with feature names\n",
            "  warnings.warn(\n"
          ]
        },
        {
          "name": "stdout",
          "output_type": "stream",
          "text": [
            "1/1 [==============================] - 0s 23ms/step\n",
            "1/1 [==============================] - 0s 24ms/step\n",
            "1/1 [==============================] - 0s 24ms/step\n"
          ]
        },
        {
          "name": "stderr",
          "output_type": "stream",
          "text": [
            "/usr/local/lib/python3.10/dist-packages/sklearn/base.py:439: UserWarning: X does not have valid feature names, but MinMaxScaler was fitted with feature names\n",
            "  warnings.warn(\n",
            "/usr/local/lib/python3.10/dist-packages/sklearn/base.py:439: UserWarning: X does not have valid feature names, but MinMaxScaler was fitted with feature names\n",
            "  warnings.warn(\n",
            "/usr/local/lib/python3.10/dist-packages/sklearn/base.py:439: UserWarning: X does not have valid feature names, but MinMaxScaler was fitted with feature names\n",
            "  warnings.warn(\n"
          ]
        },
        {
          "name": "stdout",
          "output_type": "stream",
          "text": [
            "1/1 [==============================] - 0s 22ms/step\n",
            "1/1 [==============================] - 0s 22ms/step\n",
            "1/1 [==============================] - 0s 24ms/step\n",
            "     max_temp\n",
            "0   25.041313\n",
            "1   25.041315\n",
            "2   25.041311\n",
            "3   25.041311\n",
            "4   25.041311\n",
            "5   25.041309\n",
            "6   25.041309\n",
            "7   25.041309\n",
            "8   25.041311\n",
            "9   25.041315\n",
            "10  25.041311\n",
            "11  25.041311\n",
            "12  25.041315\n",
            "13  25.041315\n",
            "14  25.041317\n",
            "15  25.041319\n",
            "16  25.041323\n",
            "17  25.041327\n",
            "18  25.041323\n",
            "19  25.041328\n",
            "20  25.041330\n",
            "21  25.041336\n",
            "22  25.041328\n",
            "23  25.041328\n"
          ]
        },
        {
          "name": "stderr",
          "output_type": "stream",
          "text": [
            "/usr/local/lib/python3.10/dist-packages/sklearn/base.py:439: UserWarning: X does not have valid feature names, but MinMaxScaler was fitted with feature names\n",
            "  warnings.warn(\n",
            "/usr/local/lib/python3.10/dist-packages/sklearn/base.py:439: UserWarning: X does not have valid feature names, but MinMaxScaler was fitted with feature names\n",
            "  warnings.warn(\n"
          ]
        }
      ],
      "source": [
        "import numpy as np\n",
        "# Iterate over each row in hourly_dataframe\n",
        "for index, row in hourly_dataframe.iterrows():\n",
        "\n",
        "    relative_humidity_2m = row['relative_humidity_2m']\n",
        "    precipitation = row['precipitation']\n",
        "    rain = row['rain']\n",
        "    snowfall = row['snowfall']\n",
        "    wind_speed_10m = row['wind_speed_10m']\n",
        "    wind_gusts_10m = row['wind_gusts_10m']\n",
        "\n",
        "    input_data = np.array([[relative_humidity_2m, precipitation, rain, snowfall, wind_speed_10m, wind_gusts_10m]])\n",
        "    scale_input = scaler_x.transform(input_data)\n",
        "    reshaped_input_data = scale_input.reshape((scale_input.shape[0], 1, scale_input.shape[1]))\n",
        "    predicted_output = model_lstm.predict(reshaped_input_data)\n",
        "    predicted_output = scaler_y.inverse_transform(predicted_output)\n",
        "    output.at[index, 'max_temp'] = predicted_output[0][0]\n",
        "print(output)\n"
      ]
    },
    {
      "cell_type": "markdown",
      "metadata": {
        "id": "9WKIxzNh0klM"
      },
      "source": [
        "Here We take the max value of the temperature we obtained from our prediction"
      ]
    },
    {
      "cell_type": "code",
      "execution_count": null,
      "metadata": {
        "id": "XBucnPBO0eXM"
      },
      "outputs": [],
      "source": [
        "max_temp_max = output['max_temp'].max()"
      ]
    },
    {
      "cell_type": "markdown",
      "metadata": {
        "id": "-T3om3dBYOKm"
      },
      "source": [
        "The next cell is the actual max temp recorded today obtained from the weather api"
      ]
    },
    {
      "cell_type": "code",
      "execution_count": null,
      "metadata": {
        "colab": {
          "base_uri": "https://localhost:8080/"
        },
        "id": "RtQqrPU8NzsC",
        "outputId": "0093904b-b0d3-4918-cb52-9c3b56a6dc2c"
      },
      "outputs": [
        {
          "data": {
            "text/plain": [
              "26.1695"
            ]
          },
          "execution_count": 27,
          "metadata": {},
          "output_type": "execute_result"
        }
      ],
      "source": [
        "daily_dataframe.temperature_2m_max[0]"
      ]
    },
    {
      "cell_type": "code",
      "execution_count": null,
      "metadata": {
        "colab": {
          "base_uri": "https://localhost:8080/"
        },
        "id": "NHvj782MOCdp",
        "outputId": "0d975575-9b9a-44e1-c7b7-87ca118aae2b"
      },
      "outputs": [
        {
          "name": "stdout",
          "output_type": "stream",
          "text": [
            "Offset_temp in Celsius is -1.128164291381836\n",
            "Offset Temp in Farenheit is -2.030695724487302\n"
          ]
        }
      ],
      "source": [
        "a=daily_dataframe.temperature_2m_max[0]\n",
        "a=(a*9/5)+32\n",
        "b=max_temp_max\n",
        "c=(max_temp_max*9/5)+32\n",
        "Offset_temp = max_temp_max-daily_dataframe.temperature_2m_max[0]\n",
        "print(\"Offset_temp in Celsius is\",b-daily_dataframe.temperature_2m_max[0])\n",
        "print(\"Offset Temp in Farenheit is\",c-a)"
      ]
    },
    {
      "cell_type": "markdown",
      "metadata": {
        "id": "_qc-uLnBPRVV"
      },
      "source": [
        " **Offset Temp mean how off the predicted values are from the actual values*"
      ]
    },
    {
      "cell_type": "code",
      "execution_count": null,
      "metadata": {
        "colab": {
          "base_uri": "https://localhost:8080/"
        },
        "id": "f7vHkABNGodn",
        "outputId": "0884ba8d-efdd-437d-b388-a01c359ad6ef"
      },
      "outputs": [
        {
          "name": "stdout",
          "output_type": "stream",
          "text": [
            "25.041336059570312 This is in Degree Celsius(Predicted)\n",
            "77.07440490722657 This is in Farenheit(Predicted)\n"
          ]
        }
      ],
      "source": [
        "print(max_temp_max,\"This is in Degree Celsius(Predicted)\")\n",
        "max_temp_max=(max_temp_max * 9/5) + 32\n",
        "print(max_temp_max,\"This is in Farenheit(Predicted)\")"
      ]
    },
    {
      "cell_type": "code",
      "execution_count": null,
      "metadata": {
        "colab": {
          "base_uri": "https://localhost:8080/"
        },
        "id": "_sVhHbsoSvHQ",
        "outputId": "c23b79e8-c146-417c-8476-70d1e4bacfc7"
      },
      "outputs": [
        {
          "name": "stdout",
          "output_type": "stream",
          "text": [
            "Value saved to /content/max_temp_max.json\n"
          ]
        }
      ],
      "source": [
        "import json\n",
        "data = {'max_temp_max': max_temp_max}\n",
        "file_path = '/content/max_temp_max.json'\n",
        "with open(file_path, 'w') as json_file:\n",
        "    json.dump(data, json_file)\n",
        "\n",
        "print(\"Value saved to\", file_path)\n"
      ]
    },
    {
      "cell_type": "code",
      "execution_count": null,
      "metadata": {
        "colab": {
          "base_uri": "https://localhost:8080/",
          "height": 1000
        },
        "id": "DSKX52yhUXtt",
        "outputId": "69e20e09-be10-4eac-f5e7-32aa289d7a53"
      },
      "outputs": [
        {
          "data": {
            "image/png": "[encoded data removed]",
            "text/plain": [
              "<Figure size 1000x600 with 1 Axes>"
            ]
          },
          "metadata": {},
          "output_type": "display_data"
        },
        {
          "data": {
            "image/png": "[encoded data removed]",
            "text/plain": [
              "<Figure size 1000x600 with 1 Axes>"
            ]
          },
          "metadata": {},
          "output_type": "display_data"
        },
        {
          "name": "stdout",
          "output_type": "stream",
          "text": [
            "Mean Absolute Error (MAE): 1.7728798389434814\n"
          ]
        }
      ],
      "source": [
        "import matplotlib.pyplot as plt\n",
        "\n",
        "plt.figure(figsize=(10, 6))\n",
        "plt.plot(hourly_dataframe.index, hourly_dataframe['temperature_2m'], label='Actual Temperature', color='blue')\n",
        "plt.plot(hourly_dataframe.index, output['max_temp'], label='Predicted Temperature', color='red')\n",
        "plt.xlabel('Time')\n",
        "plt.ylabel('Temperature (°C)')\n",
        "plt.title('Actual vs Predicted Temperature')\n",
        "plt.legend()\n",
        "plt.show()\n",
        "\n",
        "residuals = output['max_temp'] - hourly_dataframe['temperature_2m']\n",
        "\n",
        "plt.figure(figsize=(10, 6))\n",
        "plt.plot(hourly_dataframe.index, residuals, color='green')\n",
        "plt.xlabel('Time')\n",
        "plt.ylabel('Residuals')\n",
        "plt.title('Residual Plot')\n",
        "plt.axhline(y=0, color='black', linestyle='--')\n",
        "plt.show()\n",
        "\n"
      ]
    },
    {
      "cell_type": "code",
      "execution_count": null,
      "metadata": {
        "colab": {
          "base_uri": "https://localhost:8080/",
          "height": 564
        },
        "id": "-Y1jcRw5Vlg4",
        "outputId": "e3ffe461-b79f-4c24-86ff-2bdcbcc14c45"
      },
      "outputs": [
        {
          "data": {
            "image/png": "[encoded data removed]",
            "text/plain": [
              "<Figure size 1000x600 with 1 Axes>"
            ]
          },
          "metadata": {},
          "output_type": "display_data"
        }
      ],
      "source": [
        "import scipy.stats as stats\n",
        "\n",
        "plt.figure(figsize=(10, 6))\n",
        "stats.probplot(residuals, dist=\"norm\", plot=plt)\n",
        "plt.title('Q-Q Plot of Residuals')\n",
        "plt.show()\n"
      ]
    },
    {
      "cell_type": "code",
      "execution_count": null,
      "metadata": {
        "colab": {
          "base_uri": "https://localhost:8080/",
          "height": 564
        },
        "id": "j5DzSVfQWmZB",
        "outputId": "8b243e28-553d-4cdb-ab17-08f5aa4627e5"
      },
      "outputs": [
        {
          "data": {
            "image/png": "[encoded data removed]",
            "text/plain": [
              "<Figure size 1000x600 with 1 Axes>"
            ]
          },
          "metadata": {},
          "output_type": "display_data"
        }
      ],
      "source": [
        "plt.figure(figsize=(10, 6))\n",
        "plt.hist(hourly_dataframe['temperature_2m'], bins=20, color='blue', edgecolor='black')\n",
        "plt.xlabel('Temperature (°C)')\n",
        "plt.ylabel('Frequency')\n",
        "plt.title('Distribution of Temperature Data')\n",
        "plt.show()\n"
      ]
    },
    {
      "cell_type": "code",
      "execution_count": null,
      "metadata": {
        "id": "bakPpZwZo7Gy"
      },
      "outputs": [],
      "source": []
    }
  ],
  "metadata": {
    "colab": {
      "provenance": []
    },
    "kernelspec": {
      "display_name": "Python 3",
      "name": "python3"
    },
    "language_info": {
      "name": "python"
    }
  },
  "nbformat": 4,
  "nbformat_minor": 0
}

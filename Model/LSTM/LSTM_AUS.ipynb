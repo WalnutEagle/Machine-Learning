{
  "cells": [
    {
      "cell_type": "code",
      "execution_count": 1,
      "metadata": {
        "id": "Rh48n1OmnEhU"
      },
      "outputs": [],
      "source": [
        "import pandas as pd\n",
        "data = {'max_temp': []}\n",
        "output = pd.DataFrame(data)"
      ]
    },
    {
      "cell_type": "code",
      "execution_count": 2,
      "metadata": {
        "id": "KdhT94S5nPEB"
      },
      "outputs": [],
      "source": [
        "df = pd.read_csv(r'/content/AUS.csv')"
      ]
    },
    {
      "cell_type": "code",
      "execution_count": 3,
      "metadata": {
        "colab": {
          "base_uri": "https://localhost:8080/"
        },
        "id": "9Vd0V2hyvcwd",
        "outputId": "52ada650-f167-4e6a-f291-11210a88c17e"
      },
      "outputs": [
        {
          "name": "stdout",
          "output_type": "stream",
          "text": [
            "Requirement already satisfied: openmeteo-requests in /usr/local/lib/python3.10/dist-packages (1.2.0)\n",
            "Requirement already satisfied: openmeteo-sdk>=1.4.0 in /usr/local/lib/python3.10/dist-packages (from openmeteo-requests) (1.11.3)\n",
            "Requirement already satisfied: requests in /usr/local/lib/python3.10/dist-packages (from openmeteo-requests) (2.31.0)\n",
            "Requirement already satisfied: flatbuffers>=24.0.0 in /usr/local/lib/python3.10/dist-packages (from openmeteo-sdk>=1.4.0->openmeteo-requests) (24.3.25)\n",
            "Requirement already satisfied: charset-normalizer<4,>=2 in /usr/local/lib/python3.10/dist-packages (from requests->openmeteo-requests) (3.3.2)\n",
            "Requirement already satisfied: idna<4,>=2.5 in /usr/local/lib/python3.10/dist-packages (from requests->openmeteo-requests) (3.6)\n",
            "Requirement already satisfied: urllib3<3,>=1.21.1 in /usr/local/lib/python3.10/dist-packages (from requests->openmeteo-requests) (2.0.7)\n",
            "Requirement already satisfied: certifi>=2017.4.17 in /usr/local/lib/python3.10/dist-packages (from requests->openmeteo-requests) (2024.2.2)\n",
            "Requirement already satisfied: requests-cache in /usr/local/lib/python3.10/dist-packages (1.2.0)\n",
            "Requirement already satisfied: retry-requests in /usr/local/lib/python3.10/dist-packages (2.0.0)\n",
            "Requirement already satisfied: numpy in /usr/local/lib/python3.10/dist-packages (1.25.2)\n",
            "Requirement already satisfied: pandas in /usr/local/lib/python3.10/dist-packages (2.0.3)\n",
            "Requirement already satisfied: attrs>=21.2 in /usr/local/lib/python3.10/dist-packages (from requests-cache) (23.2.0)\n",
            "Requirement already satisfied: cattrs>=22.2 in /usr/local/lib/python3.10/dist-packages (from requests-cache) (23.2.3)\n",
            "Requirement already satisfied: platformdirs>=2.5 in /usr/local/lib/python3.10/dist-packages (from requests-cache) (4.2.0)\n",
            "Requirement already satisfied: requests>=2.22 in /usr/local/lib/python3.10/dist-packages (from requests-cache) (2.31.0)\n",
            "Requirement already satisfied: url-normalize>=1.4 in /usr/local/lib/python3.10/dist-packages (from requests-cache) (1.4.3)\n",
            "Requirement already satisfied: urllib3>=1.25.5 in /usr/local/lib/python3.10/dist-packages (from requests-cache) (2.0.7)\n",
            "Requirement already satisfied: python-dateutil>=2.8.2 in /usr/local/lib/python3.10/dist-packages (from pandas) (2.8.2)\n",
            "Requirement already satisfied: pytz>=2020.1 in /usr/local/lib/python3.10/dist-packages (from pandas) (2023.4)\n",
            "Requirement already satisfied: tzdata>=2022.1 in /usr/local/lib/python3.10/dist-packages (from pandas) (2024.1)\n",
            "Requirement already satisfied: exceptiongroup>=1.1.1 in /usr/local/lib/python3.10/dist-packages (from cattrs>=22.2->requests-cache) (1.2.0)\n",
            "Requirement already satisfied: typing-extensions!=4.6.3,>=4.1.0 in /usr/local/lib/python3.10/dist-packages (from cattrs>=22.2->requests-cache) (4.10.0)\n",
            "Requirement already satisfied: six>=1.5 in /usr/local/lib/python3.10/dist-packages (from python-dateutil>=2.8.2->pandas) (1.16.0)\n",
            "Requirement already satisfied: charset-normalizer<4,>=2 in /usr/local/lib/python3.10/dist-packages (from requests>=2.22->requests-cache) (3.3.2)\n",
            "Requirement already satisfied: idna<4,>=2.5 in /usr/local/lib/python3.10/dist-packages (from requests>=2.22->requests-cache) (3.6)\n",
            "Requirement already satisfied: certifi>=2017.4.17 in /usr/local/lib/python3.10/dist-packages (from requests>=2.22->requests-cache) (2024.2.2)\n",
            "Coordinates 30.269145965576172°N -97.75338745117188°E\n",
            "Elevation 157.0 m asl\n",
            "Timezone None None\n",
            "Timezone difference to GMT+0 0 s\n",
            "                        date  temperature_2m  relative_humidity_2m  \\\n",
            "0  2024-04-04 00:00:00+00:00       26.643499                  18.0   \n",
            "1  2024-04-04 01:00:00+00:00       22.993500                  25.0   \n",
            "2  2024-04-04 02:00:00+00:00       19.743500                  36.0   \n",
            "3  2024-04-04 03:00:00+00:00       17.643499                  45.0   \n",
            "4  2024-04-04 04:00:00+00:00       15.243500                  56.0   \n",
            "5  2024-04-04 05:00:00+00:00       15.193500                  48.0   \n",
            "6  2024-04-04 06:00:00+00:00       13.693500                  51.0   \n",
            "7  2024-04-04 07:00:00+00:00       11.543500                  68.0   \n",
            "8  2024-04-04 08:00:00+00:00       10.843500                  73.0   \n",
            "9  2024-04-04 09:00:00+00:00       10.693500                  67.0   \n",
            "10 2024-04-04 10:00:00+00:00       10.243500                  68.0   \n",
            "11 2024-04-04 11:00:00+00:00        9.343500                  77.0   \n",
            "12 2024-04-04 12:00:00+00:00        9.393499                  71.0   \n",
            "13 2024-04-04 13:00:00+00:00       10.443500                  75.0   \n",
            "14 2024-04-04 14:00:00+00:00       14.943500                  71.0   \n",
            "15 2024-04-04 15:00:00+00:00       20.493500                  43.0   \n",
            "16 2024-04-04 16:00:00+00:00       23.393499                  36.0   \n",
            "17 2024-04-04 17:00:00+00:00       26.893499                  23.0   \n",
            "18 2024-04-04 18:00:00+00:00       29.043499                  17.0   \n",
            "19 2024-04-04 19:00:00+00:00       29.943501                  19.0   \n",
            "20 2024-04-04 20:00:00+00:00       30.543499                  20.0   \n",
            "21 2024-04-04 21:00:00+00:00       30.993500                  19.0   \n",
            "22 2024-04-04 22:00:00+00:00       31.093500                  19.0   \n",
            "23 2024-04-04 23:00:00+00:00       29.943501                  18.0   \n",
            "\n",
            "    precipitation  rain  snowfall  wind_speed_10m  wind_gusts_10m  \n",
            "0             0.0   0.0       0.0        8.217153       29.160000  \n",
            "1             0.0   0.0       0.0        4.735060       10.440001  \n",
            "2             0.0   0.0       0.0        5.091168        7.559999  \n",
            "3             0.0   0.0       0.0        2.189795        6.120000  \n",
            "4             0.0   0.0       0.0        2.741678        2.880000  \n",
            "5             0.0   0.0       0.0        2.189795        3.240000  \n",
            "6             0.0   0.0       0.0        1.297998        3.600000  \n",
            "7             0.0   0.0       0.0        0.804985        3.240000  \n",
            "8             0.0   0.0       0.0        5.447788        5.760000  \n",
            "9             0.0   0.0       0.0        4.896529        5.040000  \n",
            "10            0.0   0.0       0.0        4.896530        6.120000  \n",
            "11            0.0   0.0       0.0        1.800000        3.240000  \n",
            "12            0.0   0.0       0.0        5.634891        6.480000  \n",
            "13            0.0   0.0       0.0        5.154415        5.040000  \n",
            "14            0.0   0.0       0.0        1.440000        7.559999  \n",
            "15            0.0   0.0       0.0        3.545589       17.280001  \n",
            "16            0.0   0.0       0.0        6.989935       19.440001  \n",
            "17            0.0   0.0       0.0        7.235910       16.559999  \n",
            "18            0.0   0.0       0.0        9.531505       16.559999  \n",
            "19            0.0   0.0       0.0       10.685391       16.559999  \n",
            "20            0.0   0.0       0.0       13.104198       21.599998  \n",
            "21            0.0   0.0       0.0       13.358861       22.680000  \n",
            "22            0.0   0.0       0.0       11.503113       18.359999  \n",
            "23            0.0   0.0       0.0       15.111424       20.160000  \n",
            "                       date  temperature_2m_max\n",
            "0 2024-04-04 00:00:00+00:00             31.0935\n"
          ]
        }
      ],
      "source": [
        "!pip install openmeteo-requests\n",
        "!pip install requests-cache retry-requests numpy pandas\n",
        "import requests_cache\n",
        "import pandas as pd\n",
        "from retry_requests import retry\n",
        "import openmeteo_requests\n",
        "\n",
        "# Setup the Open-Meteo API client with cache and retry on error\n",
        "cache_session = requests_cache.CachedSession('.cache', expire_after = 3600)\n",
        "retry_session = retry(cache_session, retries = 5, backoff_factor = 0.2)\n",
        "openmeteo = openmeteo_requests.Client(session = retry_session)\n",
        "\n",
        "# Make sure all required weather variables are listed here\n",
        "# The order of variables in hourly or daily is important to assign them correctly below\n",
        "url = \"https://api.open-meteo.com/v1/forecast\"\n",
        "params = {\n",
        "\t\"latitude\": 30.2672,\n",
        "\t\"longitude\": -97.7431,\n",
        "\t\"hourly\": [\"temperature_2m\", \"relative_humidity_2m\", \"precipitation\", \"rain\", \"snowfall\", \"wind_speed_10m\", \"wind_gusts_10m\"],\n",
        "\t\"daily\": \"temperature_2m_max\",\n",
        "\t\"start_date\": \"2024-04-04\",\n",
        "\t\"end_date\": \"2024-04-04\"\n",
        "}\n",
        "responses = openmeteo.weather_api(url, params=params)\n",
        "\n",
        "# Process first location. Add a for-loop for multiple locations or weather models\n",
        "response = responses[0]\n",
        "print(f\"Coordinates {response.Latitude()}°N {response.Longitude()}°E\")\n",
        "print(f\"Elevation {response.Elevation()} m asl\")\n",
        "print(f\"Timezone {response.Timezone()} {response.TimezoneAbbreviation()}\")\n",
        "print(f\"Timezone difference to GMT+0 {response.UtcOffsetSeconds()} s\")\n",
        "\n",
        "# Process hourly data. The order of variables needs to be the same as requested.\n",
        "hourly = response.Hourly()\n",
        "hourly_temperature_2m = hourly.Variables(0).ValuesAsNumpy()\n",
        "hourly_relative_humidity_2m = hourly.Variables(1).ValuesAsNumpy()\n",
        "hourly_precipitation = hourly.Variables(2).ValuesAsNumpy()\n",
        "hourly_rain = hourly.Variables(3).ValuesAsNumpy()\n",
        "hourly_snowfall = hourly.Variables(4).ValuesAsNumpy()\n",
        "hourly_wind_speed_10m = hourly.Variables(5).ValuesAsNumpy()\n",
        "hourly_wind_gusts_10m = hourly.Variables(6).ValuesAsNumpy()\n",
        "\n",
        "hourly_data = {\"date\": pd.date_range(\n",
        "\tstart = pd.to_datetime(hourly.Time(), unit = \"s\", utc = True),\n",
        "\tend = pd.to_datetime(hourly.TimeEnd(), unit = \"s\", utc = True),\n",
        "\tfreq = pd.Timedelta(seconds = hourly.Interval()),\n",
        "\tinclusive = \"left\"\n",
        ")}\n",
        "hourly_data[\"temperature_2m\"] = hourly_temperature_2m\n",
        "hourly_data[\"relative_humidity_2m\"] = hourly_relative_humidity_2m\n",
        "hourly_data[\"precipitation\"] = hourly_precipitation\n",
        "hourly_data[\"rain\"] = hourly_rain\n",
        "hourly_data[\"snowfall\"] = hourly_snowfall\n",
        "hourly_data[\"wind_speed_10m\"] = hourly_wind_speed_10m\n",
        "hourly_data[\"wind_gusts_10m\"] = hourly_wind_gusts_10m\n",
        "\n",
        "hourly_dataframe = pd.DataFrame(data = hourly_data)\n",
        "print(hourly_dataframe)\n",
        "\n",
        "# Process daily data. The order of variables needs to be the same as requested.\n",
        "daily = response.Daily()\n",
        "daily_temperature_2m_max = daily.Variables(0).ValuesAsNumpy()\n",
        "\n",
        "daily_data = {\"date\": pd.date_range(\n",
        "\tstart = pd.to_datetime(daily.Time(), unit = \"s\", utc = True),\n",
        "\tend = pd.to_datetime(daily.TimeEnd(), unit = \"s\", utc = True),\n",
        "\tfreq = pd.Timedelta(seconds = daily.Interval()),\n",
        "\tinclusive = \"left\"\n",
        ")}\n",
        "daily_data[\"temperature_2m_max\"] = daily_temperature_2m_max\n",
        "\n",
        "daily_dataframe = pd.DataFrame(data = daily_data)\n",
        "print(daily_dataframe)"
      ]
    },
    {
      "cell_type": "code",
      "execution_count": 4,
      "metadata": {
        "id": "79rQO2AQrpZw"
      },
      "outputs": [],
      "source": [
        "hourly_dataframe.drop(columns=['date'],inplace=True)"
      ]
    },
    {
      "cell_type": "code",
      "execution_count": 5,
      "metadata": {
        "colab": {
          "base_uri": "https://localhost:8080/"
        },
        "id": "7f-HELgrnOzc",
        "outputId": "ed5f5426-edf1-4b7d-9143-ccaf374470a2"
      },
      "outputs": [
        {
          "name": "stdout",
          "output_type": "stream",
          "text": [
            "                            date  temperature_2m  relative_humidity_2m  \\\n",
            "0      2014-01-01 00:00:00+00:00        8.842999             59.765373   \n",
            "1      2014-01-01 01:00:00+00:00        7.443000             64.325210   \n",
            "2      2014-01-01 02:00:00+00:00        6.593000             66.967186   \n",
            "3      2014-01-01 03:00:00+00:00        5.993000             68.795320   \n",
            "4      2014-01-01 04:00:00+00:00        5.443000             70.951390   \n",
            "...                          ...             ...                   ...   \n",
            "87667  2024-01-01 19:00:00+00:00       12.008500             51.478466   \n",
            "87668  2024-01-01 20:00:00+00:00       12.808500             49.897438   \n",
            "87669  2024-01-01 21:00:00+00:00       13.058500             49.438107   \n",
            "87670  2024-01-01 22:00:00+00:00       12.758500             49.883600   \n",
            "87671  2024-01-01 23:00:00+00:00       11.708500             52.693880   \n",
            "\n",
            "       dew_point_2m  precipitation  rain  snowfall  wind_speed_10m  \\\n",
            "0            1.4430            0.0   0.0       0.0        8.089993   \n",
            "1            1.1430            0.0   0.0       0.0        9.107359   \n",
            "2            0.8930            0.0   0.0       0.0        8.825508   \n",
            "3            0.6930            0.0   0.0       0.0        8.311245   \n",
            "4            0.5930            0.0   0.0       0.0        8.640000   \n",
            "...             ...            ...   ...       ...             ...   \n",
            "87667        2.3085            0.0   0.0       0.0       20.275383   \n",
            "87668        2.6085            0.0   0.0       0.0       20.008356   \n",
            "87669        2.7085            0.0   0.0       0.0       19.562946   \n",
            "87670        2.5585            0.0   0.0       0.0       18.692286   \n",
            "87671        2.3585            0.0   0.0       0.0       16.279802   \n",
            "\n",
            "       wind_speed_100m  wind_gusts_10m  \n",
            "0            18.250260       11.879999  \n",
            "1            20.431387       13.320000  \n",
            "2            20.124610       14.400000  \n",
            "3            19.852295       14.759999  \n",
            "4            20.163212       14.759999  \n",
            "...                ...             ...  \n",
            "87667        25.721743       37.079998  \n",
            "87668        25.509243       37.079998  \n",
            "87669        25.148520       36.360000  \n",
            "87670        24.379204       34.920000  \n",
            "87671        23.565567       32.039997  \n",
            "\n",
            "[87672 rows x 10 columns]\n"
          ]
        }
      ],
      "source": [
        "print(df)"
      ]
    },
    {
      "cell_type": "code",
      "execution_count": 6,
      "metadata": {
        "id": "DX-kri3MoDW_"
      },
      "outputs": [],
      "source": [
        "df.drop(columns=['wind_speed_100m'],inplace=True)"
      ]
    },
    {
      "cell_type": "code",
      "execution_count": 7,
      "metadata": {
        "colab": {
          "base_uri": "https://localhost:8080/"
        },
        "id": "umV5-F5nh779",
        "outputId": "5ef79e3f-1af2-41b5-8b9e-65d25966e9f9"
      },
      "outputs": [
        {
          "name": "stdout",
          "output_type": "stream",
          "text": [
            "Index(['date', 'temperature_2m', 'relative_humidity_2m', 'dew_point_2m',\n",
            "       'precipitation', 'rain', 'snowfall', 'wind_speed_10m',\n",
            "       'wind_gusts_10m'],\n",
            "      dtype='object')\n"
          ]
        }
      ],
      "source": [
        "print(df.columns)"
      ]
    },
    {
      "cell_type": "code",
      "execution_count": 8,
      "metadata": {
        "id": "GL9j2GojnRWX"
      },
      "outputs": [],
      "source": [
        "df.drop(columns=['date'],inplace=True)"
      ]
    },
    {
      "cell_type": "code",
      "execution_count": 9,
      "metadata": {
        "colab": {
          "base_uri": "https://localhost:8080/",
          "height": 424
        },
        "id": "QycR9H4370mu",
        "outputId": "a0cb32d8-e16e-474e-8b88-d843b8eda6f4"
      },
      "outputs": [
        {
          "data": {
            "application/vnd.google.colaboratory.intrinsic+json": {
              "summary": "{\n  \"name\": \"df\",\n  \"rows\": 87672,\n  \"fields\": [\n    {\n      \"column\": \"temperature_2m\",\n      \"properties\": {\n        \"dtype\": \"number\",\n        \"std\": 8.646702971445423,\n        \"min\": -15.1915,\n        \"max\": 41.658497,\n        \"num_unique_values\": 1861,\n        \"samples\": [\n          4.343,\n          19.393,\n          18.8085\n        ],\n        \"semantic_type\": \"\",\n        \"description\": \"\"\n      }\n    },\n    {\n      \"column\": \"relative_humidity_2m\",\n      \"properties\": {\n        \"dtype\": \"number\",\n        \"std\": 20.772282487061712,\n        \"min\": 8.296331,\n        \"max\": 100.0,\n        \"num_unique_values\": 71228,\n        \"samples\": [\n          71.032936,\n          46.01807,\n          95.60136\n        ],\n        \"semantic_type\": \"\",\n        \"description\": \"\"\n      }\n    },\n    {\n      \"column\": \"dew_point_2m\",\n      \"properties\": {\n        \"dtype\": \"number\",\n        \"std\": 8.514051585298782,\n        \"min\": -23.8415,\n        \"max\": 27.508501,\n        \"num_unique_values\": 1678,\n        \"samples\": [\n          -13.4915,\n          15.993,\n          5.1930003\n        ],\n        \"semantic_type\": \"\",\n        \"description\": \"\"\n      }\n    },\n    {\n      \"column\": \"precipitation\",\n      \"properties\": {\n        \"dtype\": \"number\",\n        \"std\": 0.8092329286855519,\n        \"min\": 0.0,\n        \"max\": 34.7,\n        \"num_unique_values\": 172,\n        \"samples\": [\n          7.0,\n          15.0,\n          10.3\n        ],\n        \"semantic_type\": \"\",\n        \"description\": \"\"\n      }\n    },\n    {\n      \"column\": \"rain\",\n      \"properties\": {\n        \"dtype\": \"number\",\n        \"std\": 0.8089613818564089,\n        \"min\": 0.0,\n        \"max\": 34.7,\n        \"num_unique_values\": 179,\n        \"samples\": [\n          8.7,\n          3.0,\n          9.0\n        ],\n        \"semantic_type\": \"\",\n        \"description\": \"\"\n      }\n    },\n    {\n      \"column\": \"snowfall\",\n      \"properties\": {\n        \"dtype\": \"number\",\n        \"std\": 0.012693609551208131,\n        \"min\": 0.0,\n        \"max\": 1.54,\n        \"num_unique_values\": 18,\n        \"samples\": [\n          0.0,\n          0.07,\n          0.42000002\n        ],\n        \"semantic_type\": \"\",\n        \"description\": \"\"\n      }\n    },\n    {\n      \"column\": \"wind_speed_10m\",\n      \"properties\": {\n        \"dtype\": \"number\",\n        \"std\": 6.5187975499029625,\n        \"min\": 0.0,\n        \"max\": 57.10285,\n        \"num_unique_values\": 2794,\n        \"samples\": [\n          28.036118,\n          28.185953,\n          9.793058\n        ],\n        \"semantic_type\": \"\",\n        \"description\": \"\"\n      }\n    },\n    {\n      \"column\": \"wind_gusts_10m\",\n      \"properties\": {\n        \"dtype\": \"number\",\n        \"std\": 11.57944057020886,\n        \"min\": 1.4399999,\n        \"max\": 96.479996,\n        \"num_unique_values\": 223,\n        \"samples\": [\n          19.8,\n          11.159999,\n          39.96\n        ],\n        \"semantic_type\": \"\",\n        \"description\": \"\"\n      }\n    }\n  ]\n}",
              "type": "dataframe",
              "variable_name": "df"
            },
            "text/html": [
              "\n",
              "  <div id=\"df-e6c21cc4-6d3e-478e-b677-753119e38957\" class=\"colab-df-container\">\n",
              "    <div>\n",
              "<style scoped>\n",
              "    .dataframe tbody tr th:only-of-type {\n",
              "        vertical-align: middle;\n",
              "    }\n",
              "\n",
              "    .dataframe tbody tr th {\n",
              "        vertical-align: top;\n",
              "    }\n",
              "\n",
              "    .dataframe thead th {\n",
              "        text-align: right;\n",
              "    }\n",
              "</style>\n",
              "<table border=\"1\" class=\"dataframe\">\n",
              "  <thead>\n",
              "    <tr style=\"text-align: right;\">\n",
              "      <th></th>\n",
              "      <th>temperature_2m</th>\n",
              "      <th>relative_humidity_2m</th>\n",
              "      <th>dew_point_2m</th>\n",
              "      <th>precipitation</th>\n",
              "      <th>rain</th>\n",
              "      <th>snowfall</th>\n",
              "      <th>wind_speed_10m</th>\n",
              "      <th>wind_gusts_10m</th>\n",
              "    </tr>\n",
              "  </thead>\n",
              "  <tbody>\n",
              "    <tr>\n",
              "      <th>0</th>\n",
              "      <td>8.842999</td>\n",
              "      <td>59.765373</td>\n",
              "      <td>1.4430</td>\n",
              "      <td>0.0</td>\n",
              "      <td>0.0</td>\n",
              "      <td>0.0</td>\n",
              "      <td>8.089993</td>\n",
              "      <td>11.879999</td>\n",
              "    </tr>\n",
              "    <tr>\n",
              "      <th>1</th>\n",
              "      <td>7.443000</td>\n",
              "      <td>64.325210</td>\n",
              "      <td>1.1430</td>\n",
              "      <td>0.0</td>\n",
              "      <td>0.0</td>\n",
              "      <td>0.0</td>\n",
              "      <td>9.107359</td>\n",
              "      <td>13.320000</td>\n",
              "    </tr>\n",
              "    <tr>\n",
              "      <th>2</th>\n",
              "      <td>6.593000</td>\n",
              "      <td>66.967186</td>\n",
              "      <td>0.8930</td>\n",
              "      <td>0.0</td>\n",
              "      <td>0.0</td>\n",
              "      <td>0.0</td>\n",
              "      <td>8.825508</td>\n",
              "      <td>14.400000</td>\n",
              "    </tr>\n",
              "    <tr>\n",
              "      <th>3</th>\n",
              "      <td>5.993000</td>\n",
              "      <td>68.795320</td>\n",
              "      <td>0.6930</td>\n",
              "      <td>0.0</td>\n",
              "      <td>0.0</td>\n",
              "      <td>0.0</td>\n",
              "      <td>8.311245</td>\n",
              "      <td>14.759999</td>\n",
              "    </tr>\n",
              "    <tr>\n",
              "      <th>4</th>\n",
              "      <td>5.443000</td>\n",
              "      <td>70.951390</td>\n",
              "      <td>0.5930</td>\n",
              "      <td>0.0</td>\n",
              "      <td>0.0</td>\n",
              "      <td>0.0</td>\n",
              "      <td>8.640000</td>\n",
              "      <td>14.759999</td>\n",
              "    </tr>\n",
              "    <tr>\n",
              "      <th>...</th>\n",
              "      <td>...</td>\n",
              "      <td>...</td>\n",
              "      <td>...</td>\n",
              "      <td>...</td>\n",
              "      <td>...</td>\n",
              "      <td>...</td>\n",
              "      <td>...</td>\n",
              "      <td>...</td>\n",
              "    </tr>\n",
              "    <tr>\n",
              "      <th>87667</th>\n",
              "      <td>12.008500</td>\n",
              "      <td>51.478466</td>\n",
              "      <td>2.3085</td>\n",
              "      <td>0.0</td>\n",
              "      <td>0.0</td>\n",
              "      <td>0.0</td>\n",
              "      <td>20.275383</td>\n",
              "      <td>37.079998</td>\n",
              "    </tr>\n",
              "    <tr>\n",
              "      <th>87668</th>\n",
              "      <td>12.808500</td>\n",
              "      <td>49.897438</td>\n",
              "      <td>2.6085</td>\n",
              "      <td>0.0</td>\n",
              "      <td>0.0</td>\n",
              "      <td>0.0</td>\n",
              "      <td>20.008356</td>\n",
              "      <td>37.079998</td>\n",
              "    </tr>\n",
              "    <tr>\n",
              "      <th>87669</th>\n",
              "      <td>13.058500</td>\n",
              "      <td>49.438107</td>\n",
              "      <td>2.7085</td>\n",
              "      <td>0.0</td>\n",
              "      <td>0.0</td>\n",
              "      <td>0.0</td>\n",
              "      <td>19.562946</td>\n",
              "      <td>36.360000</td>\n",
              "    </tr>\n",
              "    <tr>\n",
              "      <th>87670</th>\n",
              "      <td>12.758500</td>\n",
              "      <td>49.883600</td>\n",
              "      <td>2.5585</td>\n",
              "      <td>0.0</td>\n",
              "      <td>0.0</td>\n",
              "      <td>0.0</td>\n",
              "      <td>18.692286</td>\n",
              "      <td>34.920000</td>\n",
              "    </tr>\n",
              "    <tr>\n",
              "      <th>87671</th>\n",
              "      <td>11.708500</td>\n",
              "      <td>52.693880</td>\n",
              "      <td>2.3585</td>\n",
              "      <td>0.0</td>\n",
              "      <td>0.0</td>\n",
              "      <td>0.0</td>\n",
              "      <td>16.279802</td>\n",
              "      <td>32.039997</td>\n",
              "    </tr>\n",
              "  </tbody>\n",
              "</table>\n",
              "<p>87672 rows × 8 columns</p>\n",
              "</div>\n",
              "    <div class=\"colab-df-buttons\">\n",
              "\n",
              "  <div class=\"colab-df-container\">\n",
              "    <button class=\"colab-df-convert\" onclick=\"convertToInteractive('df-e6c21cc4-6d3e-478e-b677-753119e38957')\"\n",
              "            title=\"Convert this dataframe to an interactive table.\"\n",
              "            style=\"display:none;\">\n",
              "\n",
              "  <svg xmlns=\"http://www.w3.org/2000/svg\" height=\"24px\" viewBox=\"0 -960 960 960\">\n",
              "    <path d=\"M120-120v-720h720v720H120Zm60-500h600v-160H180v160Zm220 220h160v-160H400v160Zm0 220h160v-160H400v160ZM180-400h160v-160H180v160Zm440 0h160v-160H620v160ZM180-180h160v-160H180v160Zm440 0h160v-160H620v160Z\"/>\n",
              "  </svg>\n",
              "    </button>\n",
              "\n",
              "  <style>\n",
              "    .colab-df-container {\n",
              "      display:flex;\n",
              "      gap: 12px;\n",
              "    }\n",
              "\n",
              "    .colab-df-convert {\n",
              "      background-color: #E8F0FE;\n",
              "      border: none;\n",
              "      border-radius: 50%;\n",
              "      cursor: pointer;\n",
              "      display: none;\n",
              "      fill: #1967D2;\n",
              "      height: 32px;\n",
              "      padding: 0 0 0 0;\n",
              "      width: 32px;\n",
              "    }\n",
              "\n",
              "    .colab-df-convert:hover {\n",
              "      background-color: #E2EBFA;\n",
              "      box-shadow: 0px 1px 2px rgba(60, 64, 67, 0.3), 0px 1px 3px 1px rgba(60, 64, 67, 0.15);\n",
              "      fill: #174EA6;\n",
              "    }\n",
              "\n",
              "    .colab-df-buttons div {\n",
              "      margin-bottom: 4px;\n",
              "    }\n",
              "\n",
              "    [theme=dark] .colab-df-convert {\n",
              "      background-color: #3B4455;\n",
              "      fill: #D2E3FC;\n",
              "    }\n",
              "\n",
              "    [theme=dark] .colab-df-convert:hover {\n",
              "      background-color: #434B5C;\n",
              "      box-shadow: 0px 1px 3px 1px rgba(0, 0, 0, 0.15);\n",
              "      filter: drop-shadow(0px 1px 2px rgba(0, 0, 0, 0.3));\n",
              "      fill: #FFFFFF;\n",
              "    }\n",
              "  </style>\n",
              "\n",
              "    <script>\n",
              "      const buttonEl =\n",
              "        document.querySelector('#df-e6c21cc4-6d3e-478e-b677-753119e38957 button.colab-df-convert');\n",
              "      buttonEl.style.display =\n",
              "        google.colab.kernel.accessAllowed ? 'block' : 'none';\n",
              "\n",
              "      async function convertToInteractive(key) {\n",
              "        const element = document.querySelector('#df-e6c21cc4-6d3e-478e-b677-753119e38957');\n",
              "        const dataTable =\n",
              "          await google.colab.kernel.invokeFunction('convertToInteractive',\n",
              "                                                    [key], {});\n",
              "        if (!dataTable) return;\n",
              "\n",
              "        const docLinkHtml = 'Like what you see? Visit the ' +\n",
              "          '<a target=\"_blank\" href=https://colab.research.google.com/notebooks/data_table.ipynb>data table notebook</a>'\n",
              "          + ' to learn more about interactive tables.';\n",
              "        element.innerHTML = '';\n",
              "        dataTable['output_type'] = 'display_data';\n",
              "        await google.colab.output.renderOutput(dataTable, element);\n",
              "        const docLink = document.createElement('div');\n",
              "        docLink.innerHTML = docLinkHtml;\n",
              "        element.appendChild(docLink);\n",
              "      }\n",
              "    </script>\n",
              "  </div>\n",
              "\n",
              "\n",
              "<div id=\"df-515c81b2-db4b-494a-a2cc-408463c80190\">\n",
              "  <button class=\"colab-df-quickchart\" onclick=\"quickchart('df-515c81b2-db4b-494a-a2cc-408463c80190')\"\n",
              "            title=\"Suggest charts\"\n",
              "            style=\"display:none;\">\n",
              "\n",
              "<svg xmlns=\"http://www.w3.org/2000/svg\" height=\"24px\"viewBox=\"0 0 24 24\"\n",
              "     width=\"24px\">\n",
              "    <g>\n",
              "        <path d=\"M19 3H5c-1.1 0-2 .9-2 2v14c0 1.1.9 2 2 2h14c1.1 0 2-.9 2-2V5c0-1.1-.9-2-2-2zM9 17H7v-7h2v7zm4 0h-2V7h2v10zm4 0h-2v-4h2v4z\"/>\n",
              "    </g>\n",
              "</svg>\n",
              "  </button>\n",
              "\n",
              "<style>\n",
              "  .colab-df-quickchart {\n",
              "      --bg-color: #E8F0FE;\n",
              "      --fill-color: #1967D2;\n",
              "      --hover-bg-color: #E2EBFA;\n",
              "      --hover-fill-color: #174EA6;\n",
              "      --disabled-fill-color: #AAA;\n",
              "      --disabled-bg-color: #DDD;\n",
              "  }\n",
              "\n",
              "  [theme=dark] .colab-df-quickchart {\n",
              "      --bg-color: #3B4455;\n",
              "      --fill-color: #D2E3FC;\n",
              "      --hover-bg-color: #434B5C;\n",
              "      --hover-fill-color: #FFFFFF;\n",
              "      --disabled-bg-color: #3B4455;\n",
              "      --disabled-fill-color: #666;\n",
              "  }\n",
              "\n",
              "  .colab-df-quickchart {\n",
              "    background-color: var(--bg-color);\n",
              "    border: none;\n",
              "    border-radius: 50%;\n",
              "    cursor: pointer;\n",
              "    display: none;\n",
              "    fill: var(--fill-color);\n",
              "    height: 32px;\n",
              "    padding: 0;\n",
              "    width: 32px;\n",
              "  }\n",
              "\n",
              "  .colab-df-quickchart:hover {\n",
              "    background-color: var(--hover-bg-color);\n",
              "    box-shadow: 0 1px 2px rgba(60, 64, 67, 0.3), 0 1px 3px 1px rgba(60, 64, 67, 0.15);\n",
              "    fill: var(--button-hover-fill-color);\n",
              "  }\n",
              "\n",
              "  .colab-df-quickchart-complete:disabled,\n",
              "  .colab-df-quickchart-complete:disabled:hover {\n",
              "    background-color: var(--disabled-bg-color);\n",
              "    fill: var(--disabled-fill-color);\n",
              "    box-shadow: none;\n",
              "  }\n",
              "\n",
              "  .colab-df-spinner {\n",
              "    border: 2px solid var(--fill-color);\n",
              "    border-color: transparent;\n",
              "    border-bottom-color: var(--fill-color);\n",
              "    animation:\n",
              "      spin 1s steps(1) infinite;\n",
              "  }\n",
              "\n",
              "  @keyframes spin {\n",
              "    0% {\n",
              "      border-color: transparent;\n",
              "      border-bottom-color: var(--fill-color);\n",
              "      border-left-color: var(--fill-color);\n",
              "    }\n",
              "    20% {\n",
              "      border-color: transparent;\n",
              "      border-left-color: var(--fill-color);\n",
              "      border-top-color: var(--fill-color);\n",
              "    }\n",
              "    30% {\n",
              "      border-color: transparent;\n",
              "      border-left-color: var(--fill-color);\n",
              "      border-top-color: var(--fill-color);\n",
              "      border-right-color: var(--fill-color);\n",
              "    }\n",
              "    40% {\n",
              "      border-color: transparent;\n",
              "      border-right-color: var(--fill-color);\n",
              "      border-top-color: var(--fill-color);\n",
              "    }\n",
              "    60% {\n",
              "      border-color: transparent;\n",
              "      border-right-color: var(--fill-color);\n",
              "    }\n",
              "    80% {\n",
              "      border-color: transparent;\n",
              "      border-right-color: var(--fill-color);\n",
              "      border-bottom-color: var(--fill-color);\n",
              "    }\n",
              "    90% {\n",
              "      border-color: transparent;\n",
              "      border-bottom-color: var(--fill-color);\n",
              "    }\n",
              "  }\n",
              "</style>\n",
              "\n",
              "  <script>\n",
              "    async function quickchart(key) {\n",
              "      const quickchartButtonEl =\n",
              "        document.querySelector('#' + key + ' button');\n",
              "      quickchartButtonEl.disabled = true;  // To prevent multiple clicks.\n",
              "      quickchartButtonEl.classList.add('colab-df-spinner');\n",
              "      try {\n",
              "        const charts = await google.colab.kernel.invokeFunction(\n",
              "            'suggestCharts', [key], {});\n",
              "      } catch (error) {\n",
              "        console.error('Error during call to suggestCharts:', error);\n",
              "      }\n",
              "      quickchartButtonEl.classList.remove('colab-df-spinner');\n",
              "      quickchartButtonEl.classList.add('colab-df-quickchart-complete');\n",
              "    }\n",
              "    (() => {\n",
              "      let quickchartButtonEl =\n",
              "        document.querySelector('#df-515c81b2-db4b-494a-a2cc-408463c80190 button');\n",
              "      quickchartButtonEl.style.display =\n",
              "        google.colab.kernel.accessAllowed ? 'block' : 'none';\n",
              "    })();\n",
              "  </script>\n",
              "</div>\n",
              "    </div>\n",
              "  </div>\n"
            ],
            "text/plain": [
              "       temperature_2m  relative_humidity_2m  dew_point_2m  precipitation  \\\n",
              "0            8.842999             59.765373        1.4430            0.0   \n",
              "1            7.443000             64.325210        1.1430            0.0   \n",
              "2            6.593000             66.967186        0.8930            0.0   \n",
              "3            5.993000             68.795320        0.6930            0.0   \n",
              "4            5.443000             70.951390        0.5930            0.0   \n",
              "...               ...                   ...           ...            ...   \n",
              "87667       12.008500             51.478466        2.3085            0.0   \n",
              "87668       12.808500             49.897438        2.6085            0.0   \n",
              "87669       13.058500             49.438107        2.7085            0.0   \n",
              "87670       12.758500             49.883600        2.5585            0.0   \n",
              "87671       11.708500             52.693880        2.3585            0.0   \n",
              "\n",
              "       rain  snowfall  wind_speed_10m  wind_gusts_10m  \n",
              "0       0.0       0.0        8.089993       11.879999  \n",
              "1       0.0       0.0        9.107359       13.320000  \n",
              "2       0.0       0.0        8.825508       14.400000  \n",
              "3       0.0       0.0        8.311245       14.759999  \n",
              "4       0.0       0.0        8.640000       14.759999  \n",
              "...     ...       ...             ...             ...  \n",
              "87667   0.0       0.0       20.275383       37.079998  \n",
              "87668   0.0       0.0       20.008356       37.079998  \n",
              "87669   0.0       0.0       19.562946       36.360000  \n",
              "87670   0.0       0.0       18.692286       34.920000  \n",
              "87671   0.0       0.0       16.279802       32.039997  \n",
              "\n",
              "[87672 rows x 8 columns]"
            ]
          },
          "execution_count": 9,
          "metadata": {},
          "output_type": "execute_result"
        }
      ],
      "source": [
        "df"
      ]
    },
    {
      "cell_type": "code",
      "execution_count": 10,
      "metadata": {
        "colab": {
          "base_uri": "https://localhost:8080/"
        },
        "id": "YZvPkAt-nV-O",
        "outputId": "f23862fa-f1e3-47ea-914f-bda85e161bd9"
      },
      "outputs": [
        {
          "name": "stdout",
          "output_type": "stream",
          "text": [
            "Epoch 1/30\n",
            "2192/2192 [==============================] - 15s 5ms/step - loss: 0.0287\n",
            "Epoch 2/30\n",
            "2192/2192 [==============================] - 7s 3ms/step - loss: 0.0204\n",
            "Epoch 3/30\n",
            "2192/2192 [==============================] - 5s 2ms/step - loss: 0.0202\n",
            "Epoch 4/30\n",
            "2192/2192 [==============================] - 5s 2ms/step - loss: 0.0201\n",
            "Epoch 5/30\n",
            "2192/2192 [==============================] - 6s 3ms/step - loss: 0.0201\n",
            "Epoch 6/30\n",
            "2192/2192 [==============================] - 5s 2ms/step - loss: 0.0200\n",
            "Epoch 7/30\n",
            "2192/2192 [==============================] - 6s 3ms/step - loss: 0.0200\n",
            "Epoch 8/30\n",
            "2192/2192 [==============================] - 5s 2ms/step - loss: 0.0199\n",
            "Epoch 9/30\n",
            "2192/2192 [==============================] - 5s 2ms/step - loss: 0.0199\n",
            "Epoch 10/30\n",
            "2192/2192 [==============================] - 6s 3ms/step - loss: 0.0199\n",
            "Epoch 11/30\n",
            "2192/2192 [==============================] - 5s 2ms/step - loss: 0.0198\n",
            "Epoch 12/30\n",
            "2192/2192 [==============================] - 6s 3ms/step - loss: 0.0198\n",
            "Epoch 13/30\n",
            "2192/2192 [==============================] - 5s 2ms/step - loss: 0.0198\n",
            "Epoch 14/30\n",
            "2192/2192 [==============================] - 6s 3ms/step - loss: 0.0197\n",
            "Epoch 15/30\n",
            "2192/2192 [==============================] - 5s 2ms/step - loss: 0.0197\n",
            "Epoch 16/30\n",
            "2192/2192 [==============================] - 6s 3ms/step - loss: 0.0197\n",
            "Epoch 17/30\n",
            "2192/2192 [==============================] - 5s 2ms/step - loss: 0.0197\n",
            "Epoch 18/30\n",
            "2192/2192 [==============================] - 6s 3ms/step - loss: 0.0196\n",
            "Epoch 19/30\n",
            "2192/2192 [==============================] - 6s 3ms/step - loss: 0.0196\n",
            "Epoch 20/30\n",
            "2192/2192 [==============================] - 5s 2ms/step - loss: 0.0196\n",
            "Epoch 21/30\n",
            "2192/2192 [==============================] - 6s 3ms/step - loss: 0.0196\n",
            "Epoch 22/30\n",
            "2192/2192 [==============================] - 6s 3ms/step - loss: 0.0196\n",
            "Epoch 23/30\n",
            "2192/2192 [==============================] - 6s 3ms/step - loss: 0.0196\n",
            "Epoch 24/30\n",
            "2192/2192 [==============================] - 5s 2ms/step - loss: 0.0196\n",
            "Epoch 25/30\n",
            "2192/2192 [==============================] - 6s 3ms/step - loss: 0.0195\n",
            "Epoch 26/30\n",
            "2192/2192 [==============================] - 5s 2ms/step - loss: 0.0195\n",
            "Epoch 27/30\n",
            "2192/2192 [==============================] - 5s 2ms/step - loss: 0.0195\n",
            "Epoch 28/30\n",
            "2192/2192 [==============================] - 6s 3ms/step - loss: 0.0195\n",
            "Epoch 29/30\n",
            "2192/2192 [==============================] - 5s 2ms/step - loss: 0.0195\n",
            "Epoch 30/30\n",
            "2192/2192 [==============================] - 6s 3ms/step - loss: 0.0195\n",
            "548/548 [==============================] - 1s 2ms/step - loss: 0.0194\n",
            "Mean Squared Error (LSTM): 0.019424282014369965\n"
          ]
        }
      ],
      "source": [
        "\n",
        "import numpy as np\n",
        "import pandas as pd\n",
        "from sklearn.model_selection import train_test_split\n",
        "from sklearn.preprocessing import MinMaxScaler\n",
        "from tensorflow.keras.models import Sequential\n",
        "from tensorflow.keras.layers import LSTM, Dense\n",
        "import pandas as pd\n",
        "from sklearn.preprocessing import MinMaxScaler\n",
        "from sklearn.model_selection import train_test_split\n",
        "\n",
        "\n",
        "X = df[['relative_humidity_2m', 'precipitation', 'rain', 'snowfall', 'wind_speed_10m', 'wind_gusts_10m']]\n",
        "y = df['temperature_2m']\n",
        "\n",
        "X = pd.DataFrame(X, columns=['relative_humidity_2m', 'precipitation', 'rain', 'snowfall', 'wind_speed_10m', 'wind_gusts_10m'])\n",
        "y = pd.DataFrame(y, columns=['temperature_2m'])\n",
        "\n",
        "scaler_x = MinMaxScaler()\n",
        "scaler_y = MinMaxScaler()\n",
        "X_scaled = scaler_x.fit_transform(X)\n",
        "y_scaled = scaler_y.fit_transform(y)\n",
        "X_train, X_test, y_train, y_test = train_test_split(X_scaled, y_scaled, test_size=0.2, random_state=42)\n",
        "\n",
        "X_train = X_train.reshape((X_train.shape[0], 1, X_train.shape[1]))\n",
        "X_test = X_test.reshape((X_test.shape[0], 1, X_test.shape[1]))\n",
        "\n",
        "model_lstm = Sequential()\n",
        "model_lstm.add(LSTM(50, input_shape=(X_train.shape[1], X_train.shape[2])))\n",
        "model_lstm.add(Dense(1))\n",
        "model_lstm.compile(optimizer='adam', loss='mse')\n",
        "model_lstm.fit(X_train, y_train, epochs=30, batch_size=32, verbose=1)\n",
        "mse_lstm = model_lstm.evaluate(X_test, y_test)\n",
        "print(\"Mean Squared Error (LSTM):\", mse_lstm)\n"
      ]
    },
    {
      "cell_type": "code",
      "execution_count": 11,
      "metadata": {
        "colab": {
          "base_uri": "https://localhost:8080/"
        },
        "id": "SsofFPyDw7Ho",
        "outputId": "8c8149f8-31ee-4d55-be00-ab1e5023dc17"
      },
      "outputs": [
        {
          "name": "stderr",
          "output_type": "stream",
          "text": [
            "/usr/local/lib/python3.10/dist-packages/sklearn/base.py:439: UserWarning: X does not have valid feature names, but MinMaxScaler was fitted with feature names\n",
            "  warnings.warn(\n"
          ]
        },
        {
          "name": "stdout",
          "output_type": "stream",
          "text": [
            "1/1 [==============================] - 1s 584ms/step\n"
          ]
        },
        {
          "name": "stderr",
          "output_type": "stream",
          "text": [
            "/usr/local/lib/python3.10/dist-packages/sklearn/base.py:439: UserWarning: X does not have valid feature names, but MinMaxScaler was fitted with feature names\n",
            "  warnings.warn(\n"
          ]
        },
        {
          "name": "stdout",
          "output_type": "stream",
          "text": [
            "1/1 [==============================] - 0s 60ms/step\n"
          ]
        },
        {
          "name": "stderr",
          "output_type": "stream",
          "text": [
            "/usr/local/lib/python3.10/dist-packages/sklearn/base.py:439: UserWarning: X does not have valid feature names, but MinMaxScaler was fitted with feature names\n",
            "  warnings.warn(\n"
          ]
        },
        {
          "name": "stdout",
          "output_type": "stream",
          "text": [
            "1/1 [==============================] - 0s 74ms/step\n",
            "1/1 [==============================] - 0s 47ms/step\n"
          ]
        },
        {
          "name": "stderr",
          "output_type": "stream",
          "text": [
            "/usr/local/lib/python3.10/dist-packages/sklearn/base.py:439: UserWarning: X does not have valid feature names, but MinMaxScaler was fitted with feature names\n",
            "  warnings.warn(\n",
            "/usr/local/lib/python3.10/dist-packages/sklearn/base.py:439: UserWarning: X does not have valid feature names, but MinMaxScaler was fitted with feature names\n",
            "  warnings.warn(\n"
          ]
        },
        {
          "name": "stdout",
          "output_type": "stream",
          "text": [
            "1/1 [==============================] - 0s 33ms/step\n",
            "1/1 [==============================] - 0s 25ms/step\n"
          ]
        },
        {
          "name": "stderr",
          "output_type": "stream",
          "text": [
            "/usr/local/lib/python3.10/dist-packages/sklearn/base.py:439: UserWarning: X does not have valid feature names, but MinMaxScaler was fitted with feature names\n",
            "  warnings.warn(\n",
            "/usr/local/lib/python3.10/dist-packages/sklearn/base.py:439: UserWarning: X does not have valid feature names, but MinMaxScaler was fitted with feature names\n",
            "  warnings.warn(\n"
          ]
        },
        {
          "name": "stdout",
          "output_type": "stream",
          "text": [
            "1/1 [==============================] - 0s 24ms/step\n",
            "1/1 [==============================] - 0s 18ms/step\n",
            "1/1 [==============================] - 0s 19ms/step\n"
          ]
        },
        {
          "name": "stderr",
          "output_type": "stream",
          "text": [
            "/usr/local/lib/python3.10/dist-packages/sklearn/base.py:439: UserWarning: X does not have valid feature names, but MinMaxScaler was fitted with feature names\n",
            "  warnings.warn(\n",
            "/usr/local/lib/python3.10/dist-packages/sklearn/base.py:439: UserWarning: X does not have valid feature names, but MinMaxScaler was fitted with feature names\n",
            "  warnings.warn(\n",
            "/usr/local/lib/python3.10/dist-packages/sklearn/base.py:439: UserWarning: X does not have valid feature names, but MinMaxScaler was fitted with feature names\n",
            "  warnings.warn(\n"
          ]
        },
        {
          "name": "stdout",
          "output_type": "stream",
          "text": [
            "1/1 [==============================] - 0s 30ms/step\n",
            "1/1 [==============================] - 0s 31ms/step\n",
            "1/1 [==============================] - ETA: 0s"
          ]
        },
        {
          "name": "stderr",
          "output_type": "stream",
          "text": [
            "/usr/local/lib/python3.10/dist-packages/sklearn/base.py:439: UserWarning: X does not have valid feature names, but MinMaxScaler was fitted with feature names\n",
            "  warnings.warn(\n",
            "/usr/local/lib/python3.10/dist-packages/sklearn/base.py:439: UserWarning: X does not have valid feature names, but MinMaxScaler was fitted with feature names\n",
            "  warnings.warn(\n"
          ]
        },
        {
          "name": "stdout",
          "output_type": "stream",
          "text": [
            "1/1 [==============================] - 0s 30ms/step\n",
            "1/1 [==============================] - 0s 25ms/step\n",
            "1/1 [==============================] - 0s 28ms/step\n"
          ]
        },
        {
          "name": "stderr",
          "output_type": "stream",
          "text": [
            "/usr/local/lib/python3.10/dist-packages/sklearn/base.py:439: UserWarning: X does not have valid feature names, but MinMaxScaler was fitted with feature names\n",
            "  warnings.warn(\n",
            "/usr/local/lib/python3.10/dist-packages/sklearn/base.py:439: UserWarning: X does not have valid feature names, but MinMaxScaler was fitted with feature names\n",
            "  warnings.warn(\n",
            "/usr/local/lib/python3.10/dist-packages/sklearn/base.py:439: UserWarning: X does not have valid feature names, but MinMaxScaler was fitted with feature names\n",
            "  warnings.warn(\n"
          ]
        },
        {
          "name": "stdout",
          "output_type": "stream",
          "text": [
            "1/1 [==============================] - 0s 22ms/step\n",
            "1/1 [==============================] - 0s 20ms/step\n",
            "1/1 [==============================] - 0s 20ms/step\n"
          ]
        },
        {
          "name": "stderr",
          "output_type": "stream",
          "text": [
            "/usr/local/lib/python3.10/dist-packages/sklearn/base.py:439: UserWarning: X does not have valid feature names, but MinMaxScaler was fitted with feature names\n",
            "  warnings.warn(\n",
            "/usr/local/lib/python3.10/dist-packages/sklearn/base.py:439: UserWarning: X does not have valid feature names, but MinMaxScaler was fitted with feature names\n",
            "  warnings.warn(\n",
            "/usr/local/lib/python3.10/dist-packages/sklearn/base.py:439: UserWarning: X does not have valid feature names, but MinMaxScaler was fitted with feature names\n",
            "  warnings.warn(\n"
          ]
        },
        {
          "name": "stdout",
          "output_type": "stream",
          "text": [
            "1/1 [==============================] - 0s 23ms/step\n",
            "1/1 [==============================] - 0s 19ms/step\n",
            "1/1 [==============================] - 0s 19ms/step\n"
          ]
        },
        {
          "name": "stderr",
          "output_type": "stream",
          "text": [
            "/usr/local/lib/python3.10/dist-packages/sklearn/base.py:439: UserWarning: X does not have valid feature names, but MinMaxScaler was fitted with feature names\n",
            "  warnings.warn(\n",
            "/usr/local/lib/python3.10/dist-packages/sklearn/base.py:439: UserWarning: X does not have valid feature names, but MinMaxScaler was fitted with feature names\n",
            "  warnings.warn(\n",
            "/usr/local/lib/python3.10/dist-packages/sklearn/base.py:439: UserWarning: X does not have valid feature names, but MinMaxScaler was fitted with feature names\n",
            "  warnings.warn(\n"
          ]
        },
        {
          "name": "stdout",
          "output_type": "stream",
          "text": [
            "1/1 [==============================] - 0s 20ms/step\n",
            "1/1 [==============================] - 0s 19ms/step\n",
            "1/1 [==============================] - 0s 20ms/step\n",
            "1/1 [==============================] - 0s 19ms/step\n"
          ]
        },
        {
          "name": "stderr",
          "output_type": "stream",
          "text": [
            "/usr/local/lib/python3.10/dist-packages/sklearn/base.py:439: UserWarning: X does not have valid feature names, but MinMaxScaler was fitted with feature names\n",
            "  warnings.warn(\n",
            "/usr/local/lib/python3.10/dist-packages/sklearn/base.py:439: UserWarning: X does not have valid feature names, but MinMaxScaler was fitted with feature names\n",
            "  warnings.warn(\n",
            "/usr/local/lib/python3.10/dist-packages/sklearn/base.py:439: UserWarning: X does not have valid feature names, but MinMaxScaler was fitted with feature names\n",
            "  warnings.warn(\n"
          ]
        },
        {
          "name": "stdout",
          "output_type": "stream",
          "text": [
            "     max_temp\n",
            "0   36.716118\n",
            "1   21.083475\n",
            "2   15.461558\n",
            "3   15.917291\n",
            "4   11.589411\n",
            "5   12.375521\n",
            "6   13.640575\n",
            "7   14.228562\n",
            "8   13.305007\n",
            "9   12.657033\n",
            "10  13.646638\n",
            "11  14.143520\n",
            "12  13.621332\n",
            "13  13.083841\n",
            "14  17.576153\n",
            "15  26.296255\n",
            "16  25.967487\n",
            "17  25.690022\n",
            "18  24.307192\n",
            "19  22.620485\n",
            "20  24.731329\n",
            "21  25.559044\n",
            "22  23.587086\n",
            "23  21.826046\n"
          ]
        }
      ],
      "source": [
        "import numpy as np\n",
        "\n",
        "for index, row in hourly_dataframe.iterrows():\n",
        "\n",
        "    relative_humidity_2m = row['relative_humidity_2m']\n",
        "    precipitation = row['precipitation']\n",
        "    rain = row['rain']\n",
        "    snowfall = row['snowfall']\n",
        "    wind_speed_10m = row['wind_speed_10m']\n",
        "    wind_gusts_10m = row['wind_gusts_10m']\n",
        "\n",
        "    input_data = np.array([[relative_humidity_2m, precipitation, rain, snowfall, wind_speed_10m, wind_gusts_10m]])\n",
        "    scale_input = scaler_x.transform(input_data)\n",
        "    reshaped_input_data = scale_input.reshape((scale_input.shape[0], 1, scale_input.shape[1]))\n",
        "    predicted_output = model_lstm.predict(reshaped_input_data)\n",
        "    predicted_output = scaler_y.inverse_transform(predicted_output)\n",
        "    output.at[index, 'max_temp'] = predicted_output[0][0]\n",
        "print(output)\n"
      ]
    },
    {
      "cell_type": "code",
      "execution_count": 12,
      "metadata": {
        "colab": {
          "base_uri": "https://localhost:8080/"
        },
        "id": "Jhg7vsIt0FQp",
        "outputId": "0267636f-d17f-4dd9-a169-18d448c30545"
      },
      "outputs": [
        {
          "name": "stdout",
          "output_type": "stream",
          "text": [
            "Epoch 1/60\n",
            "2192/2192 [==============================] - 14s 5ms/step - loss: 0.0358\n",
            "Epoch 2/60\n",
            "2192/2192 [==============================] - 11s 5ms/step - loss: 0.0229\n",
            "Epoch 3/60\n",
            "2192/2192 [==============================] - 5s 2ms/step - loss: 0.0226\n",
            "Epoch 4/60\n",
            "2192/2192 [==============================] - 6s 3ms/step - loss: 0.0222\n",
            "Epoch 5/60\n",
            "2192/2192 [==============================] - 5s 2ms/step - loss: 0.0220\n",
            "Epoch 6/60\n",
            "2192/2192 [==============================] - 6s 3ms/step - loss: 0.0217\n",
            "Epoch 7/60\n",
            "2192/2192 [==============================] - 5s 2ms/step - loss: 0.0216\n",
            "Epoch 8/60\n",
            "2192/2192 [==============================] - 6s 3ms/step - loss: 0.0216\n",
            "Epoch 9/60\n",
            "2192/2192 [==============================] - 5s 2ms/step - loss: 0.0214\n",
            "Epoch 10/60\n",
            "2192/2192 [==============================] - 7s 3ms/step - loss: 0.0214\n",
            "Epoch 11/60\n",
            "2192/2192 [==============================] - 5s 2ms/step - loss: 0.0213\n",
            "Epoch 12/60\n",
            "2192/2192 [==============================] - 5s 2ms/step - loss: 0.0213\n",
            "Epoch 13/60\n",
            "2192/2192 [==============================] - 6s 3ms/step - loss: 0.0213\n",
            "Epoch 14/60\n",
            "2192/2192 [==============================] - 6s 3ms/step - loss: 0.0212\n",
            "Epoch 15/60\n",
            "2192/2192 [==============================] - 6s 3ms/step - loss: 0.0212\n",
            "Epoch 16/60\n",
            "2192/2192 [==============================] - 5s 2ms/step - loss: 0.0212\n",
            "Epoch 17/60\n",
            "2192/2192 [==============================] - 6s 3ms/step - loss: 0.0212\n",
            "Epoch 18/60\n",
            "2192/2192 [==============================] - 6s 3ms/step - loss: 0.0212\n",
            "Epoch 19/60\n",
            "2192/2192 [==============================] - 6s 3ms/step - loss: 0.0212\n",
            "Epoch 20/60\n",
            "2192/2192 [==============================] - 5s 2ms/step - loss: 0.0212\n",
            "Epoch 21/60\n",
            "2192/2192 [==============================] - 6s 3ms/step - loss: 0.0212\n",
            "Epoch 22/60\n",
            "2192/2192 [==============================] - 5s 2ms/step - loss: 0.0212\n",
            "Epoch 23/60\n",
            "2192/2192 [==============================] - 6s 3ms/step - loss: 0.0212\n",
            "Epoch 24/60\n",
            "2192/2192 [==============================] - 6s 3ms/step - loss: 0.0212\n",
            "Epoch 25/60\n",
            "2192/2192 [==============================] - 5s 2ms/step - loss: 0.0211\n",
            "Epoch 26/60\n",
            "2192/2192 [==============================] - 6s 3ms/step - loss: 0.0212\n",
            "Epoch 27/60\n",
            "2192/2192 [==============================] - 5s 2ms/step - loss: 0.0212\n",
            "Epoch 28/60\n",
            "2192/2192 [==============================] - 6s 3ms/step - loss: 0.0212\n",
            "Epoch 29/60\n",
            "2192/2192 [==============================] - 5s 2ms/step - loss: 0.0212\n",
            "Epoch 30/60\n",
            "2192/2192 [==============================] - 6s 3ms/step - loss: 0.0212\n",
            "Epoch 31/60\n",
            "2192/2192 [==============================] - 5s 2ms/step - loss: 0.0212\n",
            "Epoch 32/60\n",
            "2192/2192 [==============================] - 6s 3ms/step - loss: 0.0212\n",
            "Epoch 33/60\n",
            "2192/2192 [==============================] - 5s 2ms/step - loss: 0.0212\n",
            "Epoch 34/60\n",
            "2192/2192 [==============================] - 5s 2ms/step - loss: 0.0212\n",
            "Epoch 35/60\n",
            "2192/2192 [==============================] - 6s 3ms/step - loss: 0.0212\n",
            "Epoch 36/60\n",
            "2192/2192 [==============================] - 5s 2ms/step - loss: 0.0212\n",
            "Epoch 37/60\n",
            "2192/2192 [==============================] - 6s 3ms/step - loss: 0.0212\n",
            "Epoch 38/60\n",
            "2192/2192 [==============================] - 6s 3ms/step - loss: 0.0212\n",
            "Epoch 39/60\n",
            "2192/2192 [==============================] - 7s 3ms/step - loss: 0.0212\n",
            "Epoch 40/60\n",
            "2192/2192 [==============================] - 6s 3ms/step - loss: 0.0212\n",
            "Epoch 41/60\n",
            "2192/2192 [==============================] - 6s 3ms/step - loss: 0.0212\n",
            "Epoch 42/60\n",
            "2192/2192 [==============================] - 5s 2ms/step - loss: 0.0212\n",
            "Epoch 43/60\n",
            "2192/2192 [==============================] - 6s 3ms/step - loss: 0.0212\n",
            "Epoch 44/60\n",
            "2192/2192 [==============================] - 5s 2ms/step - loss: 0.0212\n",
            "Epoch 45/60\n",
            "2192/2192 [==============================] - 6s 3ms/step - loss: 0.0212\n",
            "Epoch 46/60\n",
            "2192/2192 [==============================] - 6s 3ms/step - loss: 0.0211\n",
            "Epoch 47/60\n",
            "2192/2192 [==============================] - 6s 3ms/step - loss: 0.0212\n",
            "Epoch 48/60\n",
            "2192/2192 [==============================] - 6s 3ms/step - loss: 0.0212\n",
            "Epoch 49/60\n",
            "2192/2192 [==============================] - 5s 2ms/step - loss: 0.0212\n",
            "Epoch 50/60\n",
            "2192/2192 [==============================] - 7s 3ms/step - loss: 0.0212\n",
            "Epoch 51/60\n",
            "2192/2192 [==============================] - 5s 2ms/step - loss: 0.0212\n",
            "Epoch 52/60\n",
            "2192/2192 [==============================] - 6s 3ms/step - loss: 0.0212\n",
            "Epoch 53/60\n",
            "2192/2192 [==============================] - 5s 2ms/step - loss: 0.0212\n",
            "Epoch 54/60\n",
            "2192/2192 [==============================] - 6s 3ms/step - loss: 0.0211\n",
            "Epoch 55/60\n",
            "2192/2192 [==============================] - 5s 2ms/step - loss: 0.0212\n",
            "Epoch 56/60\n",
            "2192/2192 [==============================] - 6s 3ms/step - loss: 0.0211\n",
            "Epoch 57/60\n",
            "2192/2192 [==============================] - 5s 2ms/step - loss: 0.0212\n",
            "Epoch 58/60\n",
            "2192/2192 [==============================] - 6s 3ms/step - loss: 0.0212\n",
            "Epoch 59/60\n",
            "2192/2192 [==============================] - 6s 3ms/step - loss: 0.0211\n",
            "Epoch 60/60\n",
            "2192/2192 [==============================] - 5s 2ms/step - loss: 0.0212\n",
            "548/548 [==============================] - 1s 2ms/step - loss: 0.0212\n",
            "Mean Squared Error (LSTM): 0.021166756749153137\n"
          ]
        }
      ],
      "source": [
        "from tensorflow.keras.layers import Dropout\n",
        "from tensorflow.keras import regularizers\n",
        "\n",
        "model_lstm = Sequential()\n",
        "model_lstm.add(LSTM(50,\n",
        "                    input_shape=(X_train.shape[1], X_train.shape[2]),\n",
        "                    kernel_regularizer=regularizers.l2(0.01)))\n",
        "model_lstm.add(Dropout(0.2))\n",
        "model_lstm.add(Dense(1))\n",
        "model_lstm.compile(optimizer='adam', loss='mse')\n",
        "\n",
        "model_lstm.fit(X_train, y_train, epochs=60, batch_size=32, verbose=1)\n",
        "mse_lstm = model_lstm.evaluate(X_test, y_test)\n",
        "print(\"Mean Squared Error (LSTM):\", mse_lstm)"
      ]
    },
    {
      "cell_type": "code",
      "execution_count": 13,
      "metadata": {
        "colab": {
          "base_uri": "https://localhost:8080/"
        },
        "id": "cP4Y6RJ9HbUJ",
        "outputId": "8aecf0ae-5fee-49cb-abf8-14493be55857"
      },
      "outputs": [
        {
          "name": "stderr",
          "output_type": "stream",
          "text": [
            "/usr/local/lib/python3.10/dist-packages/sklearn/base.py:439: UserWarning: X does not have valid feature names, but MinMaxScaler was fitted with feature names\n",
            "  warnings.warn(\n"
          ]
        },
        {
          "name": "stdout",
          "output_type": "stream",
          "text": [
            "1/1 [==============================] - 0s 400ms/step\n",
            "1/1 [==============================] - 0s 20ms/step\n",
            "1/1 [==============================] - 0s 19ms/step\n"
          ]
        },
        {
          "name": "stderr",
          "output_type": "stream",
          "text": [
            "/usr/local/lib/python3.10/dist-packages/sklearn/base.py:439: UserWarning: X does not have valid feature names, but MinMaxScaler was fitted with feature names\n",
            "  warnings.warn(\n",
            "/usr/local/lib/python3.10/dist-packages/sklearn/base.py:439: UserWarning: X does not have valid feature names, but MinMaxScaler was fitted with feature names\n",
            "  warnings.warn(\n",
            "/usr/local/lib/python3.10/dist-packages/sklearn/base.py:439: UserWarning: X does not have valid feature names, but MinMaxScaler was fitted with feature names\n",
            "  warnings.warn(\n"
          ]
        },
        {
          "name": "stdout",
          "output_type": "stream",
          "text": [
            "1/1 [==============================] - 0s 21ms/step\n",
            "1/1 [==============================] - 0s 25ms/step\n",
            "1/1 [==============================] - 0s 21ms/step\n"
          ]
        },
        {
          "name": "stderr",
          "output_type": "stream",
          "text": [
            "/usr/local/lib/python3.10/dist-packages/sklearn/base.py:439: UserWarning: X does not have valid feature names, but MinMaxScaler was fitted with feature names\n",
            "  warnings.warn(\n",
            "/usr/local/lib/python3.10/dist-packages/sklearn/base.py:439: UserWarning: X does not have valid feature names, but MinMaxScaler was fitted with feature names\n",
            "  warnings.warn(\n",
            "/usr/local/lib/python3.10/dist-packages/sklearn/base.py:439: UserWarning: X does not have valid feature names, but MinMaxScaler was fitted with feature names\n",
            "  warnings.warn(\n"
          ]
        },
        {
          "name": "stdout",
          "output_type": "stream",
          "text": [
            "1/1 [==============================] - 0s 20ms/step\n",
            "1/1 [==============================] - 0s 19ms/step\n",
            "1/1 [==============================] - 0s 18ms/step\n",
            "1/1 [==============================] - ETA: 0s"
          ]
        },
        {
          "name": "stderr",
          "output_type": "stream",
          "text": [
            "/usr/local/lib/python3.10/dist-packages/sklearn/base.py:439: UserWarning: X does not have valid feature names, but MinMaxScaler was fitted with feature names\n",
            "  warnings.warn(\n",
            "/usr/local/lib/python3.10/dist-packages/sklearn/base.py:439: UserWarning: X does not have valid feature names, but MinMaxScaler was fitted with feature names\n",
            "  warnings.warn(\n",
            "/usr/local/lib/python3.10/dist-packages/sklearn/base.py:439: UserWarning: X does not have valid feature names, but MinMaxScaler was fitted with feature names\n",
            "  warnings.warn(\n"
          ]
        },
        {
          "name": "stdout",
          "output_type": "stream",
          "text": [
            "1/1 [==============================] - 0s 25ms/step\n",
            "1/1 [==============================] - 0s 19ms/step\n",
            "1/1 [==============================] - 0s 19ms/step\n"
          ]
        },
        {
          "name": "stderr",
          "output_type": "stream",
          "text": [
            "/usr/local/lib/python3.10/dist-packages/sklearn/base.py:439: UserWarning: X does not have valid feature names, but MinMaxScaler was fitted with feature names\n",
            "  warnings.warn(\n",
            "/usr/local/lib/python3.10/dist-packages/sklearn/base.py:439: UserWarning: X does not have valid feature names, but MinMaxScaler was fitted with feature names\n",
            "  warnings.warn(\n",
            "/usr/local/lib/python3.10/dist-packages/sklearn/base.py:439: UserWarning: X does not have valid feature names, but MinMaxScaler was fitted with feature names\n",
            "  warnings.warn(\n"
          ]
        },
        {
          "name": "stdout",
          "output_type": "stream",
          "text": [
            "1/1 [==============================] - 0s 22ms/step\n",
            "1/1 [==============================] - 0s 20ms/step\n",
            "1/1 [==============================] - 0s 20ms/step\n"
          ]
        },
        {
          "name": "stderr",
          "output_type": "stream",
          "text": [
            "/usr/local/lib/python3.10/dist-packages/sklearn/base.py:439: UserWarning: X does not have valid feature names, but MinMaxScaler was fitted with feature names\n",
            "  warnings.warn(\n",
            "/usr/local/lib/python3.10/dist-packages/sklearn/base.py:439: UserWarning: X does not have valid feature names, but MinMaxScaler was fitted with feature names\n",
            "  warnings.warn(\n",
            "/usr/local/lib/python3.10/dist-packages/sklearn/base.py:439: UserWarning: X does not have valid feature names, but MinMaxScaler was fitted with feature names\n",
            "  warnings.warn(\n"
          ]
        },
        {
          "name": "stdout",
          "output_type": "stream",
          "text": [
            "1/1 [==============================] - 0s 24ms/step\n",
            "1/1 [==============================] - 0s 18ms/step\n",
            "1/1 [==============================] - 0s 19ms/step\n",
            "1/1 [==============================] - ETA: 0s"
          ]
        },
        {
          "name": "stderr",
          "output_type": "stream",
          "text": [
            "/usr/local/lib/python3.10/dist-packages/sklearn/base.py:439: UserWarning: X does not have valid feature names, but MinMaxScaler was fitted with feature names\n",
            "  warnings.warn(\n",
            "/usr/local/lib/python3.10/dist-packages/sklearn/base.py:439: UserWarning: X does not have valid feature names, but MinMaxScaler was fitted with feature names\n",
            "  warnings.warn(\n",
            "/usr/local/lib/python3.10/dist-packages/sklearn/base.py:439: UserWarning: X does not have valid feature names, but MinMaxScaler was fitted with feature names\n",
            "  warnings.warn(\n"
          ]
        },
        {
          "name": "stdout",
          "output_type": "stream",
          "text": [
            "1/1 [==============================] - 0s 30ms/step\n",
            "1/1 [==============================] - 0s 21ms/step\n",
            "1/1 [==============================] - 0s 19ms/step\n",
            "1/1 [==============================] - 0s 20ms/step\n"
          ]
        },
        {
          "name": "stderr",
          "output_type": "stream",
          "text": [
            "/usr/local/lib/python3.10/dist-packages/sklearn/base.py:439: UserWarning: X does not have valid feature names, but MinMaxScaler was fitted with feature names\n",
            "  warnings.warn(\n",
            "/usr/local/lib/python3.10/dist-packages/sklearn/base.py:439: UserWarning: X does not have valid feature names, but MinMaxScaler was fitted with feature names\n",
            "  warnings.warn(\n",
            "/usr/local/lib/python3.10/dist-packages/sklearn/base.py:439: UserWarning: X does not have valid feature names, but MinMaxScaler was fitted with feature names\n",
            "  warnings.warn(\n"
          ]
        },
        {
          "name": "stdout",
          "output_type": "stream",
          "text": [
            "1/1 [==============================] - 0s 19ms/step\n",
            "1/1 [==============================] - 0s 19ms/step\n",
            "     max_temp\n",
            "0   28.579308\n",
            "1   23.845848\n",
            "2   21.952154\n",
            "3   21.806681\n",
            "4   19.739540\n",
            "5   20.722780\n",
            "6   20.888859\n",
            "7   19.510983\n",
            "8   18.150372\n",
            "9   18.652203\n",
            "10  18.877337\n",
            "11  18.387724\n",
            "12  18.461130\n",
            "13  17.877583\n",
            "14  20.270042\n",
            "15  24.700998\n",
            "16  24.688848\n",
            "17  24.882332\n",
            "18  24.574261\n",
            "19  23.991449\n",
            "20  24.490826\n",
            "21  24.795603\n",
            "22  24.216751\n",
            "23  23.530542\n"
          ]
        },
        {
          "name": "stderr",
          "output_type": "stream",
          "text": [
            "/usr/local/lib/python3.10/dist-packages/sklearn/base.py:439: UserWarning: X does not have valid feature names, but MinMaxScaler was fitted with feature names\n",
            "  warnings.warn(\n",
            "/usr/local/lib/python3.10/dist-packages/sklearn/base.py:439: UserWarning: X does not have valid feature names, but MinMaxScaler was fitted with feature names\n",
            "  warnings.warn(\n"
          ]
        }
      ],
      "source": [
        "import numpy as np\n",
        "\n",
        "for index, row in hourly_dataframe.iterrows():\n",
        "\n",
        "    relative_humidity_2m = row['relative_humidity_2m']\n",
        "    precipitation = row['precipitation']\n",
        "    rain = row['rain']\n",
        "    snowfall = row['snowfall']\n",
        "    wind_speed_10m = row['wind_speed_10m']\n",
        "    wind_gusts_10m = row['wind_gusts_10m']\n",
        "\n",
        "    input_data = np.array([[relative_humidity_2m, precipitation, rain, snowfall, wind_speed_10m, wind_gusts_10m]])\n",
        "    scale_input = scaler_x.transform(input_data)\n",
        "    reshaped_input_data = scale_input.reshape((scale_input.shape[0], 1, scale_input.shape[1]))\n",
        "    predicted_output = model_lstm.predict(reshaped_input_data)\n",
        "    predicted_output = scaler_y.inverse_transform(predicted_output)\n",
        "    output.at[index, 'max_temp'] = predicted_output[0][0]\n",
        "print(output)\n"
      ]
    },
    {
      "cell_type": "markdown",
      "metadata": {
        "id": "9WKIxzNh0klM"
      },
      "source": [
        "Here We take the max value of the temperature we obtained from our prediction"
      ]
    },
    {
      "cell_type": "code",
      "execution_count": 14,
      "metadata": {
        "id": "XBucnPBO0eXM"
      },
      "outputs": [],
      "source": [
        "max_temp_max = output['max_temp'].max()"
      ]
    },
    {
      "cell_type": "markdown",
      "metadata": {
        "id": "-T3om3dBYOKm"
      },
      "source": [
        "The next cell is the actual max temp recorded today obtained from the weather api"
      ]
    },
    {
      "cell_type": "code",
      "execution_count": 15,
      "metadata": {
        "colab": {
          "base_uri": "https://localhost:8080/"
        },
        "id": "RtQqrPU8NzsC",
        "outputId": "dde8222a-50cd-4db2-f87c-d97fe1d732da"
      },
      "outputs": [
        {
          "data": {
            "text/plain": [
              "31.0935"
            ]
          },
          "execution_count": 15,
          "metadata": {},
          "output_type": "execute_result"
        }
      ],
      "source": [
        "daily_dataframe.temperature_2m_max[0]"
      ]
    },
    {
      "cell_type": "code",
      "execution_count": 16,
      "metadata": {
        "colab": {
          "base_uri": "https://localhost:8080/"
        },
        "id": "NHvj782MOCdp",
        "outputId": "4fbafe6d-cdf5-423d-8dfd-ca4c3d5b87b3"
      },
      "outputs": [
        {
          "name": "stdout",
          "output_type": "stream",
          "text": [
            "Offset_temp in Celsius is -2.514192581176758\n",
            "Offset Temp in Farenheit is -4.525546646118173\n"
          ]
        }
      ],
      "source": [
        "a=daily_dataframe.temperature_2m_max[0]\n",
        "a=(a*9/5)+32\n",
        "b=max_temp_max\n",
        "c=(max_temp_max*9/5)+32\n",
        "Offset_temp = max_temp_max-daily_dataframe.temperature_2m_max[0]\n",
        "print(\"Offset_temp in Celsius is\",b-daily_dataframe.temperature_2m_max[0])\n",
        "print(\"Offset Temp in Farenheit is\",c-a)"
      ]
    },
    {
      "cell_type": "markdown",
      "metadata": {
        "id": "_qc-uLnBPRVV"
      },
      "source": [
        " **Offset Temp mean how off the predicted values are from the actual values*"
      ]
    },
    {
      "cell_type": "code",
      "execution_count": 17,
      "metadata": {
        "colab": {
          "base_uri": "https://localhost:8080/"
        },
        "id": "f7vHkABNGodn",
        "outputId": "faf1c97f-53b4-436e-b65c-050cc5fb64e3"
      },
      "outputs": [
        {
          "name": "stdout",
          "output_type": "stream",
          "text": [
            "28.579307556152344 This is in Degree Celsius(Predicted)\n",
            "83.44275360107422 This is in Farenheit(Predicted)\n"
          ]
        }
      ],
      "source": [
        "print(max_temp_max,\"This is in Degree Celsius(Predicted)\")\n",
        "max_temp_max=(max_temp_max * 9/5) + 32\n",
        "print(max_temp_max,\"This is in Farenheit(Predicted)\")"
      ]
    },
    {
      "cell_type": "code",
      "execution_count": 18,
      "metadata": {
        "colab": {
          "base_uri": "https://localhost:8080/"
        },
        "id": "_sVhHbsoSvHQ",
        "outputId": "96d1b236-bd9e-47bb-ab0c-0d0252b0689a"
      },
      "outputs": [
        {
          "name": "stdout",
          "output_type": "stream",
          "text": [
            "Value saved to /content/max_temp_max.json\n"
          ]
        }
      ],
      "source": [
        "import json\n",
        "data = {'max_temp_max': max_temp_max}\n",
        "file_path = '/content/max_temp_max.json'\n",
        "with open(file_path, 'w') as json_file:\n",
        "    json.dump(data, json_file)\n",
        "\n",
        "print(\"Value saved to\", file_path)\n"
      ]
    },
    {
      "cell_type": "code",
      "execution_count": 19,
      "metadata": {
        "colab": {
          "base_uri": "https://localhost:8080/",
          "height": 1000
        },
        "id": "DSKX52yhUXtt",
        "outputId": "3e1ede3b-73d3-40e2-b858-9c3334c0cc65"
      },
      "outputs": [
        {
          "data": {
            "image/png": "[encoded data removed]",
            "text/plain": [
              "<Figure size 1000x600 with 1 Axes>"
            ]
          },
          "metadata": {},
          "output_type": "display_data"
        },
        {
          "data": {
            "image/png": "[encoded data removed]",
            "text/plain": [
              "<Figure size 1000x600 with 1 Axes>"
            ]
          },
          "metadata": {},
          "output_type": "display_data"
        }
      ],
      "source": [
        "import matplotlib.pyplot as plt\n",
        "\n",
        "plt.figure(figsize=(10, 6))\n",
        "plt.plot(hourly_dataframe.index, hourly_dataframe['temperature_2m'], label='Actual Temperature', color='blue')\n",
        "plt.plot(hourly_dataframe.index, output['max_temp'], label='Predicted Temperature', color='red')\n",
        "plt.xlabel('Time')\n",
        "plt.ylabel('Temperature (°C)')\n",
        "plt.title('Actual vs Predicted Temperature')\n",
        "plt.legend()\n",
        "plt.show()\n",
        "\n",
        "residuals = output['max_temp'] - hourly_dataframe['temperature_2m']\n",
        "\n",
        "plt.figure(figsize=(10, 6))\n",
        "plt.plot(hourly_dataframe.index, residuals, color='green')\n",
        "plt.xlabel('Time')\n",
        "plt.ylabel('Residuals')\n",
        "plt.title('Residual Plot')\n",
        "plt.axhline(y=0, color='black', linestyle='--')\n",
        "plt.show()\n",
        "\n"
      ]
    },
    {
      "cell_type": "code",
      "execution_count": 20,
      "metadata": {
        "colab": {
          "base_uri": "https://localhost:8080/",
          "height": 564
        },
        "id": "-Y1jcRw5Vlg4",
        "outputId": "d69a3dbe-71e1-433e-83d8-5dc5bad472c5"
      },
      "outputs": [
        {
          "data": {
            "image/png": "[encoded data removed]",
            "text/plain": [
              "<Figure size 1000x600 with 1 Axes>"
            ]
          },
          "metadata": {},
          "output_type": "display_data"
        }
      ],
      "source": [
        "import scipy.stats as stats\n",
        "\n",
        "plt.figure(figsize=(10, 6))\n",
        "stats.probplot(residuals, dist=\"norm\", plot=plt)\n",
        "plt.title('Q-Q Plot of Residuals')\n",
        "plt.show()\n"
      ]
    },
    {
      "cell_type": "code",
      "execution_count": 21,
      "metadata": {
        "colab": {
          "base_uri": "https://localhost:8080/"
        },
        "id": "OlsR9sYYV9XQ",
        "outputId": "87ca9624-aabd-4c2a-b304-ef1f5bd1ca37"
      },
      "outputs": [
        {
          "name": "stdout",
          "output_type": "stream",
          "text": [
            "Correlation Coefficient: 0.8893556183303046\n"
          ]
        }
      ],
      "source": [
        "correlation_coefficient = np.corrcoef(hourly_dataframe['temperature_2m'], output['max_temp'])[0, 1]\n",
        "print(\"Correlation Coefficient:\", correlation_coefficient)"
      ]
    },
    {
      "cell_type": "markdown",
      "metadata": {
        "id": "kyzHdRprw1sN"
      },
      "source": [
        "Correlation Coefficient: 0.8893556183303046 implies a Strong correlation.\n"
      ]
    },
    {
      "cell_type": "code",
      "execution_count": 22,
      "metadata": {
        "colab": {
          "base_uri": "https://localhost:8080/",
          "height": 564
        },
        "id": "j5DzSVfQWmZB",
        "outputId": "3bdddc31-a53b-47df-d22d-848751ff7786"
      },
      "outputs": [
        {
          "data": {
            "image/png": "[encoded data removed]",
            "text/plain": [
              "<Figure size 1000x600 with 1 Axes>"
            ]
          },
          "metadata": {},
          "output_type": "display_data"
        }
      ],
      "source": [
        "plt.figure(figsize=(10, 6))\n",
        "plt.hist(hourly_dataframe['temperature_2m'], bins=20, color='blue', edgecolor='black')\n",
        "plt.xlabel('Temperature (°C)')\n",
        "plt.ylabel('Frequency')\n",
        "plt.title('Distribution of Temperature Data')\n",
        "plt.show()\n"
      ]
    },
    {
      "cell_type": "code",
      "execution_count": 22,
      "metadata": {
        "id": "p-maQLbfo2_R"
      },
      "outputs": [],
      "source": []
    }
  ],
  "metadata": {
    "colab": {
      "provenance": []
    },
    "kernelspec": {
      "display_name": "Python 3",
      "name": "python3"
    },
    "language_info": {
      "name": "python"
    }
  },
  "nbformat": 4,
  "nbformat_minor": 0
}

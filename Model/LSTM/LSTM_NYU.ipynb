{
  "cells": [
    {
      "cell_type": "code",
      "execution_count": null,
      "metadata": {
        "id": "Rh48n1OmnEhU"
      },
      "outputs": [],
      "source": [
        "import pandas as pd\n",
        "data = {'max_temp': []}\n",
        "output = pd.DataFrame(data)"
      ]
    },
    {
      "cell_type": "code",
      "execution_count": null,
      "metadata": {
        "id": "KdhT94S5nPEB"
      },
      "outputs": [],
      "source": [
        "df = pd.read_csv(r'/content/NYC.csv')"
      ]
    },
    {
      "cell_type": "code",
      "execution_count": null,
      "metadata": {
        "colab": {
          "base_uri": "https://localhost:8080/"
        },
        "id": "9Vd0V2hyvcwd",
        "outputId": "c033c4e6-d330-4b1c-9d3b-5ea61c853fea"
      },
      "outputs": [
        {
          "name": "stdout",
          "output_type": "stream",
          "text": [
            "Requirement already satisfied: openmeteo-requests in /usr/local/lib/python3.10/dist-packages (1.2.0)\n",
            "Requirement already satisfied: openmeteo-sdk>=1.4.0 in /usr/local/lib/python3.10/dist-packages (from openmeteo-requests) (1.11.3)\n",
            "Requirement already satisfied: requests in /usr/local/lib/python3.10/dist-packages (from openmeteo-requests) (2.31.0)\n",
            "Requirement already satisfied: flatbuffers>=24.0.0 in /usr/local/lib/python3.10/dist-packages (from openmeteo-sdk>=1.4.0->openmeteo-requests) (24.3.25)\n",
            "Requirement already satisfied: charset-normalizer<4,>=2 in /usr/local/lib/python3.10/dist-packages (from requests->openmeteo-requests) (3.3.2)\n",
            "Requirement already satisfied: idna<4,>=2.5 in /usr/local/lib/python3.10/dist-packages (from requests->openmeteo-requests) (3.6)\n",
            "Requirement already satisfied: urllib3<3,>=1.21.1 in /usr/local/lib/python3.10/dist-packages (from requests->openmeteo-requests) (2.0.7)\n",
            "Requirement already satisfied: certifi>=2017.4.17 in /usr/local/lib/python3.10/dist-packages (from requests->openmeteo-requests) (2024.2.2)\n",
            "Requirement already satisfied: requests-cache in /usr/local/lib/python3.10/dist-packages (1.2.0)\n",
            "Requirement already satisfied: retry-requests in /usr/local/lib/python3.10/dist-packages (2.0.0)\n",
            "Requirement already satisfied: numpy in /usr/local/lib/python3.10/dist-packages (1.25.2)\n",
            "Requirement already satisfied: pandas in /usr/local/lib/python3.10/dist-packages (2.0.3)\n",
            "Requirement already satisfied: attrs>=21.2 in /usr/local/lib/python3.10/dist-packages (from requests-cache) (23.2.0)\n",
            "Requirement already satisfied: cattrs>=22.2 in /usr/local/lib/python3.10/dist-packages (from requests-cache) (23.2.3)\n",
            "Requirement already satisfied: platformdirs>=2.5 in /usr/local/lib/python3.10/dist-packages (from requests-cache) (4.2.0)\n",
            "Requirement already satisfied: requests>=2.22 in /usr/local/lib/python3.10/dist-packages (from requests-cache) (2.31.0)\n",
            "Requirement already satisfied: url-normalize>=1.4 in /usr/local/lib/python3.10/dist-packages (from requests-cache) (1.4.3)\n",
            "Requirement already satisfied: urllib3>=1.25.5 in /usr/local/lib/python3.10/dist-packages (from requests-cache) (2.0.7)\n",
            "Requirement already satisfied: python-dateutil>=2.8.2 in /usr/local/lib/python3.10/dist-packages (from pandas) (2.8.2)\n",
            "Requirement already satisfied: pytz>=2020.1 in /usr/local/lib/python3.10/dist-packages (from pandas) (2023.4)\n",
            "Requirement already satisfied: tzdata>=2022.1 in /usr/local/lib/python3.10/dist-packages (from pandas) (2024.1)\n",
            "Requirement already satisfied: exceptiongroup>=1.1.1 in /usr/local/lib/python3.10/dist-packages (from cattrs>=22.2->requests-cache) (1.2.0)\n",
            "Requirement already satisfied: typing-extensions!=4.6.3,>=4.1.0 in /usr/local/lib/python3.10/dist-packages (from cattrs>=22.2->requests-cache) (4.10.0)\n",
            "Requirement already satisfied: six>=1.5 in /usr/local/lib/python3.10/dist-packages (from python-dateutil>=2.8.2->pandas) (1.16.0)\n",
            "Requirement already satisfied: charset-normalizer<4,>=2 in /usr/local/lib/python3.10/dist-packages (from requests>=2.22->requests-cache) (3.3.2)\n",
            "Requirement already satisfied: idna<4,>=2.5 in /usr/local/lib/python3.10/dist-packages (from requests>=2.22->requests-cache) (3.6)\n",
            "Requirement already satisfied: certifi>=2017.4.17 in /usr/local/lib/python3.10/dist-packages (from requests>=2.22->requests-cache) (2024.2.2)\n",
            "Coordinates 52.52000045776367°N 13.419998168945312°E\n",
            "Elevation 38.0 m asl\n",
            "Timezone None None\n",
            "Timezone difference to GMT+0 0 s\n",
            "                        date  temperature_2m  relative_humidity_2m  \\\n",
            "0  2024-04-04 00:00:00+00:00       10.045500                  89.0   \n",
            "1  2024-04-04 01:00:00+00:00        9.945499                  88.0   \n",
            "2  2024-04-04 02:00:00+00:00        9.695499                  90.0   \n",
            "3  2024-04-04 03:00:00+00:00        9.745500                  93.0   \n",
            "4  2024-04-04 04:00:00+00:00        9.295500                  94.0   \n",
            "5  2024-04-04 05:00:00+00:00        9.045500                  91.0   \n",
            "6  2024-04-04 06:00:00+00:00        9.395500                  90.0   \n",
            "7  2024-04-04 07:00:00+00:00       10.745500                  83.0   \n",
            "8  2024-04-04 08:00:00+00:00       12.145500                  73.0   \n",
            "9  2024-04-04 09:00:00+00:00       13.695499                  63.0   \n",
            "10 2024-04-04 10:00:00+00:00       13.445499                  67.0   \n",
            "11 2024-04-04 11:00:00+00:00       12.845500                  73.0   \n",
            "12 2024-04-04 12:00:00+00:00       12.945499                  73.0   \n",
            "13 2024-04-04 13:00:00+00:00       12.345500                  84.0   \n",
            "14 2024-04-04 14:00:00+00:00       12.345500                  88.0   \n",
            "15 2024-04-04 15:00:00+00:00       13.395500                  85.0   \n",
            "16 2024-04-04 16:00:00+00:00       14.195499                  81.0   \n",
            "17 2024-04-04 17:00:00+00:00       14.445499                  71.0   \n",
            "18 2024-04-04 18:00:00+00:00       13.745500                  81.0   \n",
            "19 2024-04-04 19:00:00+00:00       13.095500                  82.0   \n",
            "20 2024-04-04 20:00:00+00:00       12.345500                  83.0   \n",
            "21 2024-04-04 21:00:00+00:00       11.495500                  78.0   \n",
            "22 2024-04-04 22:00:00+00:00       11.245500                  77.0   \n",
            "23 2024-04-04 23:00:00+00:00       10.895500                  78.0   \n",
            "\n",
            "    precipitation  rain  snowfall  wind_speed_10m  wind_gusts_10m  \n",
            "0             0.0   0.0       0.0        9.449572       20.519999  \n",
            "1             0.0   0.6       0.0        8.373386       20.519999  \n",
            "2             0.9   0.2       0.0        9.360001       20.160000  \n",
            "3             0.0   0.0       0.0        9.957108       21.240000  \n",
            "4             0.0   0.0       0.0        9.726664       20.160000  \n",
            "5             0.0   0.0       0.0        9.726664       20.880001  \n",
            "6             0.0   0.0       0.0        9.220499       20.160000  \n",
            "7             0.0   0.0       0.0       10.195057       22.319998  \n",
            "8             0.0   0.0       0.0       10.691453       23.400000  \n",
            "9             0.0   0.0       0.0       15.349684       34.919998  \n",
            "10            0.1   0.0       0.0       13.324863       33.119999  \n",
            "11            0.2   0.1       0.0       13.004921       29.160000  \n",
            "12            0.2   0.6       0.0       16.622490       30.960001  \n",
            "13            2.0   1.8       0.0       17.294992       45.000000  \n",
            "14            2.1   1.1       0.0       15.584300       36.360001  \n",
            "15            0.4   1.8       0.0       15.379206       33.480000  \n",
            "16            0.0   0.0       0.0       14.058450       33.480000  \n",
            "17            0.0   0.0       0.0       13.684735       37.799999  \n",
            "18            0.0   0.0       0.0       16.179987       41.039997  \n",
            "19            0.0   0.0       0.0       11.246759       34.919998  \n",
            "20            0.0   0.0       0.0       13.104198       27.000000  \n",
            "21            0.0   0.0       0.0       14.400000       30.960001  \n",
            "22            0.0   0.0       0.0       13.708390       29.879999  \n",
            "23            0.0   0.0       0.0       13.044724       28.080000  \n",
            "                       date  temperature_2m_max\n",
            "0 2024-04-04 00:00:00+00:00           14.445499\n"
          ]
        }
      ],
      "source": [
        "!pip install openmeteo-requests\n",
        "!pip install requests-cache retry-requests numpy pandas\n",
        "import requests_cache\n",
        "import pandas as pd\n",
        "from retry_requests import retry\n",
        "\n",
        "# Setup the Open-Meteo API client with cache and retry on error\n",
        "cache_session = requests_cache.CachedSession('.cache', expire_after = 3600)\n",
        "retry_session = retry(cache_session, retries = 5, backoff_factor = 0.2)\n",
        "openmeteo = openmeteo_requests.Client(session = retry_session)\n",
        "\n",
        "# Make sure all required weather variables are listed here\n",
        "# The order of variables in hourly or daily is important to assign them correctly below\n",
        "url = \"https://api.open-meteo.com/v1/forecast\"\n",
        "params = {\n",
        "\t\"latitude\": 52.52,\n",
        "\t\"longitude\": 13.41,\n",
        "\t\"hourly\": [\"temperature_2m\", \"relative_humidity_2m\", \"precipitation\", \"rain\", \"snowfall\", \"wind_speed_10m\", \"wind_gusts_10m\"],\n",
        "\t\"daily\": \"temperature_2m_max\",\n",
        "\t\"start_date\": \"2024-04-04\",\n",
        "\t\"end_date\": \"2024-04-04\"\n",
        "}\n",
        "responses = openmeteo.weather_api(url, params=params)\n",
        "\n",
        "# Process first location. Add a for-loop for multiple locations or weather models\n",
        "response = responses[0]\n",
        "print(f\"Coordinates {response.Latitude()}°N {response.Longitude()}°E\")\n",
        "print(f\"Elevation {response.Elevation()} m asl\")\n",
        "print(f\"Timezone {response.Timezone()} {response.TimezoneAbbreviation()}\")\n",
        "print(f\"Timezone difference to GMT+0 {response.UtcOffsetSeconds()} s\")\n",
        "\n",
        "# Process hourly data. The order of variables needs to be the same as requested.\n",
        "hourly = response.Hourly()\n",
        "hourly_temperature_2m = hourly.Variables(0).ValuesAsNumpy()\n",
        "hourly_relative_humidity_2m = hourly.Variables(1).ValuesAsNumpy()\n",
        "hourly_precipitation = hourly.Variables(2).ValuesAsNumpy()\n",
        "hourly_rain = hourly.Variables(3).ValuesAsNumpy()\n",
        "hourly_snowfall = hourly.Variables(4).ValuesAsNumpy()\n",
        "hourly_wind_speed_10m = hourly.Variables(5).ValuesAsNumpy()\n",
        "hourly_wind_gusts_10m = hourly.Variables(6).ValuesAsNumpy()\n",
        "\n",
        "hourly_data = {\"date\": pd.date_range(\n",
        "\tstart = pd.to_datetime(hourly.Time(), unit = \"s\", utc = True),\n",
        "\tend = pd.to_datetime(hourly.TimeEnd(), unit = \"s\", utc = True),\n",
        "\tfreq = pd.Timedelta(seconds = hourly.Interval()),\n",
        "\tinclusive = \"left\"\n",
        ")}\n",
        "hourly_data[\"temperature_2m\"] = hourly_temperature_2m\n",
        "hourly_data[\"relative_humidity_2m\"] = hourly_relative_humidity_2m\n",
        "hourly_data[\"precipitation\"] = hourly_precipitation\n",
        "hourly_data[\"rain\"] = hourly_rain\n",
        "hourly_data[\"snowfall\"] = hourly_snowfall\n",
        "hourly_data[\"wind_speed_10m\"] = hourly_wind_speed_10m\n",
        "hourly_data[\"wind_gusts_10m\"] = hourly_wind_gusts_10m\n",
        "\n",
        "hourly_dataframe = pd.DataFrame(data = hourly_data)\n",
        "print(hourly_dataframe)\n",
        "\n",
        "# Process daily data. The order of variables needs to be the same as requested.\n",
        "daily = response.Daily()\n",
        "daily_temperature_2m_max = daily.Variables(0).ValuesAsNumpy()\n",
        "\n",
        "daily_data = {\"date\": pd.date_range(\n",
        "\tstart = pd.to_datetime(daily.Time(), unit = \"s\", utc = True),\n",
        "\tend = pd.to_datetime(daily.TimeEnd(), unit = \"s\", utc = True),\n",
        "\tfreq = pd.Timedelta(seconds = daily.Interval()),\n",
        "\tinclusive = \"left\"\n",
        ")}\n",
        "daily_data[\"temperature_2m_max\"] = daily_temperature_2m_max\n",
        "\n",
        "daily_dataframe = pd.DataFrame(data = daily_data)\n",
        "print(daily_dataframe)"
      ]
    },
    {
      "cell_type": "code",
      "execution_count": null,
      "metadata": {
        "id": "79rQO2AQrpZw"
      },
      "outputs": [],
      "source": [
        "hourly_dataframe.drop(columns=['date'],inplace=True)"
      ]
    },
    {
      "cell_type": "code",
      "execution_count": null,
      "metadata": {
        "colab": {
          "base_uri": "https://localhost:8080/"
        },
        "id": "7f-HELgrnOzc",
        "outputId": "36695ca5-b537-49f9-d9f4-8d4a6bb9c1e3"
      },
      "outputs": [
        {
          "name": "stdout",
          "output_type": "stream",
          "text": [
            "                            date  temperature_2m  relative_humidity_2m  \\\n",
            "0      2014-01-01 00:00:00+00:00         -1.6165             51.109135   \n",
            "1      2014-01-01 01:00:00+00:00         -2.2665             49.321950   \n",
            "2      2014-01-01 02:00:00+00:00         -2.8165             47.412094   \n",
            "3      2014-01-01 03:00:00+00:00         -3.3165             45.383360   \n",
            "4      2014-01-01 04:00:00+00:00         -3.7665             43.611240   \n",
            "...                          ...             ...                   ...   \n",
            "87667  2024-01-01 19:00:00+00:00          7.2725             58.516983   \n",
            "87668  2024-01-01 20:00:00+00:00          7.1225             57.632763   \n",
            "87669  2024-01-01 21:00:00+00:00          6.7725             59.032120   \n",
            "87670  2024-01-01 22:00:00+00:00          4.6225             72.084540   \n",
            "87671  2024-01-01 23:00:00+00:00          3.1225             79.229690   \n",
            "\n",
            "       dew_point_2m  precipitation  rain  snowfall  wind_speed_10m  \\\n",
            "0        -10.416500            0.0   0.0       0.0       16.215992   \n",
            "1        -11.466499            0.0   0.0       0.0       14.764389   \n",
            "2        -12.466499            0.0   0.0       0.0       14.759999   \n",
            "3        -13.466499            0.0   0.0       0.0       14.777550   \n",
            "4        -14.366501            0.0   0.0       0.0       15.038350   \n",
            "...             ...            ...   ...       ...             ...   \n",
            "87667     -0.327500            0.0   0.0       0.0        8.557102   \n",
            "87668     -0.677500            0.0   0.0       0.0        8.891344   \n",
            "87669     -0.677500            0.0   0.0       0.0        7.968939   \n",
            "87670      0.022500            0.0   0.0       0.0        6.830519   \n",
            "87671     -0.127500            0.0   0.0       0.0        7.072878   \n",
            "\n",
            "       wind_gusts_10m  \n",
            "0           34.200000  \n",
            "1           34.200000  \n",
            "2           31.680000  \n",
            "3           29.160000  \n",
            "4           29.519999  \n",
            "...               ...  \n",
            "87667       18.720000  \n",
            "87668       16.919998  \n",
            "87669       15.840000  \n",
            "87670       12.240000  \n",
            "87671       10.440001  \n",
            "\n",
            "[87672 rows x 9 columns]\n"
          ]
        }
      ],
      "source": [
        "print(df)"
      ]
    },
    {
      "cell_type": "code",
      "execution_count": null,
      "metadata": {
        "colab": {
          "base_uri": "https://localhost:8080/"
        },
        "id": "umV5-F5nh779",
        "outputId": "9d855899-2e76-4d57-e0d3-85089611874d"
      },
      "outputs": [
        {
          "name": "stdout",
          "output_type": "stream",
          "text": [
            "Index(['date', 'temperature_2m', 'relative_humidity_2m', 'dew_point_2m',\n",
            "       'precipitation', 'rain', 'snowfall', 'wind_speed_10m',\n",
            "       'wind_gusts_10m'],\n",
            "      dtype='object')\n"
          ]
        }
      ],
      "source": [
        "print(df.columns)"
      ]
    },
    {
      "cell_type": "code",
      "execution_count": null,
      "metadata": {
        "id": "GL9j2GojnRWX"
      },
      "outputs": [],
      "source": [
        "df.drop(columns=['date'],inplace=True)"
      ]
    },
    {
      "cell_type": "code",
      "execution_count": null,
      "metadata": {
        "colab": {
          "base_uri": "https://localhost:8080/",
          "height": 424
        },
        "id": "QycR9H4370mu",
        "outputId": "cc45b00e-f64a-4ccd-a0db-f225b776e073"
      },
      "outputs": [
        {
          "data": {
            "application/vnd.google.colaboratory.intrinsic+json": {
              "summary": "{\n  \"name\": \"df\",\n  \"rows\": 87672,\n  \"fields\": [\n    {\n      \"column\": \"temperature_2m\",\n      \"properties\": {\n        \"dtype\": \"number\",\n        \"std\": 10.034234580112694,\n        \"min\": -20.7275,\n        \"max\": 37.3225,\n        \"num_unique_values\": 2101,\n        \"samples\": [\n          -11.0775,\n          9.9725,\n          -5.3275\n        ],\n        \"semantic_type\": \"\",\n        \"description\": \"\"\n      }\n    },\n    {\n      \"column\": \"relative_humidity_2m\",\n      \"properties\": {\n        \"dtype\": \"number\",\n        \"std\": 18.401779040877113,\n        \"min\": 13.568665,\n        \"max\": 100.0,\n        \"num_unique_values\": 74448,\n        \"samples\": [\n          56.82487,\n          95.55242,\n          97.050385\n        ],\n        \"semantic_type\": \"\",\n        \"description\": \"\"\n      }\n    },\n    {\n      \"column\": \"dew_point_2m\",\n      \"properties\": {\n        \"dtype\": \"number\",\n        \"std\": 10.531278703032923,\n        \"min\": -29.177502,\n        \"max\": 25.9335,\n        \"num_unique_values\": 2055,\n        \"samples\": [\n          4.8225,\n          0.6335,\n          -13.4775\n        ],\n        \"semantic_type\": \"\",\n        \"description\": \"\"\n      }\n    },\n    {\n      \"column\": \"precipitation\",\n      \"properties\": {\n        \"dtype\": \"number\",\n        \"std\": 0.657926775252336,\n        \"min\": 0.0,\n        \"max\": 33.8,\n        \"num_unique_values\": 130,\n        \"samples\": [\n          7.9,\n          3.0,\n          1.9\n        ],\n        \"semantic_type\": \"\",\n        \"description\": \"\"\n      }\n    },\n    {\n      \"column\": \"rain\",\n      \"properties\": {\n        \"dtype\": \"number\",\n        \"std\": 0.6442054943987378,\n        \"min\": 0.0,\n        \"max\": 33.8,\n        \"num_unique_values\": 177,\n        \"samples\": [\n          0.19999999,\n          2.8,\n          9.2\n        ],\n        \"semantic_type\": \"\",\n        \"description\": \"\"\n      }\n    },\n    {\n      \"column\": \"snowfall\",\n      \"properties\": {\n        \"dtype\": \"number\",\n        \"std\": 0.09235207284068105,\n        \"min\": 0.0,\n        \"max\": 4.3399997,\n        \"num_unique_values\": 47,\n        \"samples\": [\n          3.2899997,\n          2.24,\n          1.4699999\n        ],\n        \"semantic_type\": \"\",\n        \"description\": \"\"\n      }\n    },\n    {\n      \"column\": \"wind_speed_10m\",\n      \"properties\": {\n        \"dtype\": \"number\",\n        \"std\": 6.75614939987006,\n        \"min\": 0.0,\n        \"max\": 60.35666,\n        \"num_unique_values\": 3180,\n        \"samples\": [\n          15.716793,\n          16.766108,\n          11.212135\n        ],\n        \"semantic_type\": \"\",\n        \"description\": \"\"\n      }\n    },\n    {\n      \"column\": \"wind_gusts_10m\",\n      \"properties\": {\n        \"dtype\": \"number\",\n        \"std\": 11.847119941081544,\n        \"min\": 1.8,\n        \"max\": 113.399994,\n        \"num_unique_values\": 259,\n        \"samples\": [\n          9.72,\n          54.0,\n          19.08\n        ],\n        \"semantic_type\": \"\",\n        \"description\": \"\"\n      }\n    }\n  ]\n}",
              "type": "dataframe",
              "variable_name": "df"
            },
            "text/html": [
              "\n",
              "  <div id=\"df-7a0b8b47-e360-42fb-85f2-4b6e523d9e99\" class=\"colab-df-container\">\n",
              "    <div>\n",
              "<style scoped>\n",
              "    .dataframe tbody tr th:only-of-type {\n",
              "        vertical-align: middle;\n",
              "    }\n",
              "\n",
              "    .dataframe tbody tr th {\n",
              "        vertical-align: top;\n",
              "    }\n",
              "\n",
              "    .dataframe thead th {\n",
              "        text-align: right;\n",
              "    }\n",
              "</style>\n",
              "<table border=\"1\" class=\"dataframe\">\n",
              "  <thead>\n",
              "    <tr style=\"text-align: right;\">\n",
              "      <th></th>\n",
              "      <th>temperature_2m</th>\n",
              "      <th>relative_humidity_2m</th>\n",
              "      <th>dew_point_2m</th>\n",
              "      <th>precipitation</th>\n",
              "      <th>rain</th>\n",
              "      <th>snowfall</th>\n",
              "      <th>wind_speed_10m</th>\n",
              "      <th>wind_gusts_10m</th>\n",
              "    </tr>\n",
              "  </thead>\n",
              "  <tbody>\n",
              "    <tr>\n",
              "      <th>0</th>\n",
              "      <td>-1.6165</td>\n",
              "      <td>51.109135</td>\n",
              "      <td>-10.416500</td>\n",
              "      <td>0.0</td>\n",
              "      <td>0.0</td>\n",
              "      <td>0.0</td>\n",
              "      <td>16.215992</td>\n",
              "      <td>34.200000</td>\n",
              "    </tr>\n",
              "    <tr>\n",
              "      <th>1</th>\n",
              "      <td>-2.2665</td>\n",
              "      <td>49.321950</td>\n",
              "      <td>-11.466499</td>\n",
              "      <td>0.0</td>\n",
              "      <td>0.0</td>\n",
              "      <td>0.0</td>\n",
              "      <td>14.764389</td>\n",
              "      <td>34.200000</td>\n",
              "    </tr>\n",
              "    <tr>\n",
              "      <th>2</th>\n",
              "      <td>-2.8165</td>\n",
              "      <td>47.412094</td>\n",
              "      <td>-12.466499</td>\n",
              "      <td>0.0</td>\n",
              "      <td>0.0</td>\n",
              "      <td>0.0</td>\n",
              "      <td>14.759999</td>\n",
              "      <td>31.680000</td>\n",
              "    </tr>\n",
              "    <tr>\n",
              "      <th>3</th>\n",
              "      <td>-3.3165</td>\n",
              "      <td>45.383360</td>\n",
              "      <td>-13.466499</td>\n",
              "      <td>0.0</td>\n",
              "      <td>0.0</td>\n",
              "      <td>0.0</td>\n",
              "      <td>14.777550</td>\n",
              "      <td>29.160000</td>\n",
              "    </tr>\n",
              "    <tr>\n",
              "      <th>4</th>\n",
              "      <td>-3.7665</td>\n",
              "      <td>43.611240</td>\n",
              "      <td>-14.366501</td>\n",
              "      <td>0.0</td>\n",
              "      <td>0.0</td>\n",
              "      <td>0.0</td>\n",
              "      <td>15.038350</td>\n",
              "      <td>29.519999</td>\n",
              "    </tr>\n",
              "    <tr>\n",
              "      <th>...</th>\n",
              "      <td>...</td>\n",
              "      <td>...</td>\n",
              "      <td>...</td>\n",
              "      <td>...</td>\n",
              "      <td>...</td>\n",
              "      <td>...</td>\n",
              "      <td>...</td>\n",
              "      <td>...</td>\n",
              "    </tr>\n",
              "    <tr>\n",
              "      <th>87667</th>\n",
              "      <td>7.2725</td>\n",
              "      <td>58.516983</td>\n",
              "      <td>-0.327500</td>\n",
              "      <td>0.0</td>\n",
              "      <td>0.0</td>\n",
              "      <td>0.0</td>\n",
              "      <td>8.557102</td>\n",
              "      <td>18.720000</td>\n",
              "    </tr>\n",
              "    <tr>\n",
              "      <th>87668</th>\n",
              "      <td>7.1225</td>\n",
              "      <td>57.632763</td>\n",
              "      <td>-0.677500</td>\n",
              "      <td>0.0</td>\n",
              "      <td>0.0</td>\n",
              "      <td>0.0</td>\n",
              "      <td>8.891344</td>\n",
              "      <td>16.919998</td>\n",
              "    </tr>\n",
              "    <tr>\n",
              "      <th>87669</th>\n",
              "      <td>6.7725</td>\n",
              "      <td>59.032120</td>\n",
              "      <td>-0.677500</td>\n",
              "      <td>0.0</td>\n",
              "      <td>0.0</td>\n",
              "      <td>0.0</td>\n",
              "      <td>7.968939</td>\n",
              "      <td>15.840000</td>\n",
              "    </tr>\n",
              "    <tr>\n",
              "      <th>87670</th>\n",
              "      <td>4.6225</td>\n",
              "      <td>72.084540</td>\n",
              "      <td>0.022500</td>\n",
              "      <td>0.0</td>\n",
              "      <td>0.0</td>\n",
              "      <td>0.0</td>\n",
              "      <td>6.830519</td>\n",
              "      <td>12.240000</td>\n",
              "    </tr>\n",
              "    <tr>\n",
              "      <th>87671</th>\n",
              "      <td>3.1225</td>\n",
              "      <td>79.229690</td>\n",
              "      <td>-0.127500</td>\n",
              "      <td>0.0</td>\n",
              "      <td>0.0</td>\n",
              "      <td>0.0</td>\n",
              "      <td>7.072878</td>\n",
              "      <td>10.440001</td>\n",
              "    </tr>\n",
              "  </tbody>\n",
              "</table>\n",
              "<p>87672 rows × 8 columns</p>\n",
              "</div>\n",
              "    <div class=\"colab-df-buttons\">\n",
              "\n",
              "  <div class=\"colab-df-container\">\n",
              "    <button class=\"colab-df-convert\" onclick=\"convertToInteractive('df-7a0b8b47-e360-42fb-85f2-4b6e523d9e99')\"\n",
              "            title=\"Convert this dataframe to an interactive table.\"\n",
              "            style=\"display:none;\">\n",
              "\n",
              "  <svg xmlns=\"http://www.w3.org/2000/svg\" height=\"24px\" viewBox=\"0 -960 960 960\">\n",
              "    <path d=\"M120-120v-720h720v720H120Zm60-500h600v-160H180v160Zm220 220h160v-160H400v160Zm0 220h160v-160H400v160ZM180-400h160v-160H180v160Zm440 0h160v-160H620v160ZM180-180h160v-160H180v160Zm440 0h160v-160H620v160Z\"/>\n",
              "  </svg>\n",
              "    </button>\n",
              "\n",
              "  <style>\n",
              "    .colab-df-container {\n",
              "      display:flex;\n",
              "      gap: 12px;\n",
              "    }\n",
              "\n",
              "    .colab-df-convert {\n",
              "      background-color: #E8F0FE;\n",
              "      border: none;\n",
              "      border-radius: 50%;\n",
              "      cursor: pointer;\n",
              "      display: none;\n",
              "      fill: #1967D2;\n",
              "      height: 32px;\n",
              "      padding: 0 0 0 0;\n",
              "      width: 32px;\n",
              "    }\n",
              "\n",
              "    .colab-df-convert:hover {\n",
              "      background-color: #E2EBFA;\n",
              "      box-shadow: 0px 1px 2px rgba(60, 64, 67, 0.3), 0px 1px 3px 1px rgba(60, 64, 67, 0.15);\n",
              "      fill: #174EA6;\n",
              "    }\n",
              "\n",
              "    .colab-df-buttons div {\n",
              "      margin-bottom: 4px;\n",
              "    }\n",
              "\n",
              "    [theme=dark] .colab-df-convert {\n",
              "      background-color: #3B4455;\n",
              "      fill: #D2E3FC;\n",
              "    }\n",
              "\n",
              "    [theme=dark] .colab-df-convert:hover {\n",
              "      background-color: #434B5C;\n",
              "      box-shadow: 0px 1px 3px 1px rgba(0, 0, 0, 0.15);\n",
              "      filter: drop-shadow(0px 1px 2px rgba(0, 0, 0, 0.3));\n",
              "      fill: #FFFFFF;\n",
              "    }\n",
              "  </style>\n",
              "\n",
              "    <script>\n",
              "      const buttonEl =\n",
              "        document.querySelector('#df-7a0b8b47-e360-42fb-85f2-4b6e523d9e99 button.colab-df-convert');\n",
              "      buttonEl.style.display =\n",
              "        google.colab.kernel.accessAllowed ? 'block' : 'none';\n",
              "\n",
              "      async function convertToInteractive(key) {\n",
              "        const element = document.querySelector('#df-7a0b8b47-e360-42fb-85f2-4b6e523d9e99');\n",
              "        const dataTable =\n",
              "          await google.colab.kernel.invokeFunction('convertToInteractive',\n",
              "                                                    [key], {});\n",
              "        if (!dataTable) return;\n",
              "\n",
              "        const docLinkHtml = 'Like what you see? Visit the ' +\n",
              "          '<a target=\"_blank\" href=https://colab.research.google.com/notebooks/data_table.ipynb>data table notebook</a>'\n",
              "          + ' to learn more about interactive tables.';\n",
              "        element.innerHTML = '';\n",
              "        dataTable['output_type'] = 'display_data';\n",
              "        await google.colab.output.renderOutput(dataTable, element);\n",
              "        const docLink = document.createElement('div');\n",
              "        docLink.innerHTML = docLinkHtml;\n",
              "        element.appendChild(docLink);\n",
              "      }\n",
              "    </script>\n",
              "  </div>\n",
              "\n",
              "\n",
              "<div id=\"df-6ff48ab6-0318-433d-9a18-5c83bbfa8e26\">\n",
              "  <button class=\"colab-df-quickchart\" onclick=\"quickchart('df-6ff48ab6-0318-433d-9a18-5c83bbfa8e26')\"\n",
              "            title=\"Suggest charts\"\n",
              "            style=\"display:none;\">\n",
              "\n",
              "<svg xmlns=\"http://www.w3.org/2000/svg\" height=\"24px\"viewBox=\"0 0 24 24\"\n",
              "     width=\"24px\">\n",
              "    <g>\n",
              "        <path d=\"M19 3H5c-1.1 0-2 .9-2 2v14c0 1.1.9 2 2 2h14c1.1 0 2-.9 2-2V5c0-1.1-.9-2-2-2zM9 17H7v-7h2v7zm4 0h-2V7h2v10zm4 0h-2v-4h2v4z\"/>\n",
              "    </g>\n",
              "</svg>\n",
              "  </button>\n",
              "\n",
              "<style>\n",
              "  .colab-df-quickchart {\n",
              "      --bg-color: #E8F0FE;\n",
              "      --fill-color: #1967D2;\n",
              "      --hover-bg-color: #E2EBFA;\n",
              "      --hover-fill-color: #174EA6;\n",
              "      --disabled-fill-color: #AAA;\n",
              "      --disabled-bg-color: #DDD;\n",
              "  }\n",
              "\n",
              "  [theme=dark] .colab-df-quickchart {\n",
              "      --bg-color: #3B4455;\n",
              "      --fill-color: #D2E3FC;\n",
              "      --hover-bg-color: #434B5C;\n",
              "      --hover-fill-color: #FFFFFF;\n",
              "      --disabled-bg-color: #3B4455;\n",
              "      --disabled-fill-color: #666;\n",
              "  }\n",
              "\n",
              "  .colab-df-quickchart {\n",
              "    background-color: var(--bg-color);\n",
              "    border: none;\n",
              "    border-radius: 50%;\n",
              "    cursor: pointer;\n",
              "    display: none;\n",
              "    fill: var(--fill-color);\n",
              "    height: 32px;\n",
              "    padding: 0;\n",
              "    width: 32px;\n",
              "  }\n",
              "\n",
              "  .colab-df-quickchart:hover {\n",
              "    background-color: var(--hover-bg-color);\n",
              "    box-shadow: 0 1px 2px rgba(60, 64, 67, 0.3), 0 1px 3px 1px rgba(60, 64, 67, 0.15);\n",
              "    fill: var(--button-hover-fill-color);\n",
              "  }\n",
              "\n",
              "  .colab-df-quickchart-complete:disabled,\n",
              "  .colab-df-quickchart-complete:disabled:hover {\n",
              "    background-color: var(--disabled-bg-color);\n",
              "    fill: var(--disabled-fill-color);\n",
              "    box-shadow: none;\n",
              "  }\n",
              "\n",
              "  .colab-df-spinner {\n",
              "    border: 2px solid var(--fill-color);\n",
              "    border-color: transparent;\n",
              "    border-bottom-color: var(--fill-color);\n",
              "    animation:\n",
              "      spin 1s steps(1) infinite;\n",
              "  }\n",
              "\n",
              "  @keyframes spin {\n",
              "    0% {\n",
              "      border-color: transparent;\n",
              "      border-bottom-color: var(--fill-color);\n",
              "      border-left-color: var(--fill-color);\n",
              "    }\n",
              "    20% {\n",
              "      border-color: transparent;\n",
              "      border-left-color: var(--fill-color);\n",
              "      border-top-color: var(--fill-color);\n",
              "    }\n",
              "    30% {\n",
              "      border-color: transparent;\n",
              "      border-left-color: var(--fill-color);\n",
              "      border-top-color: var(--fill-color);\n",
              "      border-right-color: var(--fill-color);\n",
              "    }\n",
              "    40% {\n",
              "      border-color: transparent;\n",
              "      border-right-color: var(--fill-color);\n",
              "      border-top-color: var(--fill-color);\n",
              "    }\n",
              "    60% {\n",
              "      border-color: transparent;\n",
              "      border-right-color: var(--fill-color);\n",
              "    }\n",
              "    80% {\n",
              "      border-color: transparent;\n",
              "      border-right-color: var(--fill-color);\n",
              "      border-bottom-color: var(--fill-color);\n",
              "    }\n",
              "    90% {\n",
              "      border-color: transparent;\n",
              "      border-bottom-color: var(--fill-color);\n",
              "    }\n",
              "  }\n",
              "</style>\n",
              "\n",
              "  <script>\n",
              "    async function quickchart(key) {\n",
              "      const quickchartButtonEl =\n",
              "        document.querySelector('#' + key + ' button');\n",
              "      quickchartButtonEl.disabled = true;  // To prevent multiple clicks.\n",
              "      quickchartButtonEl.classList.add('colab-df-spinner');\n",
              "      try {\n",
              "        const charts = await google.colab.kernel.invokeFunction(\n",
              "            'suggestCharts', [key], {});\n",
              "      } catch (error) {\n",
              "        console.error('Error during call to suggestCharts:', error);\n",
              "      }\n",
              "      quickchartButtonEl.classList.remove('colab-df-spinner');\n",
              "      quickchartButtonEl.classList.add('colab-df-quickchart-complete');\n",
              "    }\n",
              "    (() => {\n",
              "      let quickchartButtonEl =\n",
              "        document.querySelector('#df-6ff48ab6-0318-433d-9a18-5c83bbfa8e26 button');\n",
              "      quickchartButtonEl.style.display =\n",
              "        google.colab.kernel.accessAllowed ? 'block' : 'none';\n",
              "    })();\n",
              "  </script>\n",
              "</div>\n",
              "\n",
              "  <div id=\"id_74ffbb20-f6e4-46db-9452-a1dd4400bb93\">\n",
              "    <style>\n",
              "      .colab-df-generate {\n",
              "        background-color: #E8F0FE;\n",
              "        border: none;\n",
              "        border-radius: 50%;\n",
              "        cursor: pointer;\n",
              "        display: none;\n",
              "        fill: #1967D2;\n",
              "        height: 32px;\n",
              "        padding: 0 0 0 0;\n",
              "        width: 32px;\n",
              "      }\n",
              "\n",
              "      .colab-df-generate:hover {\n",
              "        background-color: #E2EBFA;\n",
              "        box-shadow: 0px 1px 2px rgba(60, 64, 67, 0.3), 0px 1px 3px 1px rgba(60, 64, 67, 0.15);\n",
              "        fill: #174EA6;\n",
              "      }\n",
              "\n",
              "      [theme=dark] .colab-df-generate {\n",
              "        background-color: #3B4455;\n",
              "        fill: #D2E3FC;\n",
              "      }\n",
              "\n",
              "      [theme=dark] .colab-df-generate:hover {\n",
              "        background-color: #434B5C;\n",
              "        box-shadow: 0px 1px 3px 1px rgba(0, 0, 0, 0.15);\n",
              "        filter: drop-shadow(0px 1px 2px rgba(0, 0, 0, 0.3));\n",
              "        fill: #FFFFFF;\n",
              "      }\n",
              "    </style>\n",
              "    <button class=\"colab-df-generate\" onclick=\"generateWithVariable('df')\"\n",
              "            title=\"Generate code using this dataframe.\"\n",
              "            style=\"display:none;\">\n",
              "\n",
              "  <svg xmlns=\"http://www.w3.org/2000/svg\" height=\"24px\"viewBox=\"0 0 24 24\"\n",
              "       width=\"24px\">\n",
              "    <path d=\"M7,19H8.4L18.45,9,17,7.55,7,17.6ZM5,21V16.75L18.45,3.32a2,2,0,0,1,2.83,0l1.4,1.43a1.91,1.91,0,0,1,.58,1.4,1.91,1.91,0,0,1-.58,1.4L9.25,21ZM18.45,9,17,7.55Zm-12,3A5.31,5.31,0,0,0,4.9,8.1,5.31,5.31,0,0,0,1,6.5,5.31,5.31,0,0,0,4.9,4.9,5.31,5.31,0,0,0,6.5,1,5.31,5.31,0,0,0,8.1,4.9,5.31,5.31,0,0,0,12,6.5,5.46,5.46,0,0,0,6.5,12Z\"/>\n",
              "  </svg>\n",
              "    </button>\n",
              "    <script>\n",
              "      (() => {\n",
              "      const buttonEl =\n",
              "        document.querySelector('#id_74ffbb20-f6e4-46db-9452-a1dd4400bb93 button.colab-df-generate');\n",
              "      buttonEl.style.display =\n",
              "        google.colab.kernel.accessAllowed ? 'block' : 'none';\n",
              "\n",
              "      buttonEl.onclick = () => {\n",
              "        google.colab.notebook.generateWithVariable('df');\n",
              "      }\n",
              "      })();\n",
              "    </script>\n",
              "  </div>\n",
              "\n",
              "    </div>\n",
              "  </div>\n"
            ],
            "text/plain": [
              "       temperature_2m  relative_humidity_2m  dew_point_2m  precipitation  \\\n",
              "0             -1.6165             51.109135    -10.416500            0.0   \n",
              "1             -2.2665             49.321950    -11.466499            0.0   \n",
              "2             -2.8165             47.412094    -12.466499            0.0   \n",
              "3             -3.3165             45.383360    -13.466499            0.0   \n",
              "4             -3.7665             43.611240    -14.366501            0.0   \n",
              "...               ...                   ...           ...            ...   \n",
              "87667          7.2725             58.516983     -0.327500            0.0   \n",
              "87668          7.1225             57.632763     -0.677500            0.0   \n",
              "87669          6.7725             59.032120     -0.677500            0.0   \n",
              "87670          4.6225             72.084540      0.022500            0.0   \n",
              "87671          3.1225             79.229690     -0.127500            0.0   \n",
              "\n",
              "       rain  snowfall  wind_speed_10m  wind_gusts_10m  \n",
              "0       0.0       0.0       16.215992       34.200000  \n",
              "1       0.0       0.0       14.764389       34.200000  \n",
              "2       0.0       0.0       14.759999       31.680000  \n",
              "3       0.0       0.0       14.777550       29.160000  \n",
              "4       0.0       0.0       15.038350       29.519999  \n",
              "...     ...       ...             ...             ...  \n",
              "87667   0.0       0.0        8.557102       18.720000  \n",
              "87668   0.0       0.0        8.891344       16.919998  \n",
              "87669   0.0       0.0        7.968939       15.840000  \n",
              "87670   0.0       0.0        6.830519       12.240000  \n",
              "87671   0.0       0.0        7.072878       10.440001  \n",
              "\n",
              "[87672 rows x 8 columns]"
            ]
          },
          "execution_count": 8,
          "metadata": {},
          "output_type": "execute_result"
        }
      ],
      "source": [
        "df"
      ]
    },
    {
      "cell_type": "code",
      "execution_count": null,
      "metadata": {
        "colab": {
          "base_uri": "https://localhost:8080/"
        },
        "id": "YZvPkAt-nV-O",
        "outputId": "2856b48d-49ad-49a0-c052-9eb70c928759"
      },
      "outputs": [
        {
          "name": "stdout",
          "output_type": "stream",
          "text": [
            "Epoch 1/30\n",
            "2192/2192 [==============================] - 15s 4ms/step - loss: 0.0339\n",
            "Epoch 2/30\n",
            "2192/2192 [==============================] - 8s 4ms/step - loss: 0.0285\n",
            "Epoch 3/30\n",
            "2192/2192 [==============================] - 8s 4ms/step - loss: 0.0283\n",
            "Epoch 4/30\n",
            "2192/2192 [==============================] - 8s 4ms/step - loss: 0.0282\n",
            "Epoch 5/30\n",
            "2192/2192 [==============================] - 8s 4ms/step - loss: 0.0281\n",
            "Epoch 6/30\n",
            "2192/2192 [==============================] - 8s 4ms/step - loss: 0.0279\n",
            "Epoch 7/30\n",
            "2192/2192 [==============================] - 8s 3ms/step - loss: 0.0278\n",
            "Epoch 8/30\n",
            "2192/2192 [==============================] - 8s 4ms/step - loss: 0.0278\n",
            "Epoch 9/30\n",
            "2192/2192 [==============================] - 8s 4ms/step - loss: 0.0277\n",
            "Epoch 10/30\n",
            "2192/2192 [==============================] - 7s 3ms/step - loss: 0.0277\n",
            "Epoch 11/30\n",
            "2192/2192 [==============================] - 8s 4ms/step - loss: 0.0276\n",
            "Epoch 12/30\n",
            "2192/2192 [==============================] - 8s 4ms/step - loss: 0.0276\n",
            "Epoch 13/30\n",
            "2192/2192 [==============================] - 8s 4ms/step - loss: 0.0275\n",
            "Epoch 14/30\n",
            "2192/2192 [==============================] - 9s 4ms/step - loss: 0.0275\n",
            "Epoch 15/30\n",
            "2192/2192 [==============================] - 8s 4ms/step - loss: 0.0274\n",
            "Epoch 16/30\n",
            "2192/2192 [==============================] - 8s 4ms/step - loss: 0.0274\n",
            "Epoch 17/30\n",
            "2192/2192 [==============================] - 8s 4ms/step - loss: 0.0274\n",
            "Epoch 18/30\n",
            "2192/2192 [==============================] - 8s 4ms/step - loss: 0.0274\n",
            "Epoch 19/30\n",
            "2192/2192 [==============================] - 8s 4ms/step - loss: 0.0273\n",
            "Epoch 20/30\n",
            "2192/2192 [==============================] - 8s 4ms/step - loss: 0.0273\n",
            "Epoch 21/30\n",
            "2192/2192 [==============================] - 8s 4ms/step - loss: 0.0273\n",
            "Epoch 22/30\n",
            "2192/2192 [==============================] - 7s 3ms/step - loss: 0.0272\n",
            "Epoch 23/30\n",
            "2192/2192 [==============================] - 8s 4ms/step - loss: 0.0272\n",
            "Epoch 24/30\n",
            "2192/2192 [==============================] - 8s 4ms/step - loss: 0.0272\n",
            "Epoch 25/30\n",
            "2192/2192 [==============================] - 7s 3ms/step - loss: 0.0272\n",
            "Epoch 26/30\n",
            "2192/2192 [==============================] - 8s 4ms/step - loss: 0.0271\n",
            "Epoch 27/30\n",
            "2192/2192 [==============================] - 8s 4ms/step - loss: 0.0271\n",
            "Epoch 28/30\n",
            "2192/2192 [==============================] - 7s 3ms/step - loss: 0.0271\n",
            "Epoch 29/30\n",
            "2192/2192 [==============================] - 8s 4ms/step - loss: 0.0271\n",
            "Epoch 30/30\n",
            "2192/2192 [==============================] - 8s 4ms/step - loss: 0.0271\n",
            "548/548 [==============================] - 2s 3ms/step - loss: 0.0270\n",
            "Mean Squared Error (LSTM): 0.026993146166205406\n"
          ]
        }
      ],
      "source": [
        "\n",
        "import numpy as np\n",
        "import pandas as pd\n",
        "from sklearn.model_selection import train_test_split\n",
        "from sklearn.preprocessing import MinMaxScaler\n",
        "from tensorflow.keras.models import Sequential\n",
        "from tensorflow.keras.layers import LSTM, Dense\n",
        "import pandas as pd\n",
        "from sklearn.preprocessing import MinMaxScaler\n",
        "from sklearn.model_selection import train_test_split\n",
        "\n",
        "\n",
        "X = df[['relative_humidity_2m', 'precipitation', 'rain', 'snowfall', 'wind_speed_10m', 'wind_gusts_10m']]\n",
        "y = df['temperature_2m']\n",
        "\n",
        "X = pd.DataFrame(X, columns=['relative_humidity_2m', 'precipitation', 'rain', 'snowfall', 'wind_speed_10m', 'wind_gusts_10m'])\n",
        "y = pd.DataFrame(y, columns=['temperature_2m'])\n",
        "\n",
        "scaler_x = MinMaxScaler()\n",
        "scaler_y = MinMaxScaler()\n",
        "X_scaled = scaler_x.fit_transform(X)\n",
        "y_scaled = scaler_y.fit_transform(y)\n",
        "X_train, X_test, y_train, y_test = train_test_split(X_scaled, y_scaled, test_size=0.2, random_state=42)\n",
        "\n",
        "X_train = X_train.reshape((X_train.shape[0], 1, X_train.shape[1]))\n",
        "X_test = X_test.reshape((X_test.shape[0], 1, X_test.shape[1]))\n",
        "\n",
        "\n",
        "model_lstm.add(LSTM(50, input_shape=(X_train.shape[1], X_train.shape[2])))\n",
        "model_lstm.add(Dense(1))\n",
        "model_lstm.compile(optimizer='adam', loss='mse')\n",
        "model_lstm.fit(X_train, y_train, epochs=30, batch_size=32, verbose=1)\n",
        "mse_lstm = model_lstm.evaluate(X_test, y_test)\n",
        "print(\"Mean Squared Error (LSTM):\", mse_lstm)\n"
      ]
    },
    {
      "cell_type": "code",
      "execution_count": null,
      "metadata": {
        "colab": {
          "base_uri": "https://localhost:8080/"
        },
        "id": "SsofFPyDw7Ho",
        "outputId": "827ee4b6-9b06-47a5-efec-74c7f3394924"
      },
      "outputs": [
        {
          "name": "stderr",
          "output_type": "stream",
          "text": [
            "/usr/local/lib/python3.10/dist-packages/sklearn/base.py:439: UserWarning: X does not have valid feature names, but MinMaxScaler was fitted with feature names\n",
            "  warnings.warn(\n"
          ]
        },
        {
          "name": "stdout",
          "output_type": "stream",
          "text": [
            "1/1 [==============================] - 1s 614ms/step\n",
            "1/1 [==============================] - 0s 25ms/step\n",
            "1/1 [==============================] - 0s 31ms/step\n"
          ]
        },
        {
          "name": "stderr",
          "output_type": "stream",
          "text": [
            "/usr/local/lib/python3.10/dist-packages/sklearn/base.py:439: UserWarning: X does not have valid feature names, but MinMaxScaler was fitted with feature names\n",
            "  warnings.warn(\n",
            "/usr/local/lib/python3.10/dist-packages/sklearn/base.py:439: UserWarning: X does not have valid feature names, but MinMaxScaler was fitted with feature names\n",
            "  warnings.warn(\n",
            "/usr/local/lib/python3.10/dist-packages/sklearn/base.py:439: UserWarning: X does not have valid feature names, but MinMaxScaler was fitted with feature names\n",
            "  warnings.warn(\n"
          ]
        },
        {
          "name": "stdout",
          "output_type": "stream",
          "text": [
            "1/1 [==============================] - 0s 35ms/step\n",
            "1/1 [==============================] - 0s 20ms/step\n",
            "1/1 [==============================] - 0s 18ms/step\n"
          ]
        },
        {
          "name": "stderr",
          "output_type": "stream",
          "text": [
            "/usr/local/lib/python3.10/dist-packages/sklearn/base.py:439: UserWarning: X does not have valid feature names, but MinMaxScaler was fitted with feature names\n",
            "  warnings.warn(\n",
            "/usr/local/lib/python3.10/dist-packages/sklearn/base.py:439: UserWarning: X does not have valid feature names, but MinMaxScaler was fitted with feature names\n",
            "  warnings.warn(\n",
            "/usr/local/lib/python3.10/dist-packages/sklearn/base.py:439: UserWarning: X does not have valid feature names, but MinMaxScaler was fitted with feature names\n",
            "  warnings.warn(\n"
          ]
        },
        {
          "name": "stdout",
          "output_type": "stream",
          "text": [
            "1/1 [==============================] - 0s 36ms/step\n",
            "1/1 [==============================] - 0s 31ms/step\n",
            "1/1 [==============================] - 0s 26ms/step\n"
          ]
        },
        {
          "name": "stderr",
          "output_type": "stream",
          "text": [
            "/usr/local/lib/python3.10/dist-packages/sklearn/base.py:439: UserWarning: X does not have valid feature names, but MinMaxScaler was fitted with feature names\n",
            "  warnings.warn(\n",
            "/usr/local/lib/python3.10/dist-packages/sklearn/base.py:439: UserWarning: X does not have valid feature names, but MinMaxScaler was fitted with feature names\n",
            "  warnings.warn(\n",
            "/usr/local/lib/python3.10/dist-packages/sklearn/base.py:439: UserWarning: X does not have valid feature names, but MinMaxScaler was fitted with feature names\n",
            "  warnings.warn(\n"
          ]
        },
        {
          "name": "stdout",
          "output_type": "stream",
          "text": [
            "1/1 [==============================] - 0s 16ms/step\n",
            "1/1 [==============================] - 0s 16ms/step\n",
            "1/1 [==============================] - 0s 17ms/step\n",
            "1/1 [==============================] - 0s 17ms/step\n"
          ]
        },
        {
          "name": "stderr",
          "output_type": "stream",
          "text": [
            "/usr/local/lib/python3.10/dist-packages/sklearn/base.py:439: UserWarning: X does not have valid feature names, but MinMaxScaler was fitted with feature names\n",
            "  warnings.warn(\n",
            "/usr/local/lib/python3.10/dist-packages/sklearn/base.py:439: UserWarning: X does not have valid feature names, but MinMaxScaler was fitted with feature names\n",
            "  warnings.warn(\n",
            "/usr/local/lib/python3.10/dist-packages/sklearn/base.py:439: UserWarning: X does not have valid feature names, but MinMaxScaler was fitted with feature names\n",
            "  warnings.warn(\n",
            "/usr/local/lib/python3.10/dist-packages/sklearn/base.py:439: UserWarning: X does not have valid feature names, but MinMaxScaler was fitted with feature names\n",
            "  warnings.warn(\n"
          ]
        },
        {
          "name": "stdout",
          "output_type": "stream",
          "text": [
            "1/1 [==============================] - 0s 16ms/step\n",
            "1/1 [==============================] - 0s 16ms/step\n",
            "1/1 [==============================] - 0s 19ms/step\n",
            "1/1 [==============================] - 0s 16ms/step\n"
          ]
        },
        {
          "name": "stderr",
          "output_type": "stream",
          "text": [
            "/usr/local/lib/python3.10/dist-packages/sklearn/base.py:439: UserWarning: X does not have valid feature names, but MinMaxScaler was fitted with feature names\n",
            "  warnings.warn(\n",
            "/usr/local/lib/python3.10/dist-packages/sklearn/base.py:439: UserWarning: X does not have valid feature names, but MinMaxScaler was fitted with feature names\n",
            "  warnings.warn(\n",
            "/usr/local/lib/python3.10/dist-packages/sklearn/base.py:439: UserWarning: X does not have valid feature names, but MinMaxScaler was fitted with feature names\n",
            "  warnings.warn(\n",
            "/usr/local/lib/python3.10/dist-packages/sklearn/base.py:439: UserWarning: X does not have valid feature names, but MinMaxScaler was fitted with feature names\n",
            "  warnings.warn(\n"
          ]
        },
        {
          "name": "stdout",
          "output_type": "stream",
          "text": [
            "1/1 [==============================] - 0s 18ms/step\n",
            "1/1 [==============================] - 0s 52ms/step\n"
          ]
        },
        {
          "name": "stderr",
          "output_type": "stream",
          "text": [
            "/usr/local/lib/python3.10/dist-packages/sklearn/base.py:439: UserWarning: X does not have valid feature names, but MinMaxScaler was fitted with feature names\n",
            "  warnings.warn(\n",
            "/usr/local/lib/python3.10/dist-packages/sklearn/base.py:439: UserWarning: X does not have valid feature names, but MinMaxScaler was fitted with feature names\n",
            "  warnings.warn(\n"
          ]
        },
        {
          "name": "stdout",
          "output_type": "stream",
          "text": [
            "1/1 [==============================] - 0s 31ms/step\n",
            "1/1 [==============================] - 0s 30ms/step\n",
            "1/1 [==============================] - 0s 25ms/step\n"
          ]
        },
        {
          "name": "stderr",
          "output_type": "stream",
          "text": [
            "/usr/local/lib/python3.10/dist-packages/sklearn/base.py:439: UserWarning: X does not have valid feature names, but MinMaxScaler was fitted with feature names\n",
            "  warnings.warn(\n",
            "/usr/local/lib/python3.10/dist-packages/sklearn/base.py:439: UserWarning: X does not have valid feature names, but MinMaxScaler was fitted with feature names\n",
            "  warnings.warn(\n",
            "/usr/local/lib/python3.10/dist-packages/sklearn/base.py:439: UserWarning: X does not have valid feature names, but MinMaxScaler was fitted with feature names\n",
            "  warnings.warn(\n"
          ]
        },
        {
          "name": "stdout",
          "output_type": "stream",
          "text": [
            "1/1 [==============================] - 0s 34ms/step\n",
            "1/1 [==============================] - 0s 28ms/step\n",
            "     max_temp\n",
            "0   14.652102\n",
            "1   14.923935\n",
            "2   13.789775\n",
            "3   13.761680\n",
            "4   14.964414\n",
            "5   14.383935\n",
            "6   14.627526\n",
            "7   13.607161\n",
            "8   12.180998\n",
            "9   14.055285\n",
            "10  16.644112\n",
            "11  18.686264\n",
            "12  15.792947\n",
            "13  11.999062\n",
            "14   9.910679\n",
            "15   9.998198\n",
            "16  11.454412\n",
            "17  10.599772\n",
            "18  11.716050\n",
            "19  15.135284\n",
            "20  11.988761\n",
            "21   9.562460\n",
            "22  12.604573\n",
            "23  15.899582\n"
          ]
        },
        {
          "name": "stderr",
          "output_type": "stream",
          "text": [
            "/usr/local/lib/python3.10/dist-packages/sklearn/base.py:439: UserWarning: X does not have valid feature names, but MinMaxScaler was fitted with feature names\n",
            "  warnings.warn(\n"
          ]
        }
      ],
      "source": [
        "import numpy as np\n",
        "# Iterate over each row in hourly_dataframe\n",
        "for index, row in hourly_dataframe.iterrows():\n",
        "    # input_data = np.array([[row['relative_humidity_2m'],\n",
        "    #                         row['precipitation'],\n",
        "    #                         row['rain'],\n",
        "    #                         row['snowfall'],\n",
        "    #                         row['wind_speed_10m'],\n",
        "    #                         row['wind_gusts_10m']]])\n",
        "    relative_humidity_2m = row['relative_humidity_2m']\n",
        "    precipitation = row['precipitation']\n",
        "    rain = row['rain']\n",
        "    snowfall = row['snowfall']\n",
        "    wind_speed_10m = row['wind_speed_10m']\n",
        "    wind_gusts_10m = row['wind_gusts_10m']\n",
        "\n",
        "    input_data = np.array([[relative_humidity_2m, precipitation, rain, snowfall, wind_speed_10m, wind_gusts_10m]])\n",
        "    scale_input = scaler_x.transform(input_data)\n",
        "    reshaped_input_data = scale_input.reshape((scale_input.shape[0], 1, scale_input.shape[1]))\n",
        "    predicted_output = model_lstm.predict(reshaped_input_data)\n",
        "    predicted_output = scaler_y.inverse_transform(predicted_output)\n",
        "    output.at[index, 'max_temp'] = predicted_output[0][0]\n",
        "print(output)\n"
      ]
    },
    {
      "cell_type": "code",
      "execution_count": null,
      "metadata": {
        "colab": {
          "base_uri": "https://localhost:8080/"
        },
        "id": "Jhg7vsIt0FQp",
        "outputId": "1225464d-0d7d-40ac-a144-99fbc418d9e8"
      },
      "outputs": [
        {
          "name": "stdout",
          "output_type": "stream",
          "text": [
            "Epoch 1/60\n",
            "2192/2192 [==============================] - 12s 4ms/step - loss: 0.0389\n",
            "Epoch 2/60\n",
            "2192/2192 [==============================] - 9s 4ms/step - loss: 0.0307\n",
            "Epoch 3/60\n",
            "2192/2192 [==============================] - 9s 4ms/step - loss: 0.0304\n",
            "Epoch 4/60\n",
            "2192/2192 [==============================] - 8s 4ms/step - loss: 0.0302\n",
            "Epoch 5/60\n",
            "2192/2192 [==============================] - 9s 4ms/step - loss: 0.0301\n",
            "Epoch 6/60\n",
            "2192/2192 [==============================] - 9s 4ms/step - loss: 0.0300\n",
            "Epoch 7/60\n",
            "2192/2192 [==============================] - 8s 4ms/step - loss: 0.0300\n",
            "Epoch 8/60\n",
            "2192/2192 [==============================] - 9s 4ms/step - loss: 0.0300\n",
            "Epoch 9/60\n",
            "2192/2192 [==============================] - 9s 4ms/step - loss: 0.0300\n",
            "Epoch 10/60\n",
            "2192/2192 [==============================] - 9s 4ms/step - loss: 0.0299\n",
            "Epoch 11/60\n",
            "2192/2192 [==============================] - 8s 4ms/step - loss: 0.0299\n",
            "Epoch 12/60\n",
            "2192/2192 [==============================] - 9s 4ms/step - loss: 0.0298\n",
            "Epoch 13/60\n",
            "2192/2192 [==============================] - 9s 4ms/step - loss: 0.0297\n",
            "Epoch 14/60\n",
            "2192/2192 [==============================] - 8s 4ms/step - loss: 0.0296\n",
            "Epoch 15/60\n",
            "2192/2192 [==============================] - 9s 4ms/step - loss: 0.0295\n",
            "Epoch 16/60\n",
            "2192/2192 [==============================] - 9s 4ms/step - loss: 0.0294\n",
            "Epoch 17/60\n",
            "2192/2192 [==============================] - 10s 5ms/step - loss: 0.0293\n",
            "Epoch 18/60\n",
            "2192/2192 [==============================] - 8s 4ms/step - loss: 0.0293\n",
            "Epoch 19/60\n",
            "2192/2192 [==============================] - 9s 4ms/step - loss: 0.0293\n",
            "Epoch 20/60\n",
            "2192/2192 [==============================] - 9s 4ms/step - loss: 0.0293\n",
            "Epoch 21/60\n",
            "2192/2192 [==============================] - 8s 4ms/step - loss: 0.0293\n",
            "Epoch 22/60\n",
            "2192/2192 [==============================] - 9s 4ms/step - loss: 0.0293\n",
            "Epoch 23/60\n",
            "2192/2192 [==============================] - 9s 4ms/step - loss: 0.0293\n",
            "Epoch 24/60\n",
            "2192/2192 [==============================] - 9s 4ms/step - loss: 0.0292\n",
            "Epoch 25/60\n",
            "2192/2192 [==============================] - 8s 4ms/step - loss: 0.0292\n",
            "Epoch 26/60\n",
            "2192/2192 [==============================] - 9s 4ms/step - loss: 0.0292\n",
            "Epoch 27/60\n",
            "2192/2192 [==============================] - 9s 4ms/step - loss: 0.0292\n",
            "Epoch 28/60\n",
            "2192/2192 [==============================] - 8s 4ms/step - loss: 0.0292\n",
            "Epoch 29/60\n",
            "2192/2192 [==============================] - 9s 4ms/step - loss: 0.0292\n",
            "Epoch 30/60\n",
            "2192/2192 [==============================] - 9s 4ms/step - loss: 0.0292\n",
            "Epoch 31/60\n",
            "2192/2192 [==============================] - 8s 4ms/step - loss: 0.0292\n",
            "Epoch 32/60\n",
            "2192/2192 [==============================] - 8s 4ms/step - loss: 0.0292\n",
            "Epoch 33/60\n",
            "2192/2192 [==============================] - 9s 4ms/step - loss: 0.0293\n",
            "Epoch 34/60\n",
            "2192/2192 [==============================] - 9s 4ms/step - loss: 0.0292\n",
            "Epoch 35/60\n",
            "2192/2192 [==============================] - 8s 4ms/step - loss: 0.0292\n",
            "Epoch 36/60\n",
            "2192/2192 [==============================] - 9s 4ms/step - loss: 0.0292\n",
            "Epoch 37/60\n",
            "2192/2192 [==============================] - 9s 4ms/step - loss: 0.0292\n",
            "Epoch 38/60\n",
            "2192/2192 [==============================] - 8s 4ms/step - loss: 0.0292\n",
            "Epoch 39/60\n",
            "2192/2192 [==============================] - 8s 4ms/step - loss: 0.0292\n",
            "Epoch 40/60\n",
            "2192/2192 [==============================] - 9s 4ms/step - loss: 0.0292\n",
            "Epoch 41/60\n",
            "2192/2192 [==============================] - 9s 4ms/step - loss: 0.0292\n",
            "Epoch 42/60\n",
            "2192/2192 [==============================] - 8s 4ms/step - loss: 0.0292\n",
            "Epoch 43/60\n",
            "2192/2192 [==============================] - 9s 4ms/step - loss: 0.0292\n",
            "Epoch 44/60\n",
            "2192/2192 [==============================] - 9s 4ms/step - loss: 0.0292\n",
            "Epoch 45/60\n",
            "2192/2192 [==============================] - 8s 4ms/step - loss: 0.0292\n",
            "Epoch 46/60\n",
            "2192/2192 [==============================] - 8s 4ms/step - loss: 0.0292\n",
            "Epoch 47/60\n",
            "2192/2192 [==============================] - 9s 4ms/step - loss: 0.0292\n",
            "Epoch 48/60\n",
            "2192/2192 [==============================] - 9s 4ms/step - loss: 0.0292\n",
            "Epoch 49/60\n",
            "2192/2192 [==============================] - 8s 4ms/step - loss: 0.0292\n",
            "Epoch 50/60\n",
            "2192/2192 [==============================] - 9s 4ms/step - loss: 0.0292\n",
            "Epoch 51/60\n",
            "2192/2192 [==============================] - 9s 4ms/step - loss: 0.0292\n",
            "Epoch 52/60\n",
            "2192/2192 [==============================] - 8s 4ms/step - loss: 0.0292\n",
            "Epoch 53/60\n",
            "2192/2192 [==============================] - 9s 4ms/step - loss: 0.0292\n",
            "Epoch 54/60\n",
            "2192/2192 [==============================] - 9s 4ms/step - loss: 0.0292\n",
            "Epoch 55/60\n",
            "2192/2192 [==============================] - 9s 4ms/step - loss: 0.0292\n",
            "Epoch 56/60\n",
            "2192/2192 [==============================] - 8s 4ms/step - loss: 0.0292\n",
            "Epoch 57/60\n",
            "2192/2192 [==============================] - 9s 4ms/step - loss: 0.0292\n",
            "Epoch 58/60\n",
            "2192/2192 [==============================] - 9s 4ms/step - loss: 0.0292\n",
            "Epoch 59/60\n",
            "2192/2192 [==============================] - 8s 4ms/step - loss: 0.0292\n",
            "Epoch 60/60\n",
            "2192/2192 [==============================] - 9s 4ms/step - loss: 0.0292\n",
            "548/548 [==============================] - 2s 2ms/step - loss: 0.0283\n",
            "Mean Squared Error (LSTM): 0.028324568644165993\n"
          ]
        }
      ],
      "source": [
        "from tensorflow.keras.layers import Dropout\n",
        "from tensorflow.keras import regularizers\n",
        "\n",
        "model_lstm = Sequential()\n",
        "model_lstm.add(LSTM(50,\n",
        "                    input_shape=(X_train.shape[1], X_train.shape[2]),\n",
        "                    kernel_regularizer=regularizers.l2(0.01)))\n",
        "model_lstm.add(Dropout(0.2))\n",
        "model_lstm.add(Dense(1))\n",
        "model_lstm.compile(optimizer='adam', loss='mse')\n",
        "\n",
        "model_lstm.fit(X_train, y_train, epochs=60, batch_size=32, verbose=1)\n",
        "mse_lstm = model_lstm.evaluate(X_test, y_test)\n",
        "print(\"Mean Squared Error (LSTM):\", mse_lstm)"
      ]
    },
    {
      "cell_type": "code",
      "execution_count": null,
      "metadata": {
        "colab": {
          "base_uri": "https://localhost:8080/"
        },
        "id": "cP4Y6RJ9HbUJ",
        "outputId": "9f23d438-4103-49c2-c772-1cffeb186808"
      },
      "outputs": [
        {
          "name": "stdout",
          "output_type": "stream",
          "text": [
            "1/1 [==============================] - 0s 18ms/step\n",
            "1/1 [==============================] - 0s 16ms/step\n",
            "1/1 [==============================] - 0s 18ms/step\n"
          ]
        },
        {
          "name": "stderr",
          "output_type": "stream",
          "text": [
            "/usr/local/lib/python3.10/dist-packages/sklearn/base.py:439: UserWarning: X does not have valid feature names, but MinMaxScaler was fitted with feature names\n",
            "  warnings.warn(\n",
            "/usr/local/lib/python3.10/dist-packages/sklearn/base.py:439: UserWarning: X does not have valid feature names, but MinMaxScaler was fitted with feature names\n",
            "  warnings.warn(\n",
            "/usr/local/lib/python3.10/dist-packages/sklearn/base.py:439: UserWarning: X does not have valid feature names, but MinMaxScaler was fitted with feature names\n",
            "  warnings.warn(\n",
            "/usr/local/lib/python3.10/dist-packages/sklearn/base.py:439: UserWarning: X does not have valid feature names, but MinMaxScaler was fitted with feature names\n",
            "  warnings.warn(\n"
          ]
        },
        {
          "name": "stdout",
          "output_type": "stream",
          "text": [
            "1/1 [==============================] - 0s 17ms/step\n",
            "1/1 [==============================] - 0s 17ms/step\n",
            "1/1 [==============================] - 0s 16ms/step\n",
            "1/1 [==============================] - 0s 16ms/step\n"
          ]
        },
        {
          "name": "stderr",
          "output_type": "stream",
          "text": [
            "/usr/local/lib/python3.10/dist-packages/sklearn/base.py:439: UserWarning: X does not have valid feature names, but MinMaxScaler was fitted with feature names\n",
            "  warnings.warn(\n",
            "/usr/local/lib/python3.10/dist-packages/sklearn/base.py:439: UserWarning: X does not have valid feature names, but MinMaxScaler was fitted with feature names\n",
            "  warnings.warn(\n",
            "/usr/local/lib/python3.10/dist-packages/sklearn/base.py:439: UserWarning: X does not have valid feature names, but MinMaxScaler was fitted with feature names\n",
            "  warnings.warn(\n",
            "/usr/local/lib/python3.10/dist-packages/sklearn/base.py:439: UserWarning: X does not have valid feature names, but MinMaxScaler was fitted with feature names\n",
            "  warnings.warn(\n"
          ]
        },
        {
          "name": "stdout",
          "output_type": "stream",
          "text": [
            "1/1 [==============================] - 0s 19ms/step\n",
            "1/1 [==============================] - 0s 17ms/step\n",
            "1/1 [==============================] - 0s 16ms/step\n",
            "1/1 [==============================] - ETA: 0s"
          ]
        },
        {
          "name": "stderr",
          "output_type": "stream",
          "text": [
            "/usr/local/lib/python3.10/dist-packages/sklearn/base.py:439: UserWarning: X does not have valid feature names, but MinMaxScaler was fitted with feature names\n",
            "  warnings.warn(\n",
            "/usr/local/lib/python3.10/dist-packages/sklearn/base.py:439: UserWarning: X does not have valid feature names, but MinMaxScaler was fitted with feature names\n",
            "  warnings.warn(\n",
            "/usr/local/lib/python3.10/dist-packages/sklearn/base.py:439: UserWarning: X does not have valid feature names, but MinMaxScaler was fitted with feature names\n",
            "  warnings.warn(\n"
          ]
        },
        {
          "name": "stdout",
          "output_type": "stream",
          "text": [
            "1/1 [==============================] - 0s 45ms/step\n",
            "1/1 [==============================] - 0s 31ms/step\n"
          ]
        },
        {
          "name": "stderr",
          "output_type": "stream",
          "text": [
            "/usr/local/lib/python3.10/dist-packages/sklearn/base.py:439: UserWarning: X does not have valid feature names, but MinMaxScaler was fitted with feature names\n",
            "  warnings.warn(\n",
            "/usr/local/lib/python3.10/dist-packages/sklearn/base.py:439: UserWarning: X does not have valid feature names, but MinMaxScaler was fitted with feature names\n",
            "  warnings.warn(\n"
          ]
        },
        {
          "name": "stdout",
          "output_type": "stream",
          "text": [
            "1/1 [==============================] - 0s 30ms/step\n",
            "1/1 [==============================] - 0s 32ms/step\n",
            "1/1 [==============================] - 0s 37ms/step\n"
          ]
        },
        {
          "name": "stderr",
          "output_type": "stream",
          "text": [
            "/usr/local/lib/python3.10/dist-packages/sklearn/base.py:439: UserWarning: X does not have valid feature names, but MinMaxScaler was fitted with feature names\n",
            "  warnings.warn(\n",
            "/usr/local/lib/python3.10/dist-packages/sklearn/base.py:439: UserWarning: X does not have valid feature names, but MinMaxScaler was fitted with feature names\n",
            "  warnings.warn(\n"
          ]
        },
        {
          "name": "stdout",
          "output_type": "stream",
          "text": [
            "1/1 [==============================] - 0s 27ms/step\n"
          ]
        },
        {
          "name": "stderr",
          "output_type": "stream",
          "text": [
            "/usr/local/lib/python3.10/dist-packages/sklearn/base.py:439: UserWarning: X does not have valid feature names, but MinMaxScaler was fitted with feature names\n",
            "  warnings.warn(\n",
            "/usr/local/lib/python3.10/dist-packages/sklearn/base.py:439: UserWarning: X does not have valid feature names, but MinMaxScaler was fitted with feature names\n",
            "  warnings.warn(\n"
          ]
        },
        {
          "name": "stdout",
          "output_type": "stream",
          "text": [
            "1/1 [==============================] - 0s 38ms/step\n",
            "1/1 [==============================] - 0s 31ms/step\n",
            "1/1 [==============================] - 0s 31ms/step\n"
          ]
        },
        {
          "name": "stderr",
          "output_type": "stream",
          "text": [
            "/usr/local/lib/python3.10/dist-packages/sklearn/base.py:439: UserWarning: X does not have valid feature names, but MinMaxScaler was fitted with feature names\n",
            "  warnings.warn(\n",
            "/usr/local/lib/python3.10/dist-packages/sklearn/base.py:439: UserWarning: X does not have valid feature names, but MinMaxScaler was fitted with feature names\n",
            "  warnings.warn(\n"
          ]
        },
        {
          "name": "stdout",
          "output_type": "stream",
          "text": [
            "1/1 [==============================] - 0s 25ms/step\n"
          ]
        },
        {
          "name": "stderr",
          "output_type": "stream",
          "text": [
            "/usr/local/lib/python3.10/dist-packages/sklearn/base.py:439: UserWarning: X does not have valid feature names, but MinMaxScaler was fitted with feature names\n",
            "  warnings.warn(\n",
            "/usr/local/lib/python3.10/dist-packages/sklearn/base.py:439: UserWarning: X does not have valid feature names, but MinMaxScaler was fitted with feature names\n",
            "  warnings.warn(\n"
          ]
        },
        {
          "name": "stdout",
          "output_type": "stream",
          "text": [
            "1/1 [==============================] - 0s 44ms/step\n",
            "1/1 [==============================] - 0s 28ms/step\n"
          ]
        },
        {
          "name": "stderr",
          "output_type": "stream",
          "text": [
            "/usr/local/lib/python3.10/dist-packages/sklearn/base.py:439: UserWarning: X does not have valid feature names, but MinMaxScaler was fitted with feature names\n",
            "  warnings.warn(\n",
            "/usr/local/lib/python3.10/dist-packages/sklearn/base.py:439: UserWarning: X does not have valid feature names, but MinMaxScaler was fitted with feature names\n",
            "  warnings.warn(\n"
          ]
        },
        {
          "name": "stdout",
          "output_type": "stream",
          "text": [
            "1/1 [==============================] - 0s 30ms/step\n",
            "1/1 [==============================] - 0s 50ms/step\n",
            "     max_temp\n",
            "0   12.905715\n",
            "1   13.568827\n",
            "2   12.990968\n",
            "3   12.876087\n",
            "4   12.754629\n",
            "5   12.878869\n",
            "6   12.954056\n",
            "7   12.854874\n",
            "8   12.700337\n",
            "9   12.871166\n",
            "10  13.558651\n",
            "11  12.906552\n",
            "12  11.569430\n",
            "13  15.099131\n",
            "14  13.860951\n",
            "15  13.254443\n",
            "16  13.473852\n",
            "17  14.535392\n",
            "18  14.169692\n",
            "19  15.280593\n",
            "20  12.462420\n",
            "21  12.374919\n",
            "22  12.556132\n",
            "23  12.755456\n"
          ]
        },
        {
          "name": "stderr",
          "output_type": "stream",
          "text": [
            "/usr/local/lib/python3.10/dist-packages/sklearn/base.py:439: UserWarning: X does not have valid feature names, but MinMaxScaler was fitted with feature names\n",
            "  warnings.warn(\n"
          ]
        }
      ],
      "source": [
        "import numpy as np\n",
        "# Iterate over each row in hourly_dataframe\n",
        "for index, row in hourly_dataframe.iterrows():\n",
        "\n",
        "    relative_humidity_2m = row['relative_humidity_2m']\n",
        "    precipitation = row['precipitation']\n",
        "    rain = row['rain']\n",
        "    snowfall = row['snowfall']\n",
        "    wind_speed_10m = row['wind_speed_10m']\n",
        "    wind_gusts_10m = row['wind_gusts_10m']\n",
        "\n",
        "    input_data = np.array([[relative_humidity_2m, precipitation, rain, snowfall, wind_speed_10m, wind_gusts_10m]])\n",
        "    scale_input = scaler_x.transform(input_data)\n",
        "    reshaped_input_data = scale_input.reshape((scale_input.shape[0], 1, scale_input.shape[1]))\n",
        "    predicted_output = model_lstm.predict(reshaped_input_data)\n",
        "    predicted_output = scaler_y.inverse_transform(predicted_output)\n",
        "    output.at[index, 'max_temp'] = predicted_output[0][0]\n",
        "print(output)\n"
      ]
    },
    {
      "cell_type": "markdown",
      "metadata": {
        "id": "9WKIxzNh0klM"
      },
      "source": [
        "Here We take the max value of the temperature we obtained from our prediction"
      ]
    },
    {
      "cell_type": "code",
      "execution_count": null,
      "metadata": {
        "id": "XBucnPBO0eXM"
      },
      "outputs": [],
      "source": [
        "max_temp_max = output['max_temp'].max()"
      ]
    },
    {
      "cell_type": "markdown",
      "metadata": {
        "id": "-T3om3dBYOKm"
      },
      "source": [
        "The next cell is the actual max temp recorded today obtained from the weather api"
      ]
    },
    {
      "cell_type": "code",
      "execution_count": null,
      "metadata": {
        "colab": {
          "base_uri": "https://localhost:8080/"
        },
        "id": "RtQqrPU8NzsC",
        "outputId": "ff5a5d2f-dfac-4ed5-8d39-bbc28a173a19"
      },
      "outputs": [
        {
          "data": {
            "text/plain": [
              "14.445499"
            ]
          },
          "execution_count": 36,
          "metadata": {},
          "output_type": "execute_result"
        }
      ],
      "source": [
        "daily_dataframe.temperature_2m_max[0]"
      ]
    },
    {
      "cell_type": "code",
      "execution_count": null,
      "metadata": {
        "colab": {
          "base_uri": "https://localhost:8080/"
        },
        "id": "NHvj782MOCdp",
        "outputId": "d6fd3706-a159-4d47-e48d-efb4e2e5247f"
      },
      "outputs": [
        {
          "name": "stdout",
          "output_type": "stream",
          "text": [
            "Offset_temp in Celsius is 0.8350934982299805\n",
            "Offset Temp in Farenheit is 1.5031682968139606\n"
          ]
        }
      ],
      "source": [
        "a=daily_dataframe.temperature_2m_max[0]\n",
        "a=(a*9/5)+32\n",
        "b=max_temp_max\n",
        "c=(max_temp_max*9/5)+32\n",
        "Offset_temp = max_temp_max-daily_dataframe.temperature_2m_max[0]\n",
        "print(\"Offset_temp in Celsius is\",b-daily_dataframe.temperature_2m_max[0])\n",
        "print(\"Offset Temp in Farenheit is\",c-a)"
      ]
    },
    {
      "cell_type": "markdown",
      "metadata": {
        "id": "_qc-uLnBPRVV"
      },
      "source": [
        " **Offset Temp mean how off the predicted values are from the actual values*"
      ]
    },
    {
      "cell_type": "code",
      "execution_count": null,
      "metadata": {
        "colab": {
          "base_uri": "https://localhost:8080/"
        },
        "id": "f7vHkABNGodn",
        "outputId": "a903b71c-651a-49fa-d930-d45e92b9ec7d"
      },
      "outputs": [
        {
          "name": "stdout",
          "output_type": "stream",
          "text": [
            "15.280592918395996 This is in Degree Celsius(Predicted)\n",
            "59.50506725311279 This is in Farenheit(Predicted)\n"
          ]
        }
      ],
      "source": [
        "print(max_temp_max,\"This is in Degree Celsius(Predicted)\")\n",
        "max_temp_max=(max_temp_max * 9/5) + 32\n",
        "print(max_temp_max,\"This is in Farenheit(Predicted)\")"
      ]
    },
    {
      "cell_type": "code",
      "execution_count": null,
      "metadata": {
        "colab": {
          "base_uri": "https://localhost:8080/"
        },
        "id": "_sVhHbsoSvHQ",
        "outputId": "91d47843-c5cf-479c-d9e5-e6bfaf31a7cb"
      },
      "outputs": [
        {
          "name": "stdout",
          "output_type": "stream",
          "text": [
            "Value saved to /content/max_temp_max.json\n"
          ]
        }
      ],
      "source": [
        "import json\n",
        "data = {'max_temp_max': max_temp_max}\n",
        "file_path = '/content/max_temp_max.json'\n",
        "with open(file_path, 'w') as json_file:\n",
        "    json.dump(data, json_file)\n",
        "\n",
        "print(\"Value saved to\", file_path)\n"
      ]
    },
    {
      "cell_type": "code",
      "execution_count": null,
      "metadata": {
        "colab": {
          "base_uri": "https://localhost:8080/",
          "height": 1000
        },
        "id": "DSKX52yhUXtt",
        "outputId": "c62544e8-b23b-4943-db78-ce628b79ad36"
      },
      "outputs": [
        {
          "data": {
            "image/png": "[encoded data removed]",
            "text/plain": [
              "<Figure size 1000x600 with 1 Axes>"
            ]
          },
          "metadata": {},
          "output_type": "display_data"
        },
        {
          "data": {
            "image/png": "[encoded data removed]",
            "text/plain": [
              "<Figure size 1000x600 with 1 Axes>"
            ]
          },
          "metadata": {},
          "output_type": "display_data"
        },
        {
          "name": "stdout",
          "output_type": "stream",
          "text": [
            "Mean Absolute Error (MAE): 1.69989009698232\n"
          ]
        }
      ],
      "source": [
        "import matplotlib.pyplot as plt\n",
        "\n",
        "plt.figure(figsize=(10, 6))\n",
        "plt.plot(hourly_dataframe.index, hourly_dataframe['temperature_2m'], label='Actual Temperature', color='blue')\n",
        "plt.plot(hourly_dataframe.index, output['max_temp'], label='Predicted Temperature', color='red')\n",
        "plt.xlabel('Time')\n",
        "plt.ylabel('Temperature (°C)')\n",
        "plt.title('Actual vs Predicted Temperature')\n",
        "plt.legend()\n",
        "plt.show()\n",
        "\n",
        "residuals = output['max_temp'] - hourly_dataframe['temperature_2m']\n",
        "\n",
        "plt.figure(figsize=(10, 6))\n",
        "plt.plot(hourly_dataframe.index, residuals, color='green')\n",
        "plt.xlabel('Time')\n",
        "plt.ylabel('Residuals')\n",
        "plt.title('Residual Plot')\n",
        "plt.axhline(y=0, color='black', linestyle='--')\n",
        "plt.show()\n",
        "\n",
        "\n",
        "mae = np.mean(np.abs(residuals))\n",
        "\n",
        "print(\"Mean Absolute Error (MAE):\", mae)\n"
      ]
    },
    {
      "cell_type": "code",
      "execution_count": null,
      "metadata": {
        "colab": {
          "base_uri": "https://localhost:8080/",
          "height": 564
        },
        "id": "-Y1jcRw5Vlg4",
        "outputId": "dae26705-8c29-42ea-dd67-f5e29adf8d6a"
      },
      "outputs": [
        {
          "data": {
            "image/png": "[encoded data removed]",
            "text/plain": [
              "<Figure size 1000x600 with 1 Axes>"
            ]
          },
          "metadata": {},
          "output_type": "display_data"
        }
      ],
      "source": [
        "import scipy.stats as stats\n",
        "\n",
        "plt.figure(figsize=(10, 6))\n",
        "stats.probplot(residuals, dist=\"norm\", plot=plt)\n",
        "plt.title('Q-Q Plot of Residuals')\n",
        "plt.show()\n"
      ]
    },
    {
      "cell_type": "code",
      "execution_count": null,
      "metadata": {
        "colab": {
          "base_uri": "https://localhost:8080/"
        },
        "id": "OlsR9sYYV9XQ",
        "outputId": "56bc9af3-096e-4ab2-fc82-75d59086a048"
      },
      "outputs": [
        {
          "name": "stdout",
          "output_type": "stream",
          "text": [
            "Correlation Coefficient: 0.3644773043667267\n"
          ]
        }
      ],
      "source": [
        "correlation_coefficient = np.corrcoef(hourly_dataframe['temperature_2m'], output['max_temp'])[0, 1]\n",
        "print(\"Correlation Coefficient:\", correlation_coefficient)"
      ]
    },
    {
      "cell_type": "markdown",
      "metadata": {
        "id": "eos6ZuY-WHY6"
      },
      "source": [
        "Correlation Coefficient: 0.3644773043667267 implies a moderate correlation."
      ]
    },
    {
      "cell_type": "code",
      "execution_count": null,
      "metadata": {
        "colab": {
          "base_uri": "https://localhost:8080/",
          "height": 564
        },
        "id": "j5DzSVfQWmZB",
        "outputId": "722ee96b-2b0e-4f6f-c6bc-05e82c5f1dca"
      },
      "outputs": [
        {
          "data": {
            "image/png": "[encoded data removed]",
            "text/plain": [
              "<Figure size 1000x600 with 1 Axes>"
            ]
          },
          "metadata": {},
          "output_type": "display_data"
        }
      ],
      "source": [
        "plt.figure(figsize=(10, 6))\n",
        "plt.hist(hourly_dataframe['temperature_2m'], bins=20, color='blue', edgecolor='black')\n",
        "plt.xlabel('Temperature (°C)')\n",
        "plt.ylabel('Frequency')\n",
        "plt.title('Distribution of Temperature Data')\n",
        "plt.show()\n"
      ]
    }
  ],
  "metadata": {
    "accelerator": "GPU",
    "colab": {
      "gpuType": "T4",
      "provenance": []
    },
    "kernelspec": {
      "display_name": "Python 3",
      "name": "python3"
    },
    "language_info": {
      "name": "python"
    }
  },
  "nbformat": 4,
  "nbformat_minor": 0
}

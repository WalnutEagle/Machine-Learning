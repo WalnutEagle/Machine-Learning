{
  "cells": [
    {
      "cell_type": "code",
      "execution_count": 1,
      "metadata": {
        "id": "Rh48n1OmnEhU"
      },
      "outputs": [],
      "source": [
        "import pandas as pd\n",
        "data = {'max_temp': []}\n",
        "output = pd.DataFrame(data)"
      ]
    },
    {
      "cell_type": "code",
      "execution_count": 2,
      "metadata": {
        "id": "KdhT94S5nPEB"
      },
      "outputs": [],
      "source": [
        "df = pd.read_csv(r'/content/CHI.csv')"
      ]
    },
    {
      "cell_type": "code",
      "execution_count": 3,
      "metadata": {
        "colab": {
          "base_uri": "https://localhost:8080/"
        },
        "id": "8na3yPiFnR7x",
        "outputId": "31ed67d7-4503-4558-cb46-0fb2dc61cc42"
      },
      "outputs": [
        {
          "name": "stdout",
          "output_type": "stream",
          "text": [
            "Requirement already satisfied: openmeteo-requests in /usr/local/lib/python3.10/dist-packages (1.2.0)\n",
            "Requirement already satisfied: openmeteo-sdk>=1.4.0 in /usr/local/lib/python3.10/dist-packages (from openmeteo-requests) (1.11.3)\n",
            "Requirement already satisfied: requests in /usr/local/lib/python3.10/dist-packages (from openmeteo-requests) (2.31.0)\n",
            "Requirement already satisfied: flatbuffers>=24.0.0 in /usr/local/lib/python3.10/dist-packages (from openmeteo-sdk>=1.4.0->openmeteo-requests) (24.3.25)\n",
            "Requirement already satisfied: charset-normalizer<4,>=2 in /usr/local/lib/python3.10/dist-packages (from requests->openmeteo-requests) (3.3.2)\n",
            "Requirement already satisfied: idna<4,>=2.5 in /usr/local/lib/python3.10/dist-packages (from requests->openmeteo-requests) (3.6)\n",
            "Requirement already satisfied: urllib3<3,>=1.21.1 in /usr/local/lib/python3.10/dist-packages (from requests->openmeteo-requests) (2.0.7)\n",
            "Requirement already satisfied: certifi>=2017.4.17 in /usr/local/lib/python3.10/dist-packages (from requests->openmeteo-requests) (2024.2.2)\n",
            "Requirement already satisfied: requests-cache in /usr/local/lib/python3.10/dist-packages (1.2.0)\n",
            "Requirement already satisfied: retry-requests in /usr/local/lib/python3.10/dist-packages (2.0.0)\n",
            "Requirement already satisfied: numpy in /usr/local/lib/python3.10/dist-packages (1.25.2)\n",
            "Requirement already satisfied: pandas in /usr/local/lib/python3.10/dist-packages (2.0.3)\n",
            "Requirement already satisfied: attrs>=21.2 in /usr/local/lib/python3.10/dist-packages (from requests-cache) (23.2.0)\n",
            "Requirement already satisfied: cattrs>=22.2 in /usr/local/lib/python3.10/dist-packages (from requests-cache) (23.2.3)\n",
            "Requirement already satisfied: platformdirs>=2.5 in /usr/local/lib/python3.10/dist-packages (from requests-cache) (4.2.0)\n",
            "Requirement already satisfied: requests>=2.22 in /usr/local/lib/python3.10/dist-packages (from requests-cache) (2.31.0)\n",
            "Requirement already satisfied: url-normalize>=1.4 in /usr/local/lib/python3.10/dist-packages (from requests-cache) (1.4.3)\n",
            "Requirement already satisfied: urllib3>=1.25.5 in /usr/local/lib/python3.10/dist-packages (from requests-cache) (2.0.7)\n",
            "Requirement already satisfied: python-dateutil>=2.8.2 in /usr/local/lib/python3.10/dist-packages (from pandas) (2.8.2)\n",
            "Requirement already satisfied: pytz>=2020.1 in /usr/local/lib/python3.10/dist-packages (from pandas) (2023.4)\n",
            "Requirement already satisfied: tzdata>=2022.1 in /usr/local/lib/python3.10/dist-packages (from pandas) (2024.1)\n",
            "Requirement already satisfied: exceptiongroup>=1.1.1 in /usr/local/lib/python3.10/dist-packages (from cattrs>=22.2->requests-cache) (1.2.0)\n",
            "Requirement already satisfied: typing-extensions!=4.6.3,>=4.1.0 in /usr/local/lib/python3.10/dist-packages (from cattrs>=22.2->requests-cache) (4.10.0)\n",
            "Requirement already satisfied: six>=1.5 in /usr/local/lib/python3.10/dist-packages (from python-dateutil>=2.8.2->pandas) (1.16.0)\n",
            "Requirement already satisfied: charset-normalizer<4,>=2 in /usr/local/lib/python3.10/dist-packages (from requests>=2.22->requests-cache) (3.3.2)\n",
            "Requirement already satisfied: idna<4,>=2.5 in /usr/local/lib/python3.10/dist-packages (from requests>=2.22->requests-cache) (3.6)\n",
            "Requirement already satisfied: certifi>=2017.4.17 in /usr/local/lib/python3.10/dist-packages (from requests>=2.22->requests-cache) (2024.2.2)\n"
          ]
        }
      ],
      "source": [
        "!pip install openmeteo-requests\n",
        "!pip install requests-cache retry-requests numpy pandas"
      ]
    },
    {
      "cell_type": "code",
      "execution_count": 4,
      "metadata": {
        "colab": {
          "base_uri": "https://localhost:8080/"
        },
        "id": "9Vd0V2hyvcwd",
        "outputId": "15976bde-d2f5-4c6c-a52f-b5147301c026"
      },
      "outputs": [
        {
          "name": "stdout",
          "output_type": "stream",
          "text": [
            "Coordinates 41.85271072387695°N -87.65362548828125°E\n",
            "Elevation 179.0 m asl\n",
            "Timezone None None\n",
            "Timezone difference to GMT+0 0 s\n",
            "                        date  temperature_2m  relative_humidity_2m  \\\n",
            "0  2024-04-04 00:00:00+00:00          2.0695                  93.0   \n",
            "1  2024-04-04 01:00:00+00:00          2.5195                  92.0   \n",
            "2  2024-04-04 02:00:00+00:00          2.7195                  90.0   \n",
            "3  2024-04-04 03:00:00+00:00          2.6695                  95.0   \n",
            "4  2024-04-04 04:00:00+00:00          2.6695                  93.0   \n",
            "5  2024-04-04 05:00:00+00:00          2.2695                  92.0   \n",
            "6  2024-04-04 06:00:00+00:00          2.2195                  90.0   \n",
            "7  2024-04-04 07:00:00+00:00          2.2695                  89.0   \n",
            "8  2024-04-04 08:00:00+00:00          2.5695                  91.0   \n",
            "9  2024-04-04 09:00:00+00:00          2.5195                  92.0   \n",
            "10 2024-04-04 10:00:00+00:00          2.4695                  88.0   \n",
            "11 2024-04-04 11:00:00+00:00          2.2695                  91.0   \n",
            "12 2024-04-04 12:00:00+00:00          2.0195                  90.0   \n",
            "13 2024-04-04 13:00:00+00:00          2.2695                  89.0   \n",
            "14 2024-04-04 14:00:00+00:00          2.5195                  92.0   \n",
            "15 2024-04-04 15:00:00+00:00          2.4695                  93.0   \n",
            "16 2024-04-04 16:00:00+00:00          2.4195                  96.0   \n",
            "17 2024-04-04 17:00:00+00:00          3.2195                  93.0   \n",
            "18 2024-04-04 18:00:00+00:00          3.1695                  98.0   \n",
            "19 2024-04-04 19:00:00+00:00          4.3195                  92.0   \n",
            "20 2024-04-04 20:00:00+00:00          4.0695                  88.0   \n",
            "21 2024-04-04 21:00:00+00:00          4.9695                  83.0   \n",
            "22 2024-04-04 22:00:00+00:00          4.3695                  85.0   \n",
            "23 2024-04-04 23:00:00+00:00          4.4695                  82.0   \n",
            "\n",
            "    precipitation  rain  snowfall  wind_speed_10m  wind_gusts_10m  \n",
            "0             0.7  1.05       0.0       18.626305       41.760002  \n",
            "1             0.4  0.60       0.0       24.144165       42.480000  \n",
            "2             0.0  0.00       0.0       20.275385       46.079998  \n",
            "3             0.0  0.00       0.0       21.068459       46.439999  \n",
            "4             0.0  0.00       0.0       21.638964       45.360001  \n",
            "5             0.0  0.00       0.0       19.093580       48.239998  \n",
            "6             0.0  0.00       0.0       19.174856       50.759998  \n",
            "7             0.0  0.00       0.0       20.945070       44.639996  \n",
            "8             0.0  0.00       0.0       17.208603       42.480000  \n",
            "9             0.0  0.00       0.0       16.575644       37.439999  \n",
            "10            0.0  0.00       0.0       15.038350       32.039997  \n",
            "11            0.0  0.00       0.0       17.786331       28.080000  \n",
            "12            0.0  0.00       0.0       14.973577       28.799999  \n",
            "13            0.0  0.00       0.0       17.782686       31.680000  \n",
            "14            0.0  0.00       0.0       16.831684       31.680000  \n",
            "15            0.0  0.00       0.0       14.400000       31.319998  \n",
            "16            0.7  1.05       0.0       14.689588       29.519999  \n",
            "17            0.4  0.60       0.0       13.493999       27.719999  \n",
            "18            0.7  1.05       0.0       10.805998       24.480000  \n",
            "19            0.0  0.00       0.0       16.179987       30.960001  \n",
            "20            0.0  0.00       0.0       21.629978       38.519997  \n",
            "21            0.0  0.00       0.0       27.466372       46.079998  \n",
            "22            0.0  0.00       0.0       22.545315       49.680000  \n",
            "23            0.0  0.00       0.0       19.255793       43.560001  \n",
            "                       date  temperature_2m_max\n",
            "0 2024-04-04 00:00:00+00:00              4.9695\n"
          ]
        }
      ],
      "source": [
        "import openmeteo_requests\n",
        "import requests_cache\n",
        "import pandas as pd\n",
        "from retry_requests import retry\n",
        "\n",
        "# Setup the Open-Meteo API client with cache and retry on error\n",
        "cache_session = requests_cache.CachedSession('.cache', expire_after = 3600)\n",
        "retry_session = retry(cache_session, retries = 5, backoff_factor = 0.2)\n",
        "openmeteo = openmeteo_requests.Client(session = retry_session)\n",
        "\n",
        "# Make sure all required weather variables are listed here\n",
        "# The order of variables in hourly or daily is important to assign them correctly below\n",
        "url = \"https://api.open-meteo.com/v1/forecast\"\n",
        "params = {\n",
        "\t\"latitude\": 41.85,\n",
        "\t\"longitude\": -87.65,\n",
        "\t\"hourly\": [\"temperature_2m\", \"relative_humidity_2m\", \"precipitation\", \"rain\", \"snowfall\", \"wind_speed_10m\", \"wind_gusts_10m\"],\n",
        "\t\"daily\": \"temperature_2m_max\",\n",
        "\t\"start_date\": \"2024-04-04\",\n",
        "\t\"end_date\": \"2024-04-04\"\n",
        "}\n",
        "responses = openmeteo.weather_api(url, params=params)\n",
        "\n",
        "# Process first location. Add a for-loop for multiple locations or weather models\n",
        "response = responses[0]\n",
        "print(f\"Coordinates {response.Latitude()}°N {response.Longitude()}°E\")\n",
        "print(f\"Elevation {response.Elevation()} m asl\")\n",
        "print(f\"Timezone {response.Timezone()} {response.TimezoneAbbreviation()}\")\n",
        "print(f\"Timezone difference to GMT+0 {response.UtcOffsetSeconds()} s\")\n",
        "\n",
        "# Process hourly data. The order of variables needs to be the same as requested.\n",
        "hourly = response.Hourly()\n",
        "hourly_temperature_2m = hourly.Variables(0).ValuesAsNumpy()\n",
        "hourly_relative_humidity_2m = hourly.Variables(1).ValuesAsNumpy()\n",
        "hourly_precipitation = hourly.Variables(2).ValuesAsNumpy()\n",
        "hourly_rain = hourly.Variables(3).ValuesAsNumpy()\n",
        "hourly_snowfall = hourly.Variables(4).ValuesAsNumpy()\n",
        "hourly_wind_speed_10m = hourly.Variables(5).ValuesAsNumpy()\n",
        "hourly_wind_gusts_10m = hourly.Variables(6).ValuesAsNumpy()\n",
        "\n",
        "hourly_data = {\"date\": pd.date_range(\n",
        "\tstart = pd.to_datetime(hourly.Time(), unit = \"s\", utc = True),\n",
        "\tend = pd.to_datetime(hourly.TimeEnd(), unit = \"s\", utc = True),\n",
        "\tfreq = pd.Timedelta(seconds = hourly.Interval()),\n",
        "\tinclusive = \"left\"\n",
        ")}\n",
        "hourly_data[\"temperature_2m\"] = hourly_temperature_2m\n",
        "hourly_data[\"relative_humidity_2m\"] = hourly_relative_humidity_2m\n",
        "hourly_data[\"precipitation\"] = hourly_precipitation\n",
        "hourly_data[\"rain\"] = hourly_rain\n",
        "hourly_data[\"snowfall\"] = hourly_snowfall\n",
        "hourly_data[\"wind_speed_10m\"] = hourly_wind_speed_10m\n",
        "hourly_data[\"wind_gusts_10m\"] = hourly_wind_gusts_10m\n",
        "\n",
        "hourly_dataframe = pd.DataFrame(data = hourly_data)\n",
        "print(hourly_dataframe)\n",
        "\n",
        "# Process daily data. The order of variables needs to be the same as requested.\n",
        "daily = response.Daily()\n",
        "daily_temperature_2m_max = daily.Variables(0).ValuesAsNumpy()\n",
        "\n",
        "daily_data = {\"date\": pd.date_range(\n",
        "\tstart = pd.to_datetime(daily.Time(), unit = \"s\", utc = True),\n",
        "\tend = pd.to_datetime(daily.TimeEnd(), unit = \"s\", utc = True),\n",
        "\tfreq = pd.Timedelta(seconds = daily.Interval()),\n",
        "\tinclusive = \"left\"\n",
        ")}\n",
        "daily_data[\"temperature_2m_max\"] = daily_temperature_2m_max\n",
        "\n",
        "daily_dataframe = pd.DataFrame(data = daily_data)\n",
        "print(daily_dataframe)"
      ]
    },
    {
      "cell_type": "code",
      "execution_count": 5,
      "metadata": {
        "id": "79rQO2AQrpZw"
      },
      "outputs": [],
      "source": [
        "hourly_dataframe.drop(columns=['date'],inplace=True)"
      ]
    },
    {
      "cell_type": "code",
      "execution_count": 6,
      "metadata": {
        "colab": {
          "base_uri": "https://localhost:8080/"
        },
        "id": "7f-HELgrnOzc",
        "outputId": "ac90622e-27f4-4397-a3f8-2405eb954cc3"
      },
      "outputs": [
        {
          "name": "stdout",
          "output_type": "stream",
          "text": [
            "                            date  temperature_2m  relative_humidity_2m  \\\n",
            "0      2014-01-01 00:00:00+00:00         -9.2935             72.978630   \n",
            "1      2014-01-01 01:00:00+00:00         -9.3435             74.764640   \n",
            "2      2014-01-01 02:00:00+00:00         -9.3435             76.291280   \n",
            "3      2014-01-01 03:00:00+00:00         -9.3435             78.159935   \n",
            "4      2014-01-01 04:00:00+00:00         -9.1935             79.133420   \n",
            "...                          ...             ...                   ...   \n",
            "87667  2024-01-01 19:00:00+00:00          1.3565             60.096527   \n",
            "87668  2024-01-01 20:00:00+00:00          1.3565             59.189873   \n",
            "87669  2024-01-01 21:00:00+00:00          1.1065             58.452694   \n",
            "87670  2024-01-01 22:00:00+00:00          0.1065             66.264175   \n",
            "87671  2024-01-01 23:00:00+00:00         -1.3435             72.540950   \n",
            "\n",
            "       dew_point_2m  precipitation  rain  snowfall  wind_speed_10m  \\\n",
            "0        -13.243500            0.2   0.0      0.14        2.305125   \n",
            "1        -12.993500            0.2   0.0      0.14        3.600000   \n",
            "2        -12.743500            0.3   0.0      0.21        5.315336   \n",
            "3        -12.443500            0.4   0.0      0.28        6.849467   \n",
            "4        -12.143499            0.4   0.0      0.28       10.390226   \n",
            "...             ...            ...   ...       ...             ...   \n",
            "87667     -5.543500            0.0   0.0      0.00       14.512064   \n",
            "87668     -5.743500            0.0   0.0      0.00       14.830076   \n",
            "87669     -6.143500            0.0   0.0      0.00       14.417988   \n",
            "87670     -5.443500            0.0   0.0      0.00       13.339445   \n",
            "87671     -5.643500            0.0   0.0      0.00       12.371645   \n",
            "\n",
            "       wind_speed_100m  wind_gusts_10m  \n",
            "0             2.305125       14.400000  \n",
            "1             3.893995       14.040000  \n",
            "2             6.287130       13.320000  \n",
            "3             8.280000       15.840000  \n",
            "4            13.207634       19.800000  \n",
            "...                ...             ...  \n",
            "87667        17.373497       24.840000  \n",
            "87668        17.698677       25.199999  \n",
            "87669        17.654688       24.480000  \n",
            "87670        19.443333       22.319998  \n",
            "87671        20.598795       18.359999  \n",
            "\n",
            "[87672 rows x 10 columns]\n"
          ]
        }
      ],
      "source": [
        "print(df)"
      ]
    },
    {
      "cell_type": "code",
      "execution_count": 7,
      "metadata": {
        "id": "DX-kri3MoDW_"
      },
      "outputs": [],
      "source": [
        "df.drop(columns=['wind_speed_100m'],inplace=True)"
      ]
    },
    {
      "cell_type": "code",
      "execution_count": 8,
      "metadata": {
        "colab": {
          "base_uri": "https://localhost:8080/"
        },
        "id": "umV5-F5nh779",
        "outputId": "597470f9-a7ce-4456-eea9-fee855715fc5"
      },
      "outputs": [
        {
          "name": "stdout",
          "output_type": "stream",
          "text": [
            "Index(['date', 'temperature_2m', 'relative_humidity_2m', 'dew_point_2m',\n",
            "       'precipitation', 'rain', 'snowfall', 'wind_speed_10m',\n",
            "       'wind_gusts_10m'],\n",
            "      dtype='object')\n"
          ]
        }
      ],
      "source": [
        "print(df.columns)"
      ]
    },
    {
      "cell_type": "code",
      "execution_count": 9,
      "metadata": {
        "id": "GL9j2GojnRWX"
      },
      "outputs": [],
      "source": [
        "df.drop(columns=['date'],inplace=True)"
      ]
    },
    {
      "cell_type": "code",
      "execution_count": 10,
      "metadata": {
        "colab": {
          "base_uri": "https://localhost:8080/",
          "height": 424
        },
        "id": "QycR9H4370mu",
        "outputId": "a9bd3745-f5c3-411a-beab-9673a3e08549"
      },
      "outputs": [
        {
          "data": {
            "application/vnd.google.colaboratory.intrinsic+json": {
              "summary": "{\n  \"name\": \"df\",\n  \"rows\": 87672,\n  \"fields\": [\n    {\n      \"column\": \"temperature_2m\",\n      \"properties\": {\n        \"dtype\": \"number\",\n        \"std\": 10.982926289032807,\n        \"min\": -32.4435,\n        \"max\": 37.4065,\n        \"num_unique_values\": 1235,\n        \"samples\": [\n          9.7565,\n          7.1064997,\n          0.5565\n        ],\n        \"semantic_type\": \"\",\n        \"description\": \"\"\n      }\n    },\n    {\n      \"column\": \"relative_humidity_2m\",\n      \"properties\": {\n        \"dtype\": \"number\",\n        \"std\": 14.934273820218683,\n        \"min\": 18.325489,\n        \"max\": 100.0,\n        \"num_unique_values\": 64770,\n        \"samples\": [\n          76.63486,\n          53.56387,\n          99.36954\n        ],\n        \"semantic_type\": \"\",\n        \"description\": \"\"\n      }\n    },\n    {\n      \"column\": \"dew_point_2m\",\n      \"properties\": {\n        \"dtype\": \"number\",\n        \"std\": 10.912580375713684,\n        \"min\": -36.6435,\n        \"max\": 26.8565,\n        \"num_unique_values\": 1137,\n        \"samples\": [\n          17.9065,\n          21.0565,\n          -13.643499\n        ],\n        \"semantic_type\": \"\",\n        \"description\": \"\"\n      }\n    },\n    {\n      \"column\": \"precipitation\",\n      \"properties\": {\n        \"dtype\": \"number\",\n        \"std\": 0.6556721488179517,\n        \"min\": 0.0,\n        \"max\": 33.6,\n        \"num_unique_values\": 135,\n        \"samples\": [\n          12.0,\n          7.2,\n          13.4\n        ],\n        \"semantic_type\": \"\",\n        \"description\": \"\"\n      }\n    },\n    {\n      \"column\": \"rain\",\n      \"properties\": {\n        \"dtype\": \"number\",\n        \"std\": 0.6490530495681113,\n        \"min\": 0.0,\n        \"max\": 33.6,\n        \"num_unique_values\": 177,\n        \"samples\": [\n          1.8,\n          4.5,\n          0.8000001\n        ],\n        \"semantic_type\": \"\",\n        \"description\": \"\"\n      }\n    },\n    {\n      \"column\": \"snowfall\",\n      \"properties\": {\n        \"dtype\": \"number\",\n        \"std\": 0.06787505006618873,\n        \"min\": 0.0,\n        \"max\": 2.31,\n        \"num_unique_values\": 32,\n        \"samples\": [\n          1.8199999,\n          0.84000003,\n          2.03\n        ],\n        \"semantic_type\": \"\",\n        \"description\": \"\"\n      }\n    },\n    {\n      \"column\": \"wind_speed_10m\",\n      \"properties\": {\n        \"dtype\": \"number\",\n        \"std\": 7.82081078522251,\n        \"min\": 0.0,\n        \"max\": 57.380203,\n        \"num_unique_values\": 3991,\n        \"samples\": [\n          13.527572,\n          23.749088,\n          4.072935\n        ],\n        \"semantic_type\": \"\",\n        \"description\": \"\"\n      }\n    },\n    {\n      \"column\": \"wind_gusts_10m\",\n      \"properties\": {\n        \"dtype\": \"number\",\n        \"std\": 12.078618878505823,\n        \"min\": 1.08,\n        \"max\": 91.799995,\n        \"num_unique_values\": 244,\n        \"samples\": [\n          37.079998,\n          26.64,\n          66.6\n        ],\n        \"semantic_type\": \"\",\n        \"description\": \"\"\n      }\n    }\n  ]\n}",
              "type": "dataframe",
              "variable_name": "df"
            },
            "text/html": [
              "\n",
              "  <div id=\"df-a603fd19-866e-4df6-af7f-59b72c271390\" class=\"colab-df-container\">\n",
              "    <div>\n",
              "<style scoped>\n",
              "    .dataframe tbody tr th:only-of-type {\n",
              "        vertical-align: middle;\n",
              "    }\n",
              "\n",
              "    .dataframe tbody tr th {\n",
              "        vertical-align: top;\n",
              "    }\n",
              "\n",
              "    .dataframe thead th {\n",
              "        text-align: right;\n",
              "    }\n",
              "</style>\n",
              "<table border=\"1\" class=\"dataframe\">\n",
              "  <thead>\n",
              "    <tr style=\"text-align: right;\">\n",
              "      <th></th>\n",
              "      <th>temperature_2m</th>\n",
              "      <th>relative_humidity_2m</th>\n",
              "      <th>dew_point_2m</th>\n",
              "      <th>precipitation</th>\n",
              "      <th>rain</th>\n",
              "      <th>snowfall</th>\n",
              "      <th>wind_speed_10m</th>\n",
              "      <th>wind_gusts_10m</th>\n",
              "    </tr>\n",
              "  </thead>\n",
              "  <tbody>\n",
              "    <tr>\n",
              "      <th>0</th>\n",
              "      <td>-9.2935</td>\n",
              "      <td>72.978630</td>\n",
              "      <td>-13.243500</td>\n",
              "      <td>0.2</td>\n",
              "      <td>0.0</td>\n",
              "      <td>0.14</td>\n",
              "      <td>2.305125</td>\n",
              "      <td>14.400000</td>\n",
              "    </tr>\n",
              "    <tr>\n",
              "      <th>1</th>\n",
              "      <td>-9.3435</td>\n",
              "      <td>74.764640</td>\n",
              "      <td>-12.993500</td>\n",
              "      <td>0.2</td>\n",
              "      <td>0.0</td>\n",
              "      <td>0.14</td>\n",
              "      <td>3.600000</td>\n",
              "      <td>14.040000</td>\n",
              "    </tr>\n",
              "    <tr>\n",
              "      <th>2</th>\n",
              "      <td>-9.3435</td>\n",
              "      <td>76.291280</td>\n",
              "      <td>-12.743500</td>\n",
              "      <td>0.3</td>\n",
              "      <td>0.0</td>\n",
              "      <td>0.21</td>\n",
              "      <td>5.315336</td>\n",
              "      <td>13.320000</td>\n",
              "    </tr>\n",
              "    <tr>\n",
              "      <th>3</th>\n",
              "      <td>-9.3435</td>\n",
              "      <td>78.159935</td>\n",
              "      <td>-12.443500</td>\n",
              "      <td>0.4</td>\n",
              "      <td>0.0</td>\n",
              "      <td>0.28</td>\n",
              "      <td>6.849467</td>\n",
              "      <td>15.840000</td>\n",
              "    </tr>\n",
              "    <tr>\n",
              "      <th>4</th>\n",
              "      <td>-9.1935</td>\n",
              "      <td>79.133420</td>\n",
              "      <td>-12.143499</td>\n",
              "      <td>0.4</td>\n",
              "      <td>0.0</td>\n",
              "      <td>0.28</td>\n",
              "      <td>10.390226</td>\n",
              "      <td>19.800000</td>\n",
              "    </tr>\n",
              "    <tr>\n",
              "      <th>...</th>\n",
              "      <td>...</td>\n",
              "      <td>...</td>\n",
              "      <td>...</td>\n",
              "      <td>...</td>\n",
              "      <td>...</td>\n",
              "      <td>...</td>\n",
              "      <td>...</td>\n",
              "      <td>...</td>\n",
              "    </tr>\n",
              "    <tr>\n",
              "      <th>87667</th>\n",
              "      <td>1.3565</td>\n",
              "      <td>60.096527</td>\n",
              "      <td>-5.543500</td>\n",
              "      <td>0.0</td>\n",
              "      <td>0.0</td>\n",
              "      <td>0.00</td>\n",
              "      <td>14.512064</td>\n",
              "      <td>24.840000</td>\n",
              "    </tr>\n",
              "    <tr>\n",
              "      <th>87668</th>\n",
              "      <td>1.3565</td>\n",
              "      <td>59.189873</td>\n",
              "      <td>-5.743500</td>\n",
              "      <td>0.0</td>\n",
              "      <td>0.0</td>\n",
              "      <td>0.00</td>\n",
              "      <td>14.830076</td>\n",
              "      <td>25.199999</td>\n",
              "    </tr>\n",
              "    <tr>\n",
              "      <th>87669</th>\n",
              "      <td>1.1065</td>\n",
              "      <td>58.452694</td>\n",
              "      <td>-6.143500</td>\n",
              "      <td>0.0</td>\n",
              "      <td>0.0</td>\n",
              "      <td>0.00</td>\n",
              "      <td>14.417988</td>\n",
              "      <td>24.480000</td>\n",
              "    </tr>\n",
              "    <tr>\n",
              "      <th>87670</th>\n",
              "      <td>0.1065</td>\n",
              "      <td>66.264175</td>\n",
              "      <td>-5.443500</td>\n",
              "      <td>0.0</td>\n",
              "      <td>0.0</td>\n",
              "      <td>0.00</td>\n",
              "      <td>13.339445</td>\n",
              "      <td>22.319998</td>\n",
              "    </tr>\n",
              "    <tr>\n",
              "      <th>87671</th>\n",
              "      <td>-1.3435</td>\n",
              "      <td>72.540950</td>\n",
              "      <td>-5.643500</td>\n",
              "      <td>0.0</td>\n",
              "      <td>0.0</td>\n",
              "      <td>0.00</td>\n",
              "      <td>12.371645</td>\n",
              "      <td>18.359999</td>\n",
              "    </tr>\n",
              "  </tbody>\n",
              "</table>\n",
              "<p>87672 rows × 8 columns</p>\n",
              "</div>\n",
              "    <div class=\"colab-df-buttons\">\n",
              "\n",
              "  <div class=\"colab-df-container\">\n",
              "    <button class=\"colab-df-convert\" onclick=\"convertToInteractive('df-a603fd19-866e-4df6-af7f-59b72c271390')\"\n",
              "            title=\"Convert this dataframe to an interactive table.\"\n",
              "            style=\"display:none;\">\n",
              "\n",
              "  <svg xmlns=\"http://www.w3.org/2000/svg\" height=\"24px\" viewBox=\"0 -960 960 960\">\n",
              "    <path d=\"M120-120v-720h720v720H120Zm60-500h600v-160H180v160Zm220 220h160v-160H400v160Zm0 220h160v-160H400v160ZM180-400h160v-160H180v160Zm440 0h160v-160H620v160ZM180-180h160v-160H180v160Zm440 0h160v-160H620v160Z\"/>\n",
              "  </svg>\n",
              "    </button>\n",
              "\n",
              "  <style>\n",
              "    .colab-df-container {\n",
              "      display:flex;\n",
              "      gap: 12px;\n",
              "    }\n",
              "\n",
              "    .colab-df-convert {\n",
              "      background-color: #E8F0FE;\n",
              "      border: none;\n",
              "      border-radius: 50%;\n",
              "      cursor: pointer;\n",
              "      display: none;\n",
              "      fill: #1967D2;\n",
              "      height: 32px;\n",
              "      padding: 0 0 0 0;\n",
              "      width: 32px;\n",
              "    }\n",
              "\n",
              "    .colab-df-convert:hover {\n",
              "      background-color: #E2EBFA;\n",
              "      box-shadow: 0px 1px 2px rgba(60, 64, 67, 0.3), 0px 1px 3px 1px rgba(60, 64, 67, 0.15);\n",
              "      fill: #174EA6;\n",
              "    }\n",
              "\n",
              "    .colab-df-buttons div {\n",
              "      margin-bottom: 4px;\n",
              "    }\n",
              "\n",
              "    [theme=dark] .colab-df-convert {\n",
              "      background-color: #3B4455;\n",
              "      fill: #D2E3FC;\n",
              "    }\n",
              "\n",
              "    [theme=dark] .colab-df-convert:hover {\n",
              "      background-color: #434B5C;\n",
              "      box-shadow: 0px 1px 3px 1px rgba(0, 0, 0, 0.15);\n",
              "      filter: drop-shadow(0px 1px 2px rgba(0, 0, 0, 0.3));\n",
              "      fill: #FFFFFF;\n",
              "    }\n",
              "  </style>\n",
              "\n",
              "    <script>\n",
              "      const buttonEl =\n",
              "        document.querySelector('#df-a603fd19-866e-4df6-af7f-59b72c271390 button.colab-df-convert');\n",
              "      buttonEl.style.display =\n",
              "        google.colab.kernel.accessAllowed ? 'block' : 'none';\n",
              "\n",
              "      async function convertToInteractive(key) {\n",
              "        const element = document.querySelector('#df-a603fd19-866e-4df6-af7f-59b72c271390');\n",
              "        const dataTable =\n",
              "          await google.colab.kernel.invokeFunction('convertToInteractive',\n",
              "                                                    [key], {});\n",
              "        if (!dataTable) return;\n",
              "\n",
              "        const docLinkHtml = 'Like what you see? Visit the ' +\n",
              "          '<a target=\"_blank\" href=https://colab.research.google.com/notebooks/data_table.ipynb>data table notebook</a>'\n",
              "          + ' to learn more about interactive tables.';\n",
              "        element.innerHTML = '';\n",
              "        dataTable['output_type'] = 'display_data';\n",
              "        await google.colab.output.renderOutput(dataTable, element);\n",
              "        const docLink = document.createElement('div');\n",
              "        docLink.innerHTML = docLinkHtml;\n",
              "        element.appendChild(docLink);\n",
              "      }\n",
              "    </script>\n",
              "  </div>\n",
              "\n",
              "\n",
              "<div id=\"df-e49c9d46-0a73-4168-9e81-1273df93aa97\">\n",
              "  <button class=\"colab-df-quickchart\" onclick=\"quickchart('df-e49c9d46-0a73-4168-9e81-1273df93aa97')\"\n",
              "            title=\"Suggest charts\"\n",
              "            style=\"display:none;\">\n",
              "\n",
              "<svg xmlns=\"http://www.w3.org/2000/svg\" height=\"24px\"viewBox=\"0 0 24 24\"\n",
              "     width=\"24px\">\n",
              "    <g>\n",
              "        <path d=\"M19 3H5c-1.1 0-2 .9-2 2v14c0 1.1.9 2 2 2h14c1.1 0 2-.9 2-2V5c0-1.1-.9-2-2-2zM9 17H7v-7h2v7zm4 0h-2V7h2v10zm4 0h-2v-4h2v4z\"/>\n",
              "    </g>\n",
              "</svg>\n",
              "  </button>\n",
              "\n",
              "<style>\n",
              "  .colab-df-quickchart {\n",
              "      --bg-color: #E8F0FE;\n",
              "      --fill-color: #1967D2;\n",
              "      --hover-bg-color: #E2EBFA;\n",
              "      --hover-fill-color: #174EA6;\n",
              "      --disabled-fill-color: #AAA;\n",
              "      --disabled-bg-color: #DDD;\n",
              "  }\n",
              "\n",
              "  [theme=dark] .colab-df-quickchart {\n",
              "      --bg-color: #3B4455;\n",
              "      --fill-color: #D2E3FC;\n",
              "      --hover-bg-color: #434B5C;\n",
              "      --hover-fill-color: #FFFFFF;\n",
              "      --disabled-bg-color: #3B4455;\n",
              "      --disabled-fill-color: #666;\n",
              "  }\n",
              "\n",
              "  .colab-df-quickchart {\n",
              "    background-color: var(--bg-color);\n",
              "    border: none;\n",
              "    border-radius: 50%;\n",
              "    cursor: pointer;\n",
              "    display: none;\n",
              "    fill: var(--fill-color);\n",
              "    height: 32px;\n",
              "    padding: 0;\n",
              "    width: 32px;\n",
              "  }\n",
              "\n",
              "  .colab-df-quickchart:hover {\n",
              "    background-color: var(--hover-bg-color);\n",
              "    box-shadow: 0 1px 2px rgba(60, 64, 67, 0.3), 0 1px 3px 1px rgba(60, 64, 67, 0.15);\n",
              "    fill: var(--button-hover-fill-color);\n",
              "  }\n",
              "\n",
              "  .colab-df-quickchart-complete:disabled,\n",
              "  .colab-df-quickchart-complete:disabled:hover {\n",
              "    background-color: var(--disabled-bg-color);\n",
              "    fill: var(--disabled-fill-color);\n",
              "    box-shadow: none;\n",
              "  }\n",
              "\n",
              "  .colab-df-spinner {\n",
              "    border: 2px solid var(--fill-color);\n",
              "    border-color: transparent;\n",
              "    border-bottom-color: var(--fill-color);\n",
              "    animation:\n",
              "      spin 1s steps(1) infinite;\n",
              "  }\n",
              "\n",
              "  @keyframes spin {\n",
              "    0% {\n",
              "      border-color: transparent;\n",
              "      border-bottom-color: var(--fill-color);\n",
              "      border-left-color: var(--fill-color);\n",
              "    }\n",
              "    20% {\n",
              "      border-color: transparent;\n",
              "      border-left-color: var(--fill-color);\n",
              "      border-top-color: var(--fill-color);\n",
              "    }\n",
              "    30% {\n",
              "      border-color: transparent;\n",
              "      border-left-color: var(--fill-color);\n",
              "      border-top-color: var(--fill-color);\n",
              "      border-right-color: var(--fill-color);\n",
              "    }\n",
              "    40% {\n",
              "      border-color: transparent;\n",
              "      border-right-color: var(--fill-color);\n",
              "      border-top-color: var(--fill-color);\n",
              "    }\n",
              "    60% {\n",
              "      border-color: transparent;\n",
              "      border-right-color: var(--fill-color);\n",
              "    }\n",
              "    80% {\n",
              "      border-color: transparent;\n",
              "      border-right-color: var(--fill-color);\n",
              "      border-bottom-color: var(--fill-color);\n",
              "    }\n",
              "    90% {\n",
              "      border-color: transparent;\n",
              "      border-bottom-color: var(--fill-color);\n",
              "    }\n",
              "  }\n",
              "</style>\n",
              "\n",
              "  <script>\n",
              "    async function quickchart(key) {\n",
              "      const quickchartButtonEl =\n",
              "        document.querySelector('#' + key + ' button');\n",
              "      quickchartButtonEl.disabled = true;  // To prevent multiple clicks.\n",
              "      quickchartButtonEl.classList.add('colab-df-spinner');\n",
              "      try {\n",
              "        const charts = await google.colab.kernel.invokeFunction(\n",
              "            'suggestCharts', [key], {});\n",
              "      } catch (error) {\n",
              "        console.error('Error during call to suggestCharts:', error);\n",
              "      }\n",
              "      quickchartButtonEl.classList.remove('colab-df-spinner');\n",
              "      quickchartButtonEl.classList.add('colab-df-quickchart-complete');\n",
              "    }\n",
              "    (() => {\n",
              "      let quickchartButtonEl =\n",
              "        document.querySelector('#df-e49c9d46-0a73-4168-9e81-1273df93aa97 button');\n",
              "      quickchartButtonEl.style.display =\n",
              "        google.colab.kernel.accessAllowed ? 'block' : 'none';\n",
              "    })();\n",
              "  </script>\n",
              "</div>\n",
              "    </div>\n",
              "  </div>\n"
            ],
            "text/plain": [
              "       temperature_2m  relative_humidity_2m  dew_point_2m  precipitation  \\\n",
              "0             -9.2935             72.978630    -13.243500            0.2   \n",
              "1             -9.3435             74.764640    -12.993500            0.2   \n",
              "2             -9.3435             76.291280    -12.743500            0.3   \n",
              "3             -9.3435             78.159935    -12.443500            0.4   \n",
              "4             -9.1935             79.133420    -12.143499            0.4   \n",
              "...               ...                   ...           ...            ...   \n",
              "87667          1.3565             60.096527     -5.543500            0.0   \n",
              "87668          1.3565             59.189873     -5.743500            0.0   \n",
              "87669          1.1065             58.452694     -6.143500            0.0   \n",
              "87670          0.1065             66.264175     -5.443500            0.0   \n",
              "87671         -1.3435             72.540950     -5.643500            0.0   \n",
              "\n",
              "       rain  snowfall  wind_speed_10m  wind_gusts_10m  \n",
              "0       0.0      0.14        2.305125       14.400000  \n",
              "1       0.0      0.14        3.600000       14.040000  \n",
              "2       0.0      0.21        5.315336       13.320000  \n",
              "3       0.0      0.28        6.849467       15.840000  \n",
              "4       0.0      0.28       10.390226       19.800000  \n",
              "...     ...       ...             ...             ...  \n",
              "87667   0.0      0.00       14.512064       24.840000  \n",
              "87668   0.0      0.00       14.830076       25.199999  \n",
              "87669   0.0      0.00       14.417988       24.480000  \n",
              "87670   0.0      0.00       13.339445       22.319998  \n",
              "87671   0.0      0.00       12.371645       18.359999  \n",
              "\n",
              "[87672 rows x 8 columns]"
            ]
          },
          "execution_count": 10,
          "metadata": {},
          "output_type": "execute_result"
        }
      ],
      "source": [
        "df"
      ]
    },
    {
      "cell_type": "code",
      "execution_count": 11,
      "metadata": {
        "colab": {
          "base_uri": "https://localhost:8080/"
        },
        "id": "YZvPkAt-nV-O",
        "outputId": "a70166e5-bd3e-477a-bfd7-38d95cedfa8f"
      },
      "outputs": [
        {
          "name": "stdout",
          "output_type": "stream",
          "text": [
            "Epoch 1/30\n",
            "2192/2192 [==============================] - 18s 6ms/step - loss: 0.0317\n",
            "Epoch 2/30\n",
            "2192/2192 [==============================] - 6s 3ms/step - loss: 0.0231\n",
            "Epoch 3/30\n",
            "2192/2192 [==============================] - 6s 3ms/step - loss: 0.0229\n",
            "Epoch 4/30\n",
            "2192/2192 [==============================] - 6s 3ms/step - loss: 0.0226\n",
            "Epoch 5/30\n",
            "2192/2192 [==============================] - 7s 3ms/step - loss: 0.0225\n",
            "Epoch 6/30\n",
            "2192/2192 [==============================] - 6s 3ms/step - loss: 0.0223\n",
            "Epoch 7/30\n",
            "2192/2192 [==============================] - 5s 3ms/step - loss: 0.0222\n",
            "Epoch 8/30\n",
            "2192/2192 [==============================] - 7s 3ms/step - loss: 0.0222\n",
            "Epoch 9/30\n",
            "2192/2192 [==============================] - 6s 3ms/step - loss: 0.0222\n",
            "Epoch 10/30\n",
            "2192/2192 [==============================] - 7s 3ms/step - loss: 0.0221\n",
            "Epoch 11/30\n",
            "2192/2192 [==============================] - 5s 2ms/step - loss: 0.0220\n",
            "Epoch 12/30\n",
            "2192/2192 [==============================] - 6s 3ms/step - loss: 0.0221\n",
            "Epoch 13/30\n",
            "2192/2192 [==============================] - 6s 3ms/step - loss: 0.0220\n",
            "Epoch 14/30\n",
            "2192/2192 [==============================] - 6s 3ms/step - loss: 0.0220\n",
            "Epoch 15/30\n",
            "2192/2192 [==============================] - 6s 3ms/step - loss: 0.0219\n",
            "Epoch 16/30\n",
            "2192/2192 [==============================] - 6s 3ms/step - loss: 0.0219\n",
            "Epoch 17/30\n",
            "2192/2192 [==============================] - 6s 3ms/step - loss: 0.0219\n",
            "Epoch 18/30\n",
            "2192/2192 [==============================] - 5s 2ms/step - loss: 0.0219\n",
            "Epoch 19/30\n",
            "2192/2192 [==============================] - 8s 3ms/step - loss: 0.0219\n",
            "Epoch 20/30\n",
            "2192/2192 [==============================] - 6s 3ms/step - loss: 0.0218\n",
            "Epoch 21/30\n",
            "2192/2192 [==============================] - 6s 3ms/step - loss: 0.0218\n",
            "Epoch 22/30\n",
            "2192/2192 [==============================] - 6s 3ms/step - loss: 0.0218\n",
            "Epoch 23/30\n",
            "2192/2192 [==============================] - 7s 3ms/step - loss: 0.0218\n",
            "Epoch 24/30\n",
            "2192/2192 [==============================] - 6s 3ms/step - loss: 0.0218\n",
            "Epoch 25/30\n",
            "2192/2192 [==============================] - 6s 3ms/step - loss: 0.0218\n",
            "Epoch 26/30\n",
            "2192/2192 [==============================] - 5s 2ms/step - loss: 0.0217\n",
            "Epoch 27/30\n",
            "2192/2192 [==============================] - 6s 3ms/step - loss: 0.0217\n",
            "Epoch 28/30\n",
            "2192/2192 [==============================] - 6s 3ms/step - loss: 0.0217\n",
            "Epoch 29/30\n",
            "2192/2192 [==============================] - 7s 3ms/step - loss: 0.0217\n",
            "Epoch 30/30\n",
            "2192/2192 [==============================] - 6s 3ms/step - loss: 0.0217\n",
            "548/548 [==============================] - 1s 2ms/step - loss: 0.0214\n",
            "Mean Squared Error (LSTM): 0.021350378170609474\n"
          ]
        }
      ],
      "source": [
        "\n",
        "import numpy as np\n",
        "import pandas as pd\n",
        "from sklearn.model_selection import train_test_split\n",
        "from sklearn.preprocessing import MinMaxScaler\n",
        "from tensorflow.keras.models import Sequential\n",
        "from tensorflow.keras.layers import LSTM, Dense\n",
        "import pandas as pd\n",
        "from sklearn.preprocessing import MinMaxScaler\n",
        "from sklearn.model_selection import train_test_split\n",
        "\n",
        "\n",
        "X = df[['relative_humidity_2m', 'precipitation', 'rain', 'snowfall', 'wind_speed_10m', 'wind_gusts_10m']]\n",
        "y = df['temperature_2m']\n",
        "\n",
        "X = pd.DataFrame(X, columns=['relative_humidity_2m', 'precipitation', 'rain', 'snowfall', 'wind_speed_10m', 'wind_gusts_10m'])\n",
        "y = pd.DataFrame(y, columns=['temperature_2m'])\n",
        "\n",
        "scaler_x = MinMaxScaler()\n",
        "scaler_y = MinMaxScaler()\n",
        "X_scaled = scaler_x.fit_transform(X)\n",
        "y_scaled = scaler_y.fit_transform(y)\n",
        "X_train, X_test, y_train, y_test = train_test_split(X_scaled, y_scaled, test_size=0.2, random_state=42)\n",
        "\n",
        "X_train = X_train.reshape((X_train.shape[0], 1, X_train.shape[1]))\n",
        "X_test = X_test.reshape((X_test.shape[0], 1, X_test.shape[1]))\n",
        "\n",
        "model_lstm = Sequential()\n",
        "model_lstm.add(LSTM(50, input_shape=(X_train.shape[1], X_train.shape[2])))\n",
        "model_lstm.add(Dense(1))\n",
        "model_lstm.compile(optimizer='adam', loss='mse')\n",
        "model_lstm.fit(X_train, y_train, epochs=30, batch_size=32, verbose=1)\n",
        "mse_lstm = model_lstm.evaluate(X_test, y_test)\n",
        "print(\"Mean Squared Error (LSTM):\", mse_lstm)\n"
      ]
    },
    {
      "cell_type": "code",
      "execution_count": 12,
      "metadata": {
        "colab": {
          "base_uri": "https://localhost:8080/"
        },
        "id": "SsofFPyDw7Ho",
        "outputId": "c2edb32c-a917-4d19-e920-9b89a2ee6614"
      },
      "outputs": [
        {
          "name": "stderr",
          "output_type": "stream",
          "text": [
            "/usr/local/lib/python3.10/dist-packages/sklearn/base.py:439: UserWarning: X does not have valid feature names, but MinMaxScaler was fitted with feature names\n",
            "  warnings.warn(\n"
          ]
        },
        {
          "name": "stdout",
          "output_type": "stream",
          "text": [
            "1/1 [==============================] - 1s 1s/step\n"
          ]
        },
        {
          "name": "stderr",
          "output_type": "stream",
          "text": [
            "/usr/local/lib/python3.10/dist-packages/sklearn/base.py:439: UserWarning: X does not have valid feature names, but MinMaxScaler was fitted with feature names\n",
            "  warnings.warn(\n"
          ]
        },
        {
          "name": "stdout",
          "output_type": "stream",
          "text": [
            "1/1 [==============================] - 0s 87ms/step\n"
          ]
        },
        {
          "name": "stderr",
          "output_type": "stream",
          "text": [
            "/usr/local/lib/python3.10/dist-packages/sklearn/base.py:439: UserWarning: X does not have valid feature names, but MinMaxScaler was fitted with feature names\n",
            "  warnings.warn(\n"
          ]
        },
        {
          "name": "stdout",
          "output_type": "stream",
          "text": [
            "1/1 [==============================] - 0s 88ms/step\n"
          ]
        },
        {
          "name": "stderr",
          "output_type": "stream",
          "text": [
            "/usr/local/lib/python3.10/dist-packages/sklearn/base.py:439: UserWarning: X does not have valid feature names, but MinMaxScaler was fitted with feature names\n",
            "  warnings.warn(\n"
          ]
        },
        {
          "name": "stdout",
          "output_type": "stream",
          "text": [
            "1/1 [==============================] - 0s 90ms/step\n"
          ]
        },
        {
          "name": "stderr",
          "output_type": "stream",
          "text": [
            "/usr/local/lib/python3.10/dist-packages/sklearn/base.py:439: UserWarning: X does not have valid feature names, but MinMaxScaler was fitted with feature names\n",
            "  warnings.warn(\n"
          ]
        },
        {
          "name": "stdout",
          "output_type": "stream",
          "text": [
            "1/1 [==============================] - 0s 94ms/step\n",
            "1/1 [==============================] - 0s 43ms/step\n"
          ]
        },
        {
          "name": "stderr",
          "output_type": "stream",
          "text": [
            "/usr/local/lib/python3.10/dist-packages/sklearn/base.py:439: UserWarning: X does not have valid feature names, but MinMaxScaler was fitted with feature names\n",
            "  warnings.warn(\n",
            "/usr/local/lib/python3.10/dist-packages/sklearn/base.py:439: UserWarning: X does not have valid feature names, but MinMaxScaler was fitted with feature names\n",
            "  warnings.warn(\n"
          ]
        },
        {
          "name": "stdout",
          "output_type": "stream",
          "text": [
            "1/1 [==============================] - 0s 31ms/step\n",
            "1/1 [==============================] - 0s 33ms/step\n"
          ]
        },
        {
          "name": "stderr",
          "output_type": "stream",
          "text": [
            "/usr/local/lib/python3.10/dist-packages/sklearn/base.py:439: UserWarning: X does not have valid feature names, but MinMaxScaler was fitted with feature names\n",
            "  warnings.warn(\n",
            "/usr/local/lib/python3.10/dist-packages/sklearn/base.py:439: UserWarning: X does not have valid feature names, but MinMaxScaler was fitted with feature names\n",
            "  warnings.warn(\n"
          ]
        },
        {
          "name": "stdout",
          "output_type": "stream",
          "text": [
            "1/1 [==============================] - 0s 36ms/step\n"
          ]
        },
        {
          "name": "stderr",
          "output_type": "stream",
          "text": [
            "/usr/local/lib/python3.10/dist-packages/sklearn/base.py:439: UserWarning: X does not have valid feature names, but MinMaxScaler was fitted with feature names\n",
            "  warnings.warn(\n"
          ]
        },
        {
          "name": "stdout",
          "output_type": "stream",
          "text": [
            "1/1 [==============================] - 0s 67ms/step\n"
          ]
        },
        {
          "name": "stderr",
          "output_type": "stream",
          "text": [
            "/usr/local/lib/python3.10/dist-packages/sklearn/base.py:439: UserWarning: X does not have valid feature names, but MinMaxScaler was fitted with feature names\n",
            "  warnings.warn(\n"
          ]
        },
        {
          "name": "stdout",
          "output_type": "stream",
          "text": [
            "1/1 [==============================] - 0s 55ms/step\n"
          ]
        },
        {
          "name": "stderr",
          "output_type": "stream",
          "text": [
            "/usr/local/lib/python3.10/dist-packages/sklearn/base.py:439: UserWarning: X does not have valid feature names, but MinMaxScaler was fitted with feature names\n",
            "  warnings.warn(\n"
          ]
        },
        {
          "name": "stdout",
          "output_type": "stream",
          "text": [
            "1/1 [==============================] - 0s 54ms/step\n"
          ]
        },
        {
          "name": "stderr",
          "output_type": "stream",
          "text": [
            "/usr/local/lib/python3.10/dist-packages/sklearn/base.py:439: UserWarning: X does not have valid feature names, but MinMaxScaler was fitted with feature names\n",
            "  warnings.warn(\n"
          ]
        },
        {
          "name": "stdout",
          "output_type": "stream",
          "text": [
            "1/1 [==============================] - 0s 66ms/step\n",
            "1/1 [==============================] - 0s 70ms/step\n"
          ]
        },
        {
          "name": "stderr",
          "output_type": "stream",
          "text": [
            "/usr/local/lib/python3.10/dist-packages/sklearn/base.py:439: UserWarning: X does not have valid feature names, but MinMaxScaler was fitted with feature names\n",
            "  warnings.warn(\n"
          ]
        },
        {
          "name": "stdout",
          "output_type": "stream",
          "text": [
            "1/1 [==============================] - 0s 48ms/step\n"
          ]
        },
        {
          "name": "stderr",
          "output_type": "stream",
          "text": [
            "/usr/local/lib/python3.10/dist-packages/sklearn/base.py:439: UserWarning: X does not have valid feature names, but MinMaxScaler was fitted with feature names\n",
            "  warnings.warn(\n",
            "/usr/local/lib/python3.10/dist-packages/sklearn/base.py:439: UserWarning: X does not have valid feature names, but MinMaxScaler was fitted with feature names\n",
            "  warnings.warn(\n"
          ]
        },
        {
          "name": "stdout",
          "output_type": "stream",
          "text": [
            "1/1 [==============================] - 0s 33ms/step\n",
            "1/1 [==============================] - 0s 45ms/step\n"
          ]
        },
        {
          "name": "stderr",
          "output_type": "stream",
          "text": [
            "/usr/local/lib/python3.10/dist-packages/sklearn/base.py:439: UserWarning: X does not have valid feature names, but MinMaxScaler was fitted with feature names\n",
            "  warnings.warn(\n",
            "/usr/local/lib/python3.10/dist-packages/sklearn/base.py:439: UserWarning: X does not have valid feature names, but MinMaxScaler was fitted with feature names\n",
            "  warnings.warn(\n"
          ]
        },
        {
          "name": "stdout",
          "output_type": "stream",
          "text": [
            "1/1 [==============================] - 0s 71ms/step\n",
            "1/1 [==============================] - 0s 50ms/step\n"
          ]
        },
        {
          "name": "stderr",
          "output_type": "stream",
          "text": [
            "/usr/local/lib/python3.10/dist-packages/sklearn/base.py:439: UserWarning: X does not have valid feature names, but MinMaxScaler was fitted with feature names\n",
            "  warnings.warn(\n",
            "/usr/local/lib/python3.10/dist-packages/sklearn/base.py:439: UserWarning: X does not have valid feature names, but MinMaxScaler was fitted with feature names\n",
            "  warnings.warn(\n"
          ]
        },
        {
          "name": "stdout",
          "output_type": "stream",
          "text": [
            "1/1 [==============================] - 0s 91ms/step\n",
            "1/1 [==============================] - 0s 38ms/step\n"
          ]
        },
        {
          "name": "stderr",
          "output_type": "stream",
          "text": [
            "/usr/local/lib/python3.10/dist-packages/sklearn/base.py:439: UserWarning: X does not have valid feature names, but MinMaxScaler was fitted with feature names\n",
            "  warnings.warn(\n",
            "/usr/local/lib/python3.10/dist-packages/sklearn/base.py:439: UserWarning: X does not have valid feature names, but MinMaxScaler was fitted with feature names\n",
            "  warnings.warn(\n"
          ]
        },
        {
          "name": "stdout",
          "output_type": "stream",
          "text": [
            "1/1 [==============================] - 0s 35ms/step\n",
            "1/1 [==============================] - 0s 32ms/step\n"
          ]
        },
        {
          "name": "stderr",
          "output_type": "stream",
          "text": [
            "/usr/local/lib/python3.10/dist-packages/sklearn/base.py:439: UserWarning: X does not have valid feature names, but MinMaxScaler was fitted with feature names\n",
            "  warnings.warn(\n",
            "/usr/local/lib/python3.10/dist-packages/sklearn/base.py:439: UserWarning: X does not have valid feature names, but MinMaxScaler was fitted with feature names\n",
            "  warnings.warn(\n"
          ]
        },
        {
          "name": "stdout",
          "output_type": "stream",
          "text": [
            "1/1 [==============================] - 0s 51ms/step\n",
            "     max_temp\n",
            "0   14.452825\n",
            "1   11.846696\n",
            "2   11.791752\n",
            "3   11.657004\n",
            "4   11.247906\n",
            "5   12.540308\n",
            "6   12.620215\n",
            "7   11.324870\n",
            "8   13.024609\n",
            "9   12.769723\n",
            "10  12.510427\n",
            "11  10.265455\n",
            "12  11.912815\n",
            "13  10.900317\n",
            "14  11.648344\n",
            "15  13.020050\n",
            "16  15.253935\n",
            "17  15.010468\n",
            "18  16.546995\n",
            "19  11.857109\n",
            "20  10.196555\n",
            "21   8.573127\n",
            "22  10.968292\n",
            "23  12.020060\n"
          ]
        }
      ],
      "source": [
        "import numpy as np\n",
        "\n",
        "for index, row in hourly_dataframe.iterrows():\n",
        "\n",
        "    relative_humidity_2m = row['relative_humidity_2m']\n",
        "    precipitation = row['precipitation']\n",
        "    rain = row['rain']\n",
        "    snowfall = row['snowfall']\n",
        "    wind_speed_10m = row['wind_speed_10m']\n",
        "    wind_gusts_10m = row['wind_gusts_10m']\n",
        "\n",
        "    input_data = np.array([[relative_humidity_2m, precipitation, rain, snowfall, wind_speed_10m, wind_gusts_10m]])\n",
        "    scale_input = scaler_x.transform(input_data)\n",
        "    reshaped_input_data = scale_input.reshape((scale_input.shape[0], 1, scale_input.shape[1]))\n",
        "    predicted_output = model_lstm.predict(reshaped_input_data)\n",
        "    predicted_output = scaler_y.inverse_transform(predicted_output)\n",
        "    output.at[index, 'max_temp'] = predicted_output[0][0]\n",
        "print(output)\n"
      ]
    },
    {
      "cell_type": "code",
      "execution_count": 13,
      "metadata": {
        "colab": {
          "base_uri": "https://localhost:8080/"
        },
        "id": "Jhg7vsIt0FQp",
        "outputId": "3c1e6628-95a3-4643-97a8-f3cccdb740bc"
      },
      "outputs": [
        {
          "name": "stdout",
          "output_type": "stream",
          "text": [
            "Epoch 1/60\n",
            "2192/2192 [==============================] - 19s 6ms/step - loss: 0.0375\n",
            "Epoch 2/60\n",
            "2192/2192 [==============================] - 8s 3ms/step - loss: 0.0256\n",
            "Epoch 3/60\n",
            "2192/2192 [==============================] - 6s 3ms/step - loss: 0.0252\n",
            "Epoch 4/60\n",
            "2192/2192 [==============================] - 7s 3ms/step - loss: 0.0250\n",
            "Epoch 5/60\n",
            "2192/2192 [==============================] - 7s 3ms/step - loss: 0.0249\n",
            "Epoch 6/60\n",
            "2192/2192 [==============================] - 7s 3ms/step - loss: 0.0248\n",
            "Epoch 7/60\n",
            "2192/2192 [==============================] - 6s 3ms/step - loss: 0.0247\n",
            "Epoch 8/60\n",
            "2192/2192 [==============================] - 7s 3ms/step - loss: 0.0246\n",
            "Epoch 9/60\n",
            "2192/2192 [==============================] - 6s 3ms/step - loss: 0.0244\n",
            "Epoch 10/60\n",
            "2192/2192 [==============================] - 6s 3ms/step - loss: 0.0242\n",
            "Epoch 11/60\n",
            "2192/2192 [==============================] - 7s 3ms/step - loss: 0.0240\n",
            "Epoch 12/60\n",
            "2192/2192 [==============================] - 6s 3ms/step - loss: 0.0240\n",
            "Epoch 13/60\n",
            "2192/2192 [==============================] - 7s 3ms/step - loss: 0.0238\n",
            "Epoch 14/60\n",
            "2192/2192 [==============================] - 6s 3ms/step - loss: 0.0238\n",
            "Epoch 15/60\n",
            "2192/2192 [==============================] - 9s 4ms/step - loss: 0.0238\n",
            "Epoch 16/60\n",
            "2192/2192 [==============================] - 6s 3ms/step - loss: 0.0238\n",
            "Epoch 17/60\n",
            "2192/2192 [==============================] - 7s 3ms/step - loss: 0.0238\n",
            "Epoch 18/60\n",
            "2192/2192 [==============================] - 6s 3ms/step - loss: 0.0238\n",
            "Epoch 19/60\n",
            "2192/2192 [==============================] - 7s 3ms/step - loss: 0.0238\n",
            "Epoch 20/60\n",
            "2192/2192 [==============================] - 6s 3ms/step - loss: 0.0238\n",
            "Epoch 21/60\n",
            "2192/2192 [==============================] - 7s 3ms/step - loss: 0.0238\n",
            "Epoch 22/60\n",
            "2192/2192 [==============================] - 6s 3ms/step - loss: 0.0238\n",
            "Epoch 23/60\n",
            "2192/2192 [==============================] - 7s 3ms/step - loss: 0.0238\n",
            "Epoch 24/60\n",
            "2192/2192 [==============================] - 6s 3ms/step - loss: 0.0238\n",
            "Epoch 25/60\n",
            "2192/2192 [==============================] - 7s 3ms/step - loss: 0.0238\n",
            "Epoch 26/60\n",
            "2192/2192 [==============================] - 6s 3ms/step - loss: 0.0238\n",
            "Epoch 27/60\n",
            "2192/2192 [==============================] - 7s 3ms/step - loss: 0.0238\n",
            "Epoch 28/60\n",
            "2192/2192 [==============================] - 6s 3ms/step - loss: 0.0238\n",
            "Epoch 29/60\n",
            "2192/2192 [==============================] - 7s 3ms/step - loss: 0.0237\n",
            "Epoch 30/60\n",
            "2192/2192 [==============================] - 6s 3ms/step - loss: 0.0238\n",
            "Epoch 31/60\n",
            "2192/2192 [==============================] - 7s 3ms/step - loss: 0.0238\n",
            "Epoch 32/60\n",
            "2192/2192 [==============================] - 6s 3ms/step - loss: 0.0238\n",
            "Epoch 33/60\n",
            "2192/2192 [==============================] - 7s 3ms/step - loss: 0.0238\n",
            "Epoch 34/60\n",
            "2192/2192 [==============================] - 6s 3ms/step - loss: 0.0238\n",
            "Epoch 35/60\n",
            "2192/2192 [==============================] - 6s 3ms/step - loss: 0.0238\n",
            "Epoch 36/60\n",
            "2192/2192 [==============================] - 6s 3ms/step - loss: 0.0238\n",
            "Epoch 37/60\n",
            "2192/2192 [==============================] - 7s 3ms/step - loss: 0.0238\n",
            "Epoch 38/60\n",
            "2192/2192 [==============================] - 7s 3ms/step - loss: 0.0238\n",
            "Epoch 39/60\n",
            "2192/2192 [==============================] - 6s 3ms/step - loss: 0.0238\n",
            "Epoch 40/60\n",
            "2192/2192 [==============================] - 7s 3ms/step - loss: 0.0238\n",
            "Epoch 41/60\n",
            "2192/2192 [==============================] - 6s 3ms/step - loss: 0.0238\n",
            "Epoch 42/60\n",
            "2192/2192 [==============================] - 7s 3ms/step - loss: 0.0238\n",
            "Epoch 43/60\n",
            "2192/2192 [==============================] - 6s 3ms/step - loss: 0.0238\n",
            "Epoch 44/60\n",
            "2192/2192 [==============================] - 7s 3ms/step - loss: 0.0238\n",
            "Epoch 45/60\n",
            "2192/2192 [==============================] - 6s 3ms/step - loss: 0.0237\n",
            "Epoch 46/60\n",
            "2192/2192 [==============================] - 7s 3ms/step - loss: 0.0238\n",
            "Epoch 47/60\n",
            "2192/2192 [==============================] - 6s 3ms/step - loss: 0.0238\n",
            "Epoch 48/60\n",
            "2192/2192 [==============================] - 7s 3ms/step - loss: 0.0238\n",
            "Epoch 49/60\n",
            "2192/2192 [==============================] - 6s 3ms/step - loss: 0.0238\n",
            "Epoch 50/60\n",
            "2192/2192 [==============================] - 7s 3ms/step - loss: 0.0238\n",
            "Epoch 51/60\n",
            "2192/2192 [==============================] - 6s 3ms/step - loss: 0.0238\n",
            "Epoch 52/60\n",
            "2192/2192 [==============================] - 7s 3ms/step - loss: 0.0238\n",
            "Epoch 53/60\n",
            "2192/2192 [==============================] - 8s 3ms/step - loss: 0.0238\n",
            "Epoch 54/60\n",
            "2192/2192 [==============================] - 9s 4ms/step - loss: 0.0238\n",
            "Epoch 55/60\n",
            "2192/2192 [==============================] - 6s 3ms/step - loss: 0.0238\n",
            "Epoch 56/60\n",
            "2192/2192 [==============================] - 7s 3ms/step - loss: 0.0238\n",
            "Epoch 57/60\n",
            "2192/2192 [==============================] - 6s 3ms/step - loss: 0.0238\n",
            "Epoch 58/60\n",
            "2192/2192 [==============================] - 7s 3ms/step - loss: 0.0238\n",
            "Epoch 59/60\n",
            "2192/2192 [==============================] - 6s 3ms/step - loss: 0.0238\n",
            "Epoch 60/60\n",
            "2192/2192 [==============================] - 7s 3ms/step - loss: 0.0238\n",
            "548/548 [==============================] - 1s 2ms/step - loss: 0.0233\n",
            "Mean Squared Error (LSTM): 0.02331557683646679\n"
          ]
        }
      ],
      "source": [
        "from tensorflow.keras.layers import Dropout\n",
        "from tensorflow.keras import regularizers\n",
        "\n",
        "model_lstm = Sequential()\n",
        "model_lstm.add(LSTM(50,\n",
        "                    input_shape=(X_train.shape[1], X_train.shape[2]),\n",
        "                    kernel_regularizer=regularizers.l2(0.01)))\n",
        "model_lstm.add(Dropout(0.2))\n",
        "model_lstm.add(Dense(1))\n",
        "model_lstm.compile(optimizer='adam', loss='mse')\n",
        "\n",
        "model_lstm.fit(X_train, y_train, epochs=60, batch_size=32, verbose=1)\n",
        "mse_lstm = model_lstm.evaluate(X_test, y_test)\n",
        "print(\"Mean Squared Error (LSTM):\", mse_lstm)"
      ]
    },
    {
      "cell_type": "code",
      "execution_count": 14,
      "metadata": {
        "colab": {
          "base_uri": "https://localhost:8080/"
        },
        "id": "cP4Y6RJ9HbUJ",
        "outputId": "ef148e07-321b-4a64-d681-b5ffe8a37a3c"
      },
      "outputs": [
        {
          "name": "stderr",
          "output_type": "stream",
          "text": [
            "/usr/local/lib/python3.10/dist-packages/sklearn/base.py:439: UserWarning: X does not have valid feature names, but MinMaxScaler was fitted with feature names\n",
            "  warnings.warn(\n"
          ]
        },
        {
          "name": "stdout",
          "output_type": "stream",
          "text": [
            "1/1 [==============================] - 0s 458ms/step\n",
            "1/1 [==============================] - 0s 22ms/step\n",
            "1/1 [==============================] - 0s 21ms/step\n"
          ]
        },
        {
          "name": "stderr",
          "output_type": "stream",
          "text": [
            "/usr/local/lib/python3.10/dist-packages/sklearn/base.py:439: UserWarning: X does not have valid feature names, but MinMaxScaler was fitted with feature names\n",
            "  warnings.warn(\n",
            "/usr/local/lib/python3.10/dist-packages/sklearn/base.py:439: UserWarning: X does not have valid feature names, but MinMaxScaler was fitted with feature names\n",
            "  warnings.warn(\n",
            "/usr/local/lib/python3.10/dist-packages/sklearn/base.py:439: UserWarning: X does not have valid feature names, but MinMaxScaler was fitted with feature names\n",
            "  warnings.warn(\n"
          ]
        },
        {
          "name": "stdout",
          "output_type": "stream",
          "text": [
            "1/1 [==============================] - 0s 24ms/step\n",
            "1/1 [==============================] - 0s 31ms/step\n"
          ]
        },
        {
          "name": "stderr",
          "output_type": "stream",
          "text": [
            "/usr/local/lib/python3.10/dist-packages/sklearn/base.py:439: UserWarning: X does not have valid feature names, but MinMaxScaler was fitted with feature names\n",
            "  warnings.warn(\n",
            "/usr/local/lib/python3.10/dist-packages/sklearn/base.py:439: UserWarning: X does not have valid feature names, but MinMaxScaler was fitted with feature names\n",
            "  warnings.warn(\n"
          ]
        },
        {
          "name": "stdout",
          "output_type": "stream",
          "text": [
            "1/1 [==============================] - 0s 30ms/step\n",
            "1/1 [==============================] - 0s 33ms/step\n"
          ]
        },
        {
          "name": "stderr",
          "output_type": "stream",
          "text": [
            "/usr/local/lib/python3.10/dist-packages/sklearn/base.py:439: UserWarning: X does not have valid feature names, but MinMaxScaler was fitted with feature names\n",
            "  warnings.warn(\n",
            "/usr/local/lib/python3.10/dist-packages/sklearn/base.py:439: UserWarning: X does not have valid feature names, but MinMaxScaler was fitted with feature names\n",
            "  warnings.warn(\n"
          ]
        },
        {
          "name": "stdout",
          "output_type": "stream",
          "text": [
            "1/1 [==============================] - 0s 32ms/step\n",
            "1/1 [==============================] - 0s 29ms/step\n"
          ]
        },
        {
          "name": "stderr",
          "output_type": "stream",
          "text": [
            "/usr/local/lib/python3.10/dist-packages/sklearn/base.py:439: UserWarning: X does not have valid feature names, but MinMaxScaler was fitted with feature names\n",
            "  warnings.warn(\n",
            "/usr/local/lib/python3.10/dist-packages/sklearn/base.py:439: UserWarning: X does not have valid feature names, but MinMaxScaler was fitted with feature names\n",
            "  warnings.warn(\n"
          ]
        },
        {
          "name": "stdout",
          "output_type": "stream",
          "text": [
            "1/1 [==============================] - 0s 42ms/step\n",
            "1/1 [==============================] - 0s 31ms/step\n"
          ]
        },
        {
          "name": "stderr",
          "output_type": "stream",
          "text": [
            "/usr/local/lib/python3.10/dist-packages/sklearn/base.py:439: UserWarning: X does not have valid feature names, but MinMaxScaler was fitted with feature names\n",
            "  warnings.warn(\n",
            "/usr/local/lib/python3.10/dist-packages/sklearn/base.py:439: UserWarning: X does not have valid feature names, but MinMaxScaler was fitted with feature names\n",
            "  warnings.warn(\n"
          ]
        },
        {
          "name": "stdout",
          "output_type": "stream",
          "text": [
            "1/1 [==============================] - 0s 33ms/step\n",
            "1/1 [==============================] - 0s 28ms/step\n",
            "1/1 [==============================] - 0s 29ms/step\n"
          ]
        },
        {
          "name": "stderr",
          "output_type": "stream",
          "text": [
            "/usr/local/lib/python3.10/dist-packages/sklearn/base.py:439: UserWarning: X does not have valid feature names, but MinMaxScaler was fitted with feature names\n",
            "  warnings.warn(\n",
            "/usr/local/lib/python3.10/dist-packages/sklearn/base.py:439: UserWarning: X does not have valid feature names, but MinMaxScaler was fitted with feature names\n",
            "  warnings.warn(\n"
          ]
        },
        {
          "name": "stdout",
          "output_type": "stream",
          "text": [
            "1/1 [==============================] - 0s 32ms/step\n"
          ]
        },
        {
          "name": "stderr",
          "output_type": "stream",
          "text": [
            "/usr/local/lib/python3.10/dist-packages/sklearn/base.py:439: UserWarning: X does not have valid feature names, but MinMaxScaler was fitted with feature names\n",
            "  warnings.warn(\n",
            "/usr/local/lib/python3.10/dist-packages/sklearn/base.py:439: UserWarning: X does not have valid feature names, but MinMaxScaler was fitted with feature names\n",
            "  warnings.warn(\n"
          ]
        },
        {
          "name": "stdout",
          "output_type": "stream",
          "text": [
            "1/1 [==============================] - 0s 40ms/step\n",
            "1/1 [==============================] - 0s 32ms/step\n"
          ]
        },
        {
          "name": "stderr",
          "output_type": "stream",
          "text": [
            "/usr/local/lib/python3.10/dist-packages/sklearn/base.py:439: UserWarning: X does not have valid feature names, but MinMaxScaler was fitted with feature names\n",
            "  warnings.warn(\n",
            "/usr/local/lib/python3.10/dist-packages/sklearn/base.py:439: UserWarning: X does not have valid feature names, but MinMaxScaler was fitted with feature names\n",
            "  warnings.warn(\n"
          ]
        },
        {
          "name": "stdout",
          "output_type": "stream",
          "text": [
            "1/1 [==============================] - 0s 43ms/step\n",
            "1/1 [==============================] - 0s 40ms/step\n"
          ]
        },
        {
          "name": "stderr",
          "output_type": "stream",
          "text": [
            "/usr/local/lib/python3.10/dist-packages/sklearn/base.py:439: UserWarning: X does not have valid feature names, but MinMaxScaler was fitted with feature names\n",
            "  warnings.warn(\n",
            "/usr/local/lib/python3.10/dist-packages/sklearn/base.py:439: UserWarning: X does not have valid feature names, but MinMaxScaler was fitted with feature names\n",
            "  warnings.warn(\n"
          ]
        },
        {
          "name": "stdout",
          "output_type": "stream",
          "text": [
            "1/1 [==============================] - 0s 34ms/step\n",
            "1/1 [==============================] - 0s 35ms/step\n"
          ]
        },
        {
          "name": "stderr",
          "output_type": "stream",
          "text": [
            "/usr/local/lib/python3.10/dist-packages/sklearn/base.py:439: UserWarning: X does not have valid feature names, but MinMaxScaler was fitted with feature names\n",
            "  warnings.warn(\n",
            "/usr/local/lib/python3.10/dist-packages/sklearn/base.py:439: UserWarning: X does not have valid feature names, but MinMaxScaler was fitted with feature names\n",
            "  warnings.warn(\n"
          ]
        },
        {
          "name": "stdout",
          "output_type": "stream",
          "text": [
            "1/1 [==============================] - 0s 36ms/step\n",
            "1/1 [==============================] - 0s 33ms/step\n"
          ]
        },
        {
          "name": "stderr",
          "output_type": "stream",
          "text": [
            "/usr/local/lib/python3.10/dist-packages/sklearn/base.py:439: UserWarning: X does not have valid feature names, but MinMaxScaler was fitted with feature names\n",
            "  warnings.warn(\n",
            "/usr/local/lib/python3.10/dist-packages/sklearn/base.py:439: UserWarning: X does not have valid feature names, but MinMaxScaler was fitted with feature names\n",
            "  warnings.warn(\n"
          ]
        },
        {
          "name": "stdout",
          "output_type": "stream",
          "text": [
            "1/1 [==============================] - 0s 44ms/step\n",
            "     max_temp\n",
            "0   12.438555\n",
            "1    9.600720\n",
            "2   12.111466\n",
            "3   11.711752\n",
            "4   11.202400\n",
            "5   13.184845\n",
            "6   13.775330\n",
            "7   11.449721\n",
            "8   12.786534\n",
            "9   11.893788\n",
            "10  11.456803\n",
            "11   9.082042\n",
            "12  10.687289\n",
            "13   9.971375\n",
            "14  10.399407\n",
            "15  11.522448\n",
            "16  11.469893\n",
            "17  11.452136\n",
            "18  12.198181\n",
            "19  10.557167\n",
            "20   9.670940\n",
            "21   8.607062\n",
            "22  11.906261\n",
            "23  12.164562\n"
          ]
        }
      ],
      "source": [
        "import numpy as np\n",
        "\n",
        "for index, row in hourly_dataframe.iterrows():\n",
        "\n",
        "    relative_humidity_2m = row['relative_humidity_2m']\n",
        "    precipitation = row['precipitation']\n",
        "    rain = row['rain']\n",
        "    snowfall = row['snowfall']\n",
        "    wind_speed_10m = row['wind_speed_10m']\n",
        "    wind_gusts_10m = row['wind_gusts_10m']\n",
        "\n",
        "    input_data = np.array([[relative_humidity_2m, precipitation, rain, snowfall, wind_speed_10m, wind_gusts_10m]])\n",
        "    scale_input = scaler_x.transform(input_data)\n",
        "    reshaped_input_data = scale_input.reshape((scale_input.shape[0], 1, scale_input.shape[1]))\n",
        "    predicted_output = model_lstm.predict(reshaped_input_data)\n",
        "    predicted_output = scaler_y.inverse_transform(predicted_output)\n",
        "    output.at[index, 'max_temp'] = predicted_output[0][0]\n",
        "print(output)\n"
      ]
    },
    {
      "cell_type": "markdown",
      "metadata": {
        "id": "9WKIxzNh0klM"
      },
      "source": [
        "Here We take the max value of the temperature we obtained from our prediction"
      ]
    },
    {
      "cell_type": "code",
      "execution_count": 15,
      "metadata": {
        "id": "XBucnPBO0eXM"
      },
      "outputs": [],
      "source": [
        "max_temp_max = output['max_temp'].max()"
      ]
    },
    {
      "cell_type": "markdown",
      "metadata": {
        "id": "-T3om3dBYOKm"
      },
      "source": [
        "The next cell is the actual max temp recorded today obtained from the weather api"
      ]
    },
    {
      "cell_type": "code",
      "execution_count": 16,
      "metadata": {
        "colab": {
          "base_uri": "https://localhost:8080/"
        },
        "id": "RtQqrPU8NzsC",
        "outputId": "0146fa67-c3d7-4b10-ebd3-6a6151df652d"
      },
      "outputs": [
        {
          "data": {
            "text/plain": [
              "4.9694996"
            ]
          },
          "execution_count": 16,
          "metadata": {},
          "output_type": "execute_result"
        }
      ],
      "source": [
        "daily_dataframe.temperature_2m_max[0]"
      ]
    },
    {
      "cell_type": "code",
      "execution_count": 17,
      "metadata": {
        "colab": {
          "base_uri": "https://localhost:8080/"
        },
        "id": "NHvj782MOCdp",
        "outputId": "c18d7505-7682-4dbb-acf8-3052566d7220"
      },
      "outputs": [
        {
          "name": "stdout",
          "output_type": "stream",
          "text": [
            "Offset_temp in Celsius is 8.805830001831055\n",
            "Offset Temp in Farenheit is 15.8504940032959\n"
          ]
        }
      ],
      "source": [
        "a=daily_dataframe.temperature_2m_max[0]\n",
        "a=(a*9/5)+32\n",
        "b=max_temp_max\n",
        "c=(max_temp_max*9/5)+32\n",
        "Offset_temp = max_temp_max-daily_dataframe.temperature_2m_max[0]\n",
        "print(\"Offset_temp in Celsius is\",b-daily_dataframe.temperature_2m_max[0])\n",
        "print(\"Offset Temp in Farenheit is\",c-a)"
      ]
    },
    {
      "cell_type": "markdown",
      "metadata": {
        "id": "_qc-uLnBPRVV"
      },
      "source": [
        " **Offset Temp mean how off the predicted values are from the actual values*"
      ]
    },
    {
      "cell_type": "code",
      "execution_count": 18,
      "metadata": {
        "colab": {
          "base_uri": "https://localhost:8080/"
        },
        "id": "f7vHkABNGodn",
        "outputId": "b5935814-ce2a-47ed-bdf9-764eb6f97524"
      },
      "outputs": [
        {
          "name": "stdout",
          "output_type": "stream",
          "text": [
            "13.77532958984375 This is in Degree Celsius(Predicted)\n",
            "56.79559326171875 This is in Farenheit(Predicted)\n"
          ]
        }
      ],
      "source": [
        "print(max_temp_max,\"This is in Degree Celsius(Predicted)\")\n",
        "max_temp_max=(max_temp_max * 9/5) + 32\n",
        "print(max_temp_max,\"This is in Farenheit(Predicted)\")"
      ]
    },
    {
      "cell_type": "code",
      "execution_count": 19,
      "metadata": {
        "colab": {
          "base_uri": "https://localhost:8080/"
        },
        "id": "_sVhHbsoSvHQ",
        "outputId": "db7ba97e-8fd1-4182-d5cf-6dbcb76c8d14"
      },
      "outputs": [
        {
          "name": "stdout",
          "output_type": "stream",
          "text": [
            "Value saved to /content/max_temp_max.json\n"
          ]
        }
      ],
      "source": [
        "import json\n",
        "data = {'max_temp_max': max_temp_max}\n",
        "file_path = '/content/max_temp_max.json'\n",
        "with open(file_path, 'w') as json_file:\n",
        "    json.dump(data, json_file)\n",
        "\n",
        "print(\"Value saved to\", file_path)\n"
      ]
    },
    {
      "cell_type": "code",
      "execution_count": 20,
      "metadata": {
        "colab": {
          "base_uri": "https://localhost:8080/",
          "height": 1000
        },
        "id": "DSKX52yhUXtt",
        "outputId": "1fc4c6dd-f8a8-4028-c314-acdffc0ec332"
      },
      "outputs": [
        {
          "data": {
            "image/png": "[encoded data removed]",
            "text/plain": [
              "<Figure size 1000x600 with 1 Axes>"
            ]
          },
          "metadata": {},
          "output_type": "display_data"
        },
        {
          "data": {
            "image/png": "[encoded data removed]",
            "text/plain": [
              "<Figure size 1000x600 with 1 Axes>"
            ]
          },
          "metadata": {},
          "output_type": "display_data"
        }
      ],
      "source": [
        "import matplotlib.pyplot as plt\n",
        "\n",
        "plt.figure(figsize=(10, 6))\n",
        "plt.plot(hourly_dataframe.index, hourly_dataframe['temperature_2m'], label='Actual Temperature', color='blue')\n",
        "plt.plot(hourly_dataframe.index, output['max_temp'], label='Predicted Temperature', color='red')\n",
        "plt.xlabel('Time')\n",
        "plt.ylabel('Temperature (°C)')\n",
        "plt.title('Actual vs Predicted Temperature')\n",
        "plt.legend()\n",
        "plt.show()\n",
        "\n",
        "residuals = output['max_temp'] - hourly_dataframe['temperature_2m']\n",
        "\n",
        "plt.figure(figsize=(10, 6))\n",
        "plt.plot(hourly_dataframe.index, residuals, color='green')\n",
        "plt.xlabel('Time')\n",
        "plt.ylabel('Residuals')\n",
        "plt.title('Residual Plot')\n",
        "plt.axhline(y=0, color='black', linestyle='--')\n",
        "plt.show()\n",
        "\n"
      ]
    },
    {
      "cell_type": "code",
      "execution_count": 21,
      "metadata": {
        "colab": {
          "base_uri": "https://localhost:8080/",
          "height": 564
        },
        "id": "-Y1jcRw5Vlg4",
        "outputId": "c4fa8f1f-d754-4bcb-8484-fceb9847c506"
      },
      "outputs": [
        {
          "data": {
            "image/png": "[encoded data removed]",
            "text/plain": [
              "<Figure size 1000x600 with 1 Axes>"
            ]
          },
          "metadata": {},
          "output_type": "display_data"
        }
      ],
      "source": [
        "import scipy.stats as stats\n",
        "\n",
        "plt.figure(figsize=(10, 6))\n",
        "stats.probplot(residuals, dist=\"norm\", plot=plt)\n",
        "plt.title('Q-Q Plot of Residuals')\n",
        "plt.show()\n"
      ]
    },
    {
      "cell_type": "code",
      "execution_count": 23,
      "metadata": {
        "colab": {
          "base_uri": "https://localhost:8080/",
          "height": 564
        },
        "id": "j5DzSVfQWmZB",
        "outputId": "b7975b6e-0d34-47da-c9f4-c0a7bcdd5197"
      },
      "outputs": [
        {
          "data": {
            "image/png": "[encoded data removed]",
            "text/plain": [
              "<Figure size 1000x600 with 1 Axes>"
            ]
          },
          "metadata": {},
          "output_type": "display_data"
        }
      ],
      "source": [
        "plt.figure(figsize=(10, 6))\n",
        "plt.hist(hourly_dataframe['temperature_2m'], bins=20, color='blue', edgecolor='black')\n",
        "plt.xlabel('Temperature (°C)')\n",
        "plt.ylabel('Frequency')\n",
        "plt.title('Distribution of Temperature Data')\n",
        "plt.show()\n"
      ]
    },
    {
      "cell_type": "code",
      "execution_count": 23,
      "metadata": {
        "id": "xIz9gwumo_sm"
      },
      "outputs": [],
      "source": []
    }
  ],
  "metadata": {
    "accelerator": "GPU",
    "colab": {
      "gpuType": "T4",
      "provenance": []
    },
    "kernelspec": {
      "display_name": "Python 3",
      "name": "python3"
    },
    "language_info": {
      "name": "python"
    }
  },
  "nbformat": 4,
  "nbformat_minor": 0
}

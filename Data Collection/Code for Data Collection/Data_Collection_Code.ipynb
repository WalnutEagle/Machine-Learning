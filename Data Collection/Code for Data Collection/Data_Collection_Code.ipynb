{
  "cells": [
    {
      "cell_type": "markdown",
      "metadata": {
        "id": "JeVlj-dGgKpd"
      },
      "source": [
        "This code below is used for Data Collection ( Weather Data) which will be used in model training"
      ]
    },
    {
      "cell_type": "markdown",
      "metadata": {
        "id": "Fepd5qXIgVDc"
      },
      "source": [
        "#The First Source that I am going to use is the National Oceanic and Atmospheric Administration"
      ]
    },
    {
      "cell_type": "code",
      "execution_count": 3,
      "metadata": {
        "id": "Ot4ddEwml1pL"
      },
      "outputs": [],
      "source": [
        "import requests\n",
        "import pandas as pd\n",
        "import time\n",
        "\n",
        "API_KEY = \"drjxMpniIsPOMcTcYJWqDpGPzmfvIPEm\"\n",
        "headers = {'token': API_KEY}\n",
        "\n",
        "start_dates = [\"2014-01-01\",\"2015-01-01\",\"2016-01-01\",\"2017-01-01\",\"2018-01-01\",\"2019-01-01\",\"2020-01-01\",\"2021-01-01\",\"2022-01-01\",\"2023-01-01\",\"2024-01-01\"]\n",
        "end_dates = [\"2014-12-31\", \"2015-12-31\", \"2016-12-31\", \"2017-12-31\", \"2018-12-31\", \"2019-12-31\", \"2020-12-31\", \"2021-12-31\", \"2022-12-31\", \"2023-12-31\", \"2024-02-01\"]\n",
        "\n",
        "def retrieve_weather_data(station_code):\n",
        "    df_combined = pd.DataFrame()\n",
        "    for i in range(0, 11):\n",
        "        stations = {\"NYC\" :\"GHCND:USW00014732\", \"AUS\": \"GHCND:USW00013904\", \"MIA\": \"GHCND:USW00012839\", \"MDW\": \"GHCND:USW00014819\"}\n",
        "        code = stations[station_code]\n",
        "        print(\"Retrieving data for station:\", station_code)\n",
        "        print(\"From:\", start_dates[i], \"To:\", end_dates[i])\n",
        "        endpoint = \"https://www.ncei.noaa.gov/cdo-web/api/v2/data\"\n",
        "        params = {\n",
        "            'datasetid': 'GHCND',\n",
        "            'datatypeid': 'TMAX,SNOW,PRCP,DEW,TMIN',\n",
        "            'startdate': start_dates[i],\n",
        "            'enddate': end_dates[i],\n",
        "            'stationid': code,\n",
        "            'units': \"metric\",\n",
        "            'limit': 1000\n",
        "        }\n",
        "\n",
        "        response = requests.get(endpoint, headers=headers, params=params)\n",
        "        if response.status_code == 200:\n",
        "            time.sleep(10)  # Adding a delay to avoid hitting rate limits\n",
        "        else:\n",
        "            print(\"Trying again\")\n",
        "            response = requests.get(endpoint, headers=headers, params=params)\n",
        "        data = response.json()\n",
        "        df = pd.json_normalize(data['results'])\n",
        "        df = df.pivot(index='date', columns='datatype', values='value')\n",
        "        df_combined = pd.concat([df_combined, df], axis=0)\n",
        "    filename = station_code + \"_weather_data.csv\" \n",
        "    df_combined.to_csv(filename)"
      ]
    },
    {
      "cell_type": "code",
      "execution_count": 2,
      "metadata": {
        "colab": {
          "base_uri": "https://localhost:8080/"
        },
        "id": "Ex5d-qkLnHWc",
        "outputId": "47631d86-fac7-4df3-bd60-2b4d851aa207"
      },
      "outputs": [
        {
          "name": "stdout",
          "output_type": "stream",
          "text": [
            "Retrieving data for station: NYC\n",
            "From: 2014-01-01 To: 2014-12-31\n",
            "Retrieving data for station: NYC\n",
            "From: 2015-01-01 To: 2015-12-31\n",
            "Retrieving data for station: NYC\n",
            "From: 2016-01-01 To: 2016-12-31\n",
            "Retrieving data for station: NYC\n",
            "From: 2017-01-01 To: 2017-12-31\n",
            "Retrieving data for station: NYC\n",
            "From: 2018-01-01 To: 2018-12-31\n",
            "Retrieving data for station: NYC\n",
            "From: 2019-01-01 To: 2019-12-31\n",
            "Retrieving data for station: NYC\n",
            "From: 2020-01-01 To: 2020-12-31\n",
            "Trying again\n",
            "Retrieving data for station: NYC\n",
            "From: 2021-01-01 To: 2021-12-31\n",
            "Retrieving data for station: NYC\n",
            "From: 2022-01-01 To: 2022-12-31\n",
            "Retrieving data for station: NYC\n",
            "From: 2023-01-01 To: 2023-12-31\n",
            "Retrieving data for station: NYC\n",
            "From: 2024-01-01 To: 2024-12-31\n"
          ]
        }
      ],
      "source": [
        "retrieve_weather_data(\"NYC\")"
      ]
    },
    {
      "cell_type": "code",
      "execution_count": 4,
      "metadata": {
        "colab": {
          "base_uri": "https://localhost:8080/"
        },
        "id": "TULXhLtBnHKD",
        "outputId": "54a58aae-a3ce-4151-d105-16c42ac6e55d"
      },
      "outputs": [
        {
          "name": "stdout",
          "output_type": "stream",
          "text": [
            "Retrieving data for station: AUS\n",
            "From: 2014-01-01 To: 2014-12-31\n",
            "Retrieving data for station: AUS\n",
            "From: 2015-01-01 To: 2015-12-31\n",
            "Retrieving data for station: AUS\n",
            "From: 2016-01-01 To: 2016-12-31\n",
            "Retrieving data for station: AUS\n",
            "From: 2017-01-01 To: 2017-12-31\n",
            "Retrieving data for station: AUS\n",
            "From: 2018-01-01 To: 2018-12-31\n",
            "Retrieving data for station: AUS\n",
            "From: 2019-01-01 To: 2019-12-31\n",
            "Retrieving data for station: AUS\n",
            "From: 2020-01-01 To: 2020-12-31\n",
            "Retrieving data for station: AUS\n",
            "From: 2021-01-01 To: 2021-12-31\n",
            "Retrieving data for station: AUS\n",
            "From: 2022-01-01 To: 2022-12-31\n",
            "Retrieving data for station: AUS\n",
            "From: 2023-01-01 To: 2023-12-31\n",
            "Retrieving data for station: AUS\n",
            "From: 2024-01-01 To: 2024-02-01\n"
          ]
        }
      ],
      "source": [
        "retrieve_weather_data(\"AUS\")"
      ]
    },
    {
      "cell_type": "code",
      "execution_count": 5,
      "metadata": {
        "colab": {
          "base_uri": "https://localhost:8080/"
        },
        "id": "U6lyPhU6nHDC",
        "outputId": "8722903e-08e9-4c4f-b5f7-e28423816035"
      },
      "outputs": [
        {
          "name": "stdout",
          "output_type": "stream",
          "text": [
            "Retrieving data for station: MIA\n",
            "From: 2014-01-01 To: 2014-12-31\n",
            "Retrieving data for station: MIA\n",
            "From: 2015-01-01 To: 2015-12-31\n",
            "Retrieving data for station: MIA\n",
            "From: 2016-01-01 To: 2016-12-31\n",
            "Retrieving data for station: MIA\n",
            "From: 2017-01-01 To: 2017-12-31\n",
            "Retrieving data for station: MIA\n",
            "From: 2018-01-01 To: 2018-12-31\n",
            "Retrieving data for station: MIA\n",
            "From: 2019-01-01 To: 2019-12-31\n",
            "Retrieving data for station: MIA\n",
            "From: 2020-01-01 To: 2020-12-31\n",
            "Retrieving data for station: MIA\n",
            "From: 2021-01-01 To: 2021-12-31\n",
            "Retrieving data for station: MIA\n",
            "From: 2022-01-01 To: 2022-12-31\n",
            "Retrieving data for station: MIA\n",
            "From: 2023-01-01 To: 2023-12-31\n",
            "Retrieving data for station: MIA\n",
            "From: 2024-01-01 To: 2024-02-01\n"
          ]
        }
      ],
      "source": [
        "retrieve_weather_data(\"MIA\")"
      ]
    },
    {
      "cell_type": "code",
      "execution_count": 6,
      "metadata": {
        "colab": {
          "base_uri": "https://localhost:8080/"
        },
        "id": "DOgQ5b8GnG8R",
        "outputId": "3a6ceaf0-d4a0-40f4-bf2a-f7edad73e08b"
      },
      "outputs": [
        {
          "name": "stdout",
          "output_type": "stream",
          "text": [
            "Retrieving data for station: MDW\n",
            "From: 2014-01-01 To: 2014-12-31\n",
            "Retrieving data for station: MDW\n",
            "From: 2015-01-01 To: 2015-12-31\n",
            "Retrieving data for station: MDW\n",
            "From: 2016-01-01 To: 2016-12-31\n",
            "Retrieving data for station: MDW\n",
            "From: 2017-01-01 To: 2017-12-31\n",
            "Retrieving data for station: MDW\n",
            "From: 2018-01-01 To: 2018-12-31\n",
            "Retrieving data for station: MDW\n",
            "From: 2019-01-01 To: 2019-12-31\n",
            "Retrieving data for station: MDW\n",
            "From: 2020-01-01 To: 2020-12-31\n",
            "Retrieving data for station: MDW\n",
            "From: 2021-01-01 To: 2021-12-31\n",
            "Retrieving data for station: MDW\n",
            "From: 2022-01-01 To: 2022-12-31\n",
            "Retrieving data for station: MDW\n",
            "From: 2023-01-01 To: 2023-12-31\n",
            "Retrieving data for station: MDW\n",
            "From: 2024-01-01 To: 2024-02-01\n"
          ]
        }
      ],
      "source": [
        "retrieve_weather_data(\"MDW\")"
      ]
    },
    {
      "cell_type": "markdown",
      "metadata": {
        "id": "Kc3cwEngna9F"
      },
      "source": [
        "# Now I use 2nd Data source which is the Open-Meteo"
      ]
    },
    {
      "cell_type": "code",
      "execution_count": 4,
      "metadata": {
        "colab": {
          "base_uri": "https://localhost:8080/"
        },
        "id": "L0baXga2n0Mj",
        "outputId": "61159664-9851-4c10-af08-8bee1fdaead1"
      },
      "outputs": [
        {
          "name": "stdout",
          "output_type": "stream",
          "text": [
            "Requirement already satisfied: openmeteo-requests in /usr/local/lib/python3.10/dist-packages (1.2.0)\n",
            "Requirement already satisfied: openmeteo-sdk>=1.4.0 in /usr/local/lib/python3.10/dist-packages (from openmeteo-requests) (1.11.3)\n",
            "Requirement already satisfied: requests in /usr/local/lib/python3.10/dist-packages (from openmeteo-requests) (2.31.0)\n",
            "Requirement already satisfied: flatbuffers>=24.0.0 in /usr/local/lib/python3.10/dist-packages (from openmeteo-sdk>=1.4.0->openmeteo-requests) (24.3.25)\n",
            "Requirement already satisfied: charset-normalizer<4,>=2 in /usr/local/lib/python3.10/dist-packages (from requests->openmeteo-requests) (3.3.2)\n",
            "Requirement already satisfied: idna<4,>=2.5 in /usr/local/lib/python3.10/dist-packages (from requests->openmeteo-requests) (3.6)\n",
            "Requirement already satisfied: urllib3<3,>=1.21.1 in /usr/local/lib/python3.10/dist-packages (from requests->openmeteo-requests) (2.0.7)\n",
            "Requirement already satisfied: certifi>=2017.4.17 in /usr/local/lib/python3.10/dist-packages (from requests->openmeteo-requests) (2024.2.2)\n",
            "Requirement already satisfied: requests-cache in /usr/local/lib/python3.10/dist-packages (1.2.0)\n",
            "Requirement already satisfied: retry-requests in /usr/local/lib/python3.10/dist-packages (2.0.0)\n",
            "Requirement already satisfied: numpy in /usr/local/lib/python3.10/dist-packages (1.25.2)\n",
            "Requirement already satisfied: pandas in /usr/local/lib/python3.10/dist-packages (2.0.3)\n",
            "Requirement already satisfied: attrs>=21.2 in /usr/local/lib/python3.10/dist-packages (from requests-cache) (23.2.0)\n",
            "Requirement already satisfied: cattrs>=22.2 in /usr/local/lib/python3.10/dist-packages (from requests-cache) (23.2.3)\n",
            "Requirement already satisfied: platformdirs>=2.5 in /usr/local/lib/python3.10/dist-packages (from requests-cache) (4.2.0)\n",
            "Requirement already satisfied: requests>=2.22 in /usr/local/lib/python3.10/dist-packages (from requests-cache) (2.31.0)\n",
            "Requirement already satisfied: url-normalize>=1.4 in /usr/local/lib/python3.10/dist-packages (from requests-cache) (1.4.3)\n",
            "Requirement already satisfied: urllib3>=1.25.5 in /usr/local/lib/python3.10/dist-packages (from requests-cache) (2.0.7)\n",
            "Requirement already satisfied: python-dateutil>=2.8.2 in /usr/local/lib/python3.10/dist-packages (from pandas) (2.8.2)\n",
            "Requirement already satisfied: pytz>=2020.1 in /usr/local/lib/python3.10/dist-packages (from pandas) (2023.4)\n",
            "Requirement already satisfied: tzdata>=2022.1 in /usr/local/lib/python3.10/dist-packages (from pandas) (2024.1)\n",
            "Requirement already satisfied: exceptiongroup>=1.1.1 in /usr/local/lib/python3.10/dist-packages (from cattrs>=22.2->requests-cache) (1.2.0)\n",
            "Requirement already satisfied: typing-extensions!=4.6.3,>=4.1.0 in /usr/local/lib/python3.10/dist-packages (from cattrs>=22.2->requests-cache) (4.10.0)\n",
            "Requirement already satisfied: six>=1.5 in /usr/local/lib/python3.10/dist-packages (from python-dateutil>=2.8.2->pandas) (1.16.0)\n",
            "Requirement already satisfied: charset-normalizer<4,>=2 in /usr/local/lib/python3.10/dist-packages (from requests>=2.22->requests-cache) (3.3.2)\n",
            "Requirement already satisfied: idna<4,>=2.5 in /usr/local/lib/python3.10/dist-packages (from requests>=2.22->requests-cache) (3.6)\n",
            "Requirement already satisfied: certifi>=2017.4.17 in /usr/local/lib/python3.10/dist-packages (from requests>=2.22->requests-cache) (2024.2.2)\n",
            "Coordinates 41.8629150390625°N -87.64877319335938°E\n",
            "Elevation 179.0 m asl\n",
            "Timezone None None\n",
            "Timezone difference to GMT+0 0 s\n",
            "                           date  temperature_2m  relative_humidity_2m  \\\n",
            "0     2014-01-01 00:00:00+00:00         -9.2935             72.978630   \n",
            "1     2014-01-01 01:00:00+00:00         -9.3435             74.764641   \n",
            "2     2014-01-01 02:00:00+00:00         -9.3435             76.291283   \n",
            "3     2014-01-01 03:00:00+00:00         -9.3435             78.159935   \n",
            "4     2014-01-01 04:00:00+00:00         -9.1935             79.133423   \n",
            "...                         ...             ...                   ...   \n",
            "87667 2024-01-01 19:00:00+00:00          1.3565             60.096527   \n",
            "87668 2024-01-01 20:00:00+00:00          1.3565             59.189873   \n",
            "87669 2024-01-01 21:00:00+00:00          1.1065             58.452694   \n",
            "87670 2024-01-01 22:00:00+00:00          0.1065             66.264175   \n",
            "87671 2024-01-01 23:00:00+00:00         -1.3435             72.540947   \n",
            "\n",
            "       dew_point_2m  precipitation  rain  snowfall  wind_speed_10m  \\\n",
            "0        -13.243500            0.2   0.0      0.14        2.305125   \n",
            "1        -12.993500            0.2   0.0      0.14        3.600000   \n",
            "2        -12.743500            0.3   0.0      0.21        5.315336   \n",
            "3        -12.443500            0.4   0.0      0.28        6.849467   \n",
            "4        -12.143499            0.4   0.0      0.28       10.390226   \n",
            "...             ...            ...   ...       ...             ...   \n",
            "87667     -5.543500            0.0   0.0      0.00       14.512064   \n",
            "87668     -5.743500            0.0   0.0      0.00       14.830076   \n",
            "87669     -6.143500            0.0   0.0      0.00       14.417988   \n",
            "87670     -5.443500            0.0   0.0      0.00       13.339445   \n",
            "87671     -5.643500            0.0   0.0      0.00       12.371645   \n",
            "\n",
            "       wind_speed_100m  wind_gusts_10m  \n",
            "0             2.305125       14.400000  \n",
            "1             3.893995       14.040000  \n",
            "2             6.287130       13.320000  \n",
            "3             8.280000       15.840000  \n",
            "4            13.207634       19.799999  \n",
            "...                ...             ...  \n",
            "87667        17.373497       24.840000  \n",
            "87668        17.698677       25.199999  \n",
            "87669        17.654688       24.480000  \n",
            "87670        19.443333       22.319998  \n",
            "87671        20.598795       18.359999  \n",
            "\n",
            "[87672 rows x 10 columns]\n"
          ]
        }
      ],
      "source": [
        "!pip install openmeteo-requests\n",
        "!pip install requests-cache retry-requests numpy pandas\n",
        "\n",
        "import openmeteo_requests\n",
        "\n",
        "import requests_cache\n",
        "import pandas as pd\n",
        "from retry_requests import retry\n",
        "\n",
        "\n",
        "cache_session = requests_cache.CachedSession('.cache', expire_after = -1)\n",
        "retry_session = retry(cache_session, retries = 5, backoff_factor = 0.2)\n",
        "openmeteo = openmeteo_requests.Client(session = retry_session)\n",
        "\n",
        "url = \"https://archive-api.open-meteo.com/v1/archive\"\n",
        "params = {\n",
        "\t\"latitude\": [41.85],\n",
        "\t\"longitude\": [-87.65],\n",
        "\t\"start_date\": \"2014-01-01\",\n",
        "\t\"end_date\": \"2024-01-01\",\n",
        "\t\"hourly\": [\"temperature_2m\", \"relative_humidity_2m\", \"dew_point_2m\", \"precipitation\", \"rain\", \"snowfall\", \"wind_speed_10m\", \"wind_speed_100m\", \"wind_gusts_10m\"]\n",
        "}\n",
        "responses = openmeteo.weather_api(url, params=params)\n",
        "\n",
        "response = responses[0]\n",
        "print(f\"Coordinates {response.Latitude()}°N {response.Longitude()}°E\")\n",
        "print(f\"Elevation {response.Elevation()} m asl\")\n",
        "print(f\"Timezone {response.Timezone()} {response.TimezoneAbbreviation()}\")\n",
        "print(f\"Timezone difference to GMT+0 {response.UtcOffsetSeconds()} s\")\n",
        "\n",
        "hourly = response.Hourly()\n",
        "hourly_temperature_2m = hourly.Variables(0).ValuesAsNumpy()\n",
        "hourly_relative_humidity_2m = hourly.Variables(1).ValuesAsNumpy()\n",
        "hourly_dew_point_2m = hourly.Variables(2).ValuesAsNumpy()\n",
        "hourly_precipitation = hourly.Variables(3).ValuesAsNumpy()\n",
        "hourly_rain = hourly.Variables(4).ValuesAsNumpy()\n",
        "hourly_snowfall = hourly.Variables(5).ValuesAsNumpy()\n",
        "hourly_wind_speed_10m = hourly.Variables(6).ValuesAsNumpy()\n",
        "hourly_wind_speed_100m = hourly.Variables(7).ValuesAsNumpy()\n",
        "hourly_wind_gusts_10m = hourly.Variables(8).ValuesAsNumpy()\n",
        "\n",
        "hourly_data = {\"date\": pd.date_range(\n",
        "\tstart = pd.to_datetime(hourly.Time(), unit = \"s\", utc = True),\n",
        "\tend = pd.to_datetime(hourly.TimeEnd(), unit = \"s\", utc = True),\n",
        "\tfreq = pd.Timedelta(seconds = hourly.Interval()),\n",
        "\tinclusive = \"left\"\n",
        ")}\n",
        "hourly_data[\"temperature_2m\"] = hourly_temperature_2m\n",
        "hourly_data[\"relative_humidity_2m\"] = hourly_relative_humidity_2m\n",
        "hourly_data[\"dew_point_2m\"] = hourly_dew_point_2m\n",
        "hourly_data[\"precipitation\"] = hourly_precipitation\n",
        "hourly_data[\"rain\"] = hourly_rain\n",
        "hourly_data[\"snowfall\"] = hourly_snowfall\n",
        "hourly_data[\"wind_speed_10m\"] = hourly_wind_speed_10m\n",
        "hourly_data[\"wind_speed_100m\"] = hourly_wind_speed_100m\n",
        "hourly_data[\"wind_gusts_10m\"] = hourly_wind_gusts_10m\n",
        "\n",
        "hourly_dataframe = pd.DataFrame(data = hourly_data)\n",
        "print(hourly_dataframe)\n",
        "\n",
        "hourly_dataframe.to_csv('CHI', index=False)\n"
      ]
    },
    {
      "cell_type": "code",
      "execution_count": null,
      "metadata": {
        "id": "k7GBghOiRlxH"
      },
      "outputs": [],
      "source": [
        "\t\"latitude\": [40.7143, 30.2672, 25.7743, 41.85],\n",
        "\t\"longitude\": [-74.006, -97.7431, -80.1937, -87.65],\n",
        "  #Just keeping the cordinates here to get each data seperately and then running the code for each of these coordinates"
      ]
    },
    {
      "cell_type": "markdown",
      "metadata": {
        "id": "MtRZfimtrw6o"
      },
      "source": [
        "#NOW I get the data from the 3rd Source which is MeteoStat which uses a Rapid Api"
      ]
    },
    {
      "cell_type": "code",
      "execution_count": 1,
      "metadata": {
        "colab": {
          "base_uri": "https://localhost:8080/"
        },
        "id": "jKoalsshrK8I",
        "outputId": "84bdd2fe-db69-447e-d4f5-f38a8a3bec58"
      },
      "outputs": [
        {
          "name": "stdout",
          "output_type": "stream",
          "text": [
            "Data saved to 72503_historical_weather.csv\n",
            "Data saved to 72534_historical_weather.csv\n",
            "Data saved to 72254_historical_weather.csv\n",
            "Data saved to 72202_historical_weather.csv\n"
          ]
        }
      ],
      "source": [
        "import requests\n",
        "import pandas as pd\n",
        "\n",
        "def get_historical_data(station):\n",
        "    url = \"https://meteostat.p.rapidapi.com/stations/monthly\"\n",
        "    querystring = {\"station\": str(station), \"start\": \"2014-01-01\", \"end\": \"2024-01-01\"}\n",
        "    headers = {\n",
        "        \"X-RapidAPI-Key\": \"5628474eafmshcbf50c1e17f9322p1079cbjsn6c64d291349f\",\n",
        "        \"X-RapidAPI-Host\": \"meteostat.p.rapidapi.com\"\n",
        "    }\n",
        "    response = requests.get(url, headers=headers, params=querystring)\n",
        "    data = response.json()\n",
        "\n",
        "    if 'data' in data:\n",
        "        df = pd.DataFrame(data['data'])\n",
        "        filename = f\"{station}_historical_weather.csv\"\n",
        "        df.to_csv(filename, index=False)\n",
        "        print(f\"Data saved to {filename}\")\n",
        "    else:\n",
        "        print(\"No data found for the specified station.\")\n",
        "\n",
        "\n",
        "for i in [\"72503\",\"72534\",\"72254\",\"72202\"]:\n",
        "    get_historical_data(i)"
      ]
    },
    {
      "cell_type": "markdown",
      "metadata": {
        "id": "ECJTeytlwAXJ"
      },
      "source": [
        "#Now obtaining the data from source 4 which is World Weather Online which give a free trail of their premium api without requirement of credit or debit card information."
      ]
    },
    {
      "cell_type": "code",
      "execution_count": 1,
      "metadata": {
        "colab": {
          "base_uri": "https://localhost:8080/"
        },
        "id": "n10nMy7ywKKK",
        "outputId": "d18f2a66-39c0-4943-ea23-4fc4aa99a36a"
      },
      "outputs": [
        {
          "name": "stdout",
          "output_type": "stream",
          "text": [
            "Data saved to central_park,_new_york_historical_weather.csv for location: Central Park, New York\n",
            "Data saved to austin,_texas_historical_weather.csv for location: Austin, Texas\n",
            "Data saved to chicago_historical_weather.csv for location: Chicago\n",
            "Data saved to miami,_florida_historical_weather.csv for location: Miami, Florida\n"
          ]
        }
      ],
      "source": [
        "import requests\n",
        "import pandas as pd\n",
        "\n",
        "def get_past_weather_data(locations):\n",
        "    url = \"https://api.worldweatheronline.com/premium/v1/past-weather.ashx\"\n",
        "    api_key = \"ff2ba107ccf7467787e23740240304\"\n",
        "    start_date = \"2014-01-01\"\n",
        "    end_date = \"2024-01-01\"\n",
        "    time_interval = \"1\"\n",
        "    query_params = {\n",
        "        \"key\": api_key,\n",
        "        \"date\": start_date,\n",
        "        \"enddate\": end_date,\n",
        "        \"tp\": time_interval,\n",
        "        \"format\": \"json\"\n",
        "    }\n",
        "\n",
        "    for location in locations:\n",
        "        query_params['q'] = location\n",
        "        response = requests.get(url, params=query_params)\n",
        "        data = response.json()\n",
        "\n",
        "        if 'data' in data:\n",
        "            df = pd.DataFrame(data['data']['weather'])\n",
        "            filename = f\"{location.replace(' ', '_').lower()}_historical_weather.csv\"\n",
        "            df.to_csv(filename, index=False)\n",
        "            print(f\"Data saved to {filename} for location: {location}\")\n",
        "        else:\n",
        "            print(f\"No data found for the specified location: {location}\")\n",
        "\n",
        "locations = [\"Central Park, New York\", \"Austin, Texas\", \"Chicago\", \"Miami, Florida\"]\n",
        "get_past_weather_data(locations)\n"
      ]
    },
    {
      "cell_type": "markdown",
      "metadata": {
        "id": "c03Sm02DwGLX"
      },
      "source": [
        "#Obtaining Data from source 5 which is Purdue Climate Data access portal"
      ]
    },
    {
      "cell_type": "code",
      "execution_count": 1,
      "metadata": {
        "colab": {
          "base_uri": "https://localhost:8080/"
        },
        "id": "66RMYUtr33XA",
        "outputId": "8f509997-13ba-44fd-d31a-40cf8a25180e"
      },
      "outputs": [
        {
          "name": "stdout",
          "output_type": "stream",
          "text": [
            "https://cli-dap.mrcc.purdue.edu/station/klga/data/?start=20140101&end=20240101&elem=AVA&elem=DEW&elem=PRE&elem=MXW&interval=dly&reduction=max\n"
          ]
        }
      ],
      "source": [
        "import requests\n",
        "import pandas as pd\n",
        "\n",
        "def fetch_weather_data(station):\n",
        "    base_url = \"https://cli-dap.mrcc.purdue.edu/\"\n",
        "    endpoint = f\"{base_url}station/{station}/data/?start=20140101&end=20240101&elem=AVA&elem=DEW&elem=PRE&elem=MXW&interval=dly&reduction=max\"\n",
        "    print(endpoint)\n",
        "    response = requests.get(endpoint)\n",
        "    data = response.json()\n",
        "    df = pd.json_normalize(data)\n",
        "    df_transposed = df.T\n",
        "    df_transposed['Date'] = df_transposed.index\n",
        "    df_transposed[['Date2', 'Feature']] = df_transposed['Date'].str.split('.', expand=True)\n",
        "    df_pivoted = df_transposed.pivot(index='Date2', columns='Feature', values=0)\n",
        "    df_pivoted.to_csv(\"new york\",index=False)\n",
        "\n",
        "fetch_weather_data('klga')"
      ]
    },
    {
      "cell_type": "code",
      "execution_count": 2,
      "metadata": {
        "id": "-D99B4KABy_M"
      },
      "outputs": [],
      "source": [
        "def fetch_weather_data(station):\n",
        "    base_url = \"https://cli-dap.mrcc.purdue.edu/\"\n",
        "    endpoint = f\"{base_url}station/{station}/data/?start=20140101&end=20240101&elem=AVA&elem=DEW&elem=PRE&elem=MXW&interval=dly&reduction=max\"\n",
        "    #print(endpoint)\n",
        "    response = requests.get(endpoint)\n",
        "    data = response.json()\n",
        "    df = pd.json_normalize(data)\n",
        "    df_transposed = df.T\n",
        "    df_transposed['Date'] = df_transposed.index\n",
        "    df_transposed[['Date2', 'Feature']] = df_transposed['Date'].str.split('.', expand=True)\n",
        "    df_pivoted = df_transposed.pivot(index='Date2', columns='Feature', values=0)\n",
        "    df_pivoted.to_csv(\"austin\",index=False)\n",
        "\n",
        "fetch_weather_data('kaus')"
      ]
    },
    {
      "cell_type": "code",
      "execution_count": 4,
      "metadata": {
        "id": "js7wkaouBy6g"
      },
      "outputs": [],
      "source": [
        "def fetch_weather_data(station):\n",
        "    base_url = \"https://cli-dap.mrcc.purdue.edu/\"\n",
        "    endpoint = f\"{base_url}station/{station}/data/?start=20140101&end=20240101&elem=AVA&elem=DEW&elem=PRE&elem=MXW&interval=dly&reduction=max\"\n",
        "    #print(endpoint)\n",
        "    response = requests.get(endpoint)\n",
        "    data = response.json()\n",
        "    df = pd.json_normalize(data)\n",
        "    df_transposed = df.T\n",
        "    df_transposed['Date'] = df_transposed.index\n",
        "    df_transposed[['Date2', 'Feature']] = df_transposed['Date'].str.split('.', expand=True)\n",
        "    df_pivoted = df_transposed.pivot(index='Date2', columns='Feature', values=0)\n",
        "    df_pivoted.to_csv(\"chicago\",index=False)\n",
        "\n",
        "fetch_weather_data('kmdw')"
      ]
    },
    {
      "cell_type": "code",
      "execution_count": 1,
      "metadata": {
        "id": "NIIK08eQBy28"
      },
      "outputs": [],
      "source": [
        "import requests\n",
        "import pandas as pd\n",
        "def fetch_weather_data(station):\n",
        "    base_url = \"https://cli-dap.mrcc.purdue.edu/\"\n",
        "    endpoint = f\"{base_url}station/{station}/data/?start=20140101&end=20240101&elem=AVA&elem=DEW&elem=PRE&elem=MXW&interval=dly&reduction=max\"\n",
        "    #print(endpoint)\n",
        "    response = requests.get(endpoint)\n",
        "    data = response.json()\n",
        "    df = pd.json_normalize(data)\n",
        "    df_transposed = df.T\n",
        "    df_transposed['Date'] = df_transposed.index\n",
        "    df_transposed[['Date2', 'Feature']] = df_transposed['Date'].str.split('.', expand=True)\n",
        "    df_pivoted = df_transposed.pivot(index='Date2', columns='Feature', values=0)\n",
        "    df_pivoted.to_csv(\"miami\",index=False)\n",
        "\n",
        "fetch_weather_data('kmia')"
      ]
    },
    {
      "cell_type": "code",
      "execution_count": null,
      "metadata": {
        "id": "oWqh9mNLX2UR"
      },
      "outputs": [],
      "source": []
    }
  ],
  "metadata": {
    "colab": {
      "provenance": []
    },
    "kernelspec": {
      "display_name": "Python 3",
      "name": "python3"
    },
    "language_info": {
      "name": "python"
    }
  },
  "nbformat": 4,
  "nbformat_minor": 0
}
